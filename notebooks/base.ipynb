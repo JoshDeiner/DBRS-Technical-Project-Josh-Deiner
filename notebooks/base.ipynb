{
 "cells": [
  {
   "cell_type": "code",
   "execution_count": 1,
   "metadata": {},
   "outputs": [],
   "source": [
    "import requests\n",
    "import pandas as pd\n",
    "import numpy as np"
   ]
  },
  {
   "cell_type": "code",
   "execution_count": 2,
   "metadata": {},
   "outputs": [],
   "source": [
    "def get_main_city_data(path='../resources/311_data_nyc_open_data_year_2017.xlsx'):\n",
    "    city_data = pd.read_excel(path).drop_duplicates(keep='first')\n",
    "    main_data_df = pd.DataFrame( # drop nas\n",
    "         {\n",
    "            \"Unique Key\"    : city_data[\"Unique Key\"],\n",
    "            \"Created Date\"  : city_data[\"Created Date\"],\n",
    "            \"Complaint Type\": city_data[\"Complaint Type\"],\n",
    "            \"Zip\"           : city_data[\"Incident Zip\"],\n",
    "            \"Status\"        : city_data[\"Status\"],\n",
    "            \"Borough\"       : city_data[\"Borough\"]\n",
    "         }\n",
    "    )\n",
    "    return main_data_df"
   ]
  },
  {
   "cell_type": "code",
   "execution_count": 3,
   "metadata": {},
   "outputs": [],
   "source": [
    "def get_city_zip_data(path='../resources/Zips2010_90.xlsx'):\n",
    "    zip_data = pd.read_excel(path).drop_duplicates(keep='first')\n",
    "    zip_df = pd.DataFrame(\n",
    "        {\n",
    "            \"Zip\"           : zip_data[\"Incident Zips\"],\n",
    "            \"Population\"    : zip_data[\"Population\"]\n",
    "        }\n",
    "    )\n",
    "    return zip_df"
   ]
  },
  {
   "cell_type": "code",
   "execution_count": 4,
   "metadata": {},
   "outputs": [],
   "source": [
    "def get_top_complaints(main_data_df, count=10):\n",
    "    popular_complaints = pd.Series(main_data_df.groupby('Complaint Type').size().sort_values(ascending=False))\n",
    "    if count > len(popular_complaints):\n",
    "        print(\"Count cannot be longer than the number of complaints\")\n",
    "        count = len(popular_complaints)\n",
    "    if count == -1:\n",
    "        return pd.Series(popular_complaints)\n",
    "    else:\n",
    "        return pd.Series(popular_complaints[:count])"
   ]
  },
  {
   "cell_type": "code",
   "execution_count": 5,
   "metadata": {},
   "outputs": [],
   "source": [
    "def get_complaints_counter(complaints):\n",
    "    complaints_counter = {}\n",
    "    for complaint in complaints.keys():\n",
    "        complaints_counter[complaint] = 0\n",
    "    return complaints_counter"
   ]
  },
  {
   "cell_type": "code",
   "execution_count": 6,
   "metadata": {},
   "outputs": [],
   "source": [
    "def get_key_complaints(list, complaints):\n",
    "    complaints_table = {}\n",
    "    for elem in list:\n",
    "        complaints_table[elem] = get_complaints_counter(complaints)\n",
    "    return complaints_table"
   ]
  },
  {
   "cell_type": "code",
   "execution_count": 7,
   "metadata": {},
   "outputs": [],
   "source": [
    "if __name__ == \"__main__\":\n",
    "\n",
    "    # Example for getting the main data in a dataframe\n",
    "    main_data_df = get_main_city_data()\n",
    "\n",
    "    # Examle for getting the zip data in a dataframe\n",
    "    zip_data_df = get_city_zip_data()"
   ]
  }
 ],
 "metadata": {
  "kernelspec": {
   "display_name": "Python 3",
   "language": "python",
   "name": "python3"
  },
  "language_info": {
   "codemirror_mode": {
    "name": "ipython",
    "version": 3
   },
   "file_extension": ".py",
   "mimetype": "text/x-python",
   "name": "python",
   "nbconvert_exporter": "python",
   "pygments_lexer": "ipython3",
   "version": "3.7.1"
  }
 },
 "nbformat": 4,
 "nbformat_minor": 2
}
