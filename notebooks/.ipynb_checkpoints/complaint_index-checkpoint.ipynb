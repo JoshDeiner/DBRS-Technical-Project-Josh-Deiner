{
 "cells": [
  {
   "cell_type": "code",
   "execution_count": 15,
   "metadata": {},
   "outputs": [],
   "source": [
    "import pandas as pd\n",
    "import numpy as np\n",
    "import import_ipynb\n",
    "\n",
    "\n",
    "\n",
    "import base\n",
    "from base import get_main_city_data, get_city_zip_data, get_top_complaints\n",
    "\n",
    "import boroughs\n",
    "from boroughs import get_borough_zipcodes, calculate_borough_complainers\n",
    "\n"
   ]
  },
  {
   "cell_type": "code",
   "execution_count": 19,
   "metadata": {},
   "outputs": [
    {
     "ename": "ImportError",
     "evalue": "cannot import name 'get_zipcode_populations' from 'zipcodes' (zipcodes.ipynb)",
     "output_type": "error",
     "traceback": [
      "\u001b[0;31m---------------------------------------------------------------------------\u001b[0m",
      "\u001b[0;31mImportError\u001b[0m                               Traceback (most recent call last)",
      "\u001b[0;32m<ipython-input-19-b2a07448e8a8>\u001b[0m in \u001b[0;36m<module>\u001b[0;34m\u001b[0m\n\u001b[1;32m      1\u001b[0m \u001b[0;34m\u001b[0m\u001b[0m\n\u001b[0;32m----> 2\u001b[0;31m \u001b[0;32mfrom\u001b[0m \u001b[0mzipcodes\u001b[0m \u001b[0;32mimport\u001b[0m \u001b[0mget_zipcode_populations\u001b[0m\u001b[0;34m\u001b[0m\u001b[0;34m\u001b[0m\u001b[0m\n\u001b[0m",
      "\u001b[0;31mImportError\u001b[0m: cannot import name 'get_zipcode_populations' from 'zipcodes' (zipcodes.ipynb)"
     ]
    }
   ],
   "source": [
    "import zipcode\n",
    "from zipcodes import get_zipcode_populations"
   ]
  },
  {
   "cell_type": "code",
   "execution_count": 18,
   "metadata": {},
   "outputs": [],
   "source": [
    "def count_borough_population(zip_data_df, borough_zips): # could possibly make this loop smaller\n",
    "    borough_population_counter = {}\n",
    "\n",
    "    valid_zipcodes = []\n",
    "    for borough in borough_zips:\n",
    "        valid_zipcodes.extend(borough_zips[borough])\n",
    "\n",
    "    zipcodes_population_table = get_zipcode_populations(zip_data_df, valid_zipcodes)\n",
    "\n",
    "    for borough in borough_zips.keys():\n",
    "        if not borough in borough_population_counter.keys():\n",
    "            borough_population_counter[borough] = 0\n",
    "        for zipcode in borough_zips[borough]:\n",
    "            if not zipcode in zipcodes_population_table.keys():\n",
    "                continue\n",
    "            borough_population_counter[borough] += zipcodes_population_table[zipcode]\n",
    "\n",
    "    return borough_population_counter"
   ]
  },
  {
   "cell_type": "code",
   "execution_count": 8,
   "metadata": {},
   "outputs": [
    {
     "ename": "NameError",
     "evalue": "name 'get_zipcode_populations' is not defined",
     "output_type": "error",
     "traceback": [
      "\u001b[0;31m---------------------------------------------------------------------------\u001b[0m",
      "\u001b[0;31mNameError\u001b[0m                                 Traceback (most recent call last)",
      "\u001b[0;32m<ipython-input-8-b7c3c3cb7f83>\u001b[0m in \u001b[0;36m<module>\u001b[0;34m\u001b[0m\n\u001b[1;32m      7\u001b[0m     \u001b[0;31m# Get population of each borough\u001b[0m\u001b[0;34m\u001b[0m\u001b[0;34m\u001b[0m\u001b[0;34m\u001b[0m\u001b[0m\n\u001b[1;32m      8\u001b[0m     \u001b[0mborough_zipcodes\u001b[0m \u001b[0;34m=\u001b[0m \u001b[0mget_borough_zipcodes\u001b[0m\u001b[0;34m(\u001b[0m\u001b[0mmain_data_df\u001b[0m\u001b[0;34m)\u001b[0m\u001b[0;34m\u001b[0m\u001b[0;34m\u001b[0m\u001b[0m\n\u001b[0;32m----> 9\u001b[0;31m     \u001b[0mborough_populations\u001b[0m \u001b[0;34m=\u001b[0m \u001b[0mcount_borough_population\u001b[0m\u001b[0;34m(\u001b[0m\u001b[0mzip_data_df\u001b[0m\u001b[0;34m,\u001b[0m \u001b[0mborough_zipcodes\u001b[0m\u001b[0;34m)\u001b[0m\u001b[0;34m\u001b[0m\u001b[0;34m\u001b[0m\u001b[0m\n\u001b[0m\u001b[1;32m     10\u001b[0m     \u001b[0mprint\u001b[0m\u001b[0;34m(\u001b[0m\u001b[0mborough_populations\u001b[0m\u001b[0;34m)\u001b[0m\u001b[0;34m\u001b[0m\u001b[0;34m\u001b[0m\u001b[0m\n\u001b[1;32m     11\u001b[0m \u001b[0;34m\u001b[0m\u001b[0m\n",
      "\u001b[0;32m<ipython-input-7-45dce1ec16d9>\u001b[0m in \u001b[0;36mcount_borough_population\u001b[0;34m(zip_data_df, borough_zips)\u001b[0m\n\u001b[1;32m      6\u001b[0m         \u001b[0mvalid_zipcodes\u001b[0m\u001b[0;34m.\u001b[0m\u001b[0mextend\u001b[0m\u001b[0;34m(\u001b[0m\u001b[0mborough_zips\u001b[0m\u001b[0;34m[\u001b[0m\u001b[0mborough\u001b[0m\u001b[0;34m]\u001b[0m\u001b[0;34m)\u001b[0m\u001b[0;34m\u001b[0m\u001b[0;34m\u001b[0m\u001b[0m\n\u001b[1;32m      7\u001b[0m \u001b[0;34m\u001b[0m\u001b[0m\n\u001b[0;32m----> 8\u001b[0;31m     \u001b[0mzipcodes_population_table\u001b[0m \u001b[0;34m=\u001b[0m \u001b[0mget_zipcode_populations\u001b[0m\u001b[0;34m(\u001b[0m\u001b[0mzip_data_df\u001b[0m\u001b[0;34m,\u001b[0m \u001b[0mvalid_zipcodes\u001b[0m\u001b[0;34m)\u001b[0m\u001b[0;34m\u001b[0m\u001b[0;34m\u001b[0m\u001b[0m\n\u001b[0m\u001b[1;32m      9\u001b[0m \u001b[0;34m\u001b[0m\u001b[0m\n\u001b[1;32m     10\u001b[0m     \u001b[0;32mfor\u001b[0m \u001b[0mborough\u001b[0m \u001b[0;32min\u001b[0m \u001b[0mborough_zips\u001b[0m\u001b[0;34m.\u001b[0m\u001b[0mkeys\u001b[0m\u001b[0;34m(\u001b[0m\u001b[0;34m)\u001b[0m\u001b[0;34m:\u001b[0m\u001b[0;34m\u001b[0m\u001b[0;34m\u001b[0m\u001b[0m\n",
      "\u001b[0;31mNameError\u001b[0m: name 'get_zipcode_populations' is not defined"
     ]
    }
   ],
   "source": [
    "if __name__ == \"__main__\":\n",
    "    # Example for getting the main data in a dataframe\n",
    "\n",
    "    main_data_df = get_main_city_data()\n",
    "    zip_data_df = get_city_zip_data()\n",
    "\n",
    "    # Get population of each borough\n",
    "    borough_zipcodes = get_borough_zipcodes(main_data_df)\n",
    "    borough_populations = count_borough_population(zip_data_df, borough_zipcodes)\n",
    "    print(borough_populations)\n",
    "\n",
    "    # Get all the complaint types\n",
    "    complaints = get_top_complaints(main_data_df, count=-1)\n",
    "    top_ten_complaint_names = complaints.keys()\n",
    "    borough_complainers = calculate_borough_complainers(main_data_df, complaints)\n",
    "\n",
    "    # Get the number of all complaints per borough\n",
    "    all_borough_complaints = {}\n",
    "    for borough in borough_complainers.keys():\n",
    "        all_borough_complaints[borough] = 0\n",
    "        for complaint in borough_complainers[borough]:\n",
    "            all_borough_complaints[borough] += int(borough_complainers[borough][complaint])\n",
    "    print(all_borough_complaints)\n",
    "\n",
    "    complaint_index = {}\n",
    "    for borough in borough_complainers.keys():\n",
    "        total_borough_size = float(borough_populations[borough])\n",
    "        total_borough_complaints = float(all_borough_complaints[borough])\n",
    "        complaint_index[borough] = float(total_borough_complaints / total_borough_size)\n",
    "    print(pd.Series(complaint_index).sort_values(ascending=False))\n"
   ]
  }
 ],
 "metadata": {
  "kernelspec": {
   "display_name": "Python 3",
   "language": "python",
   "name": "python3"
  },
  "language_info": {
   "codemirror_mode": {
    "name": "ipython",
    "version": 3
   },
   "file_extension": ".py",
   "mimetype": "text/x-python",
   "name": "python",
   "nbconvert_exporter": "python",
   "pygments_lexer": "ipython3",
   "version": "3.7.1"
  }
 },
 "nbformat": 4,
 "nbformat_minor": 2
}
