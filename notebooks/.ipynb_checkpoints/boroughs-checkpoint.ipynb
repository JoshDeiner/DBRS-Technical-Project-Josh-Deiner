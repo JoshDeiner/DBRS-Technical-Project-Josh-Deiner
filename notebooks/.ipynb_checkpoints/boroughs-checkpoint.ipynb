{
 "cells": [
  {
   "cell_type": "code",
   "execution_count": 7,
   "metadata": {},
   "outputs": [],
   "source": [
    "import pandas as pd\n",
    "import numpy as np\n",
    "import import_ipynb\n",
    "import base\n",
    "from base import get_main_city_data, get_key_complaints, get_top_complaints\n"
   ]
  },
  {
   "cell_type": "code",
   "execution_count": 8,
   "metadata": {},
   "outputs": [],
   "source": [
    "def get_boroughs(main_data_df):\n",
    "    return pd.Series(main_data_df['Borough'].dropna().unique())[:5]"
   ]
  },
  {
   "cell_type": "code",
   "execution_count": 9,
   "metadata": {},
   "outputs": [],
   "source": [
    "def get_boroughs_table(main_data_df):\n",
    "    borough_table = {}\n",
    "    boroughs = get_boroughs(main_data_df)\n",
    "    for borough in boroughs:\n",
    "        borough_table[borough] = main_data_df.loc[main_data_df.Borough == borough].dropna()\n",
    "    return borough_table"
   ]
  },
  {
   "cell_type": "code",
   "execution_count": 10,
   "metadata": {},
   "outputs": [],
   "source": [
    "def get_borough_zipcodes(main_data_df):\n",
    "\n",
    "    # Store dict of boroughs and their associated zip codes\n",
    "    borough_zips = {}\n",
    "\n",
    "    # Dict of all boroughs and their raw data\n",
    "    boroughs_table = get_boroughs_table(main_data_df)\n",
    "\n",
    "    for borough in boroughs_table.keys():\n",
    "        for zipcode in boroughs_table[borough]['Zip']:\n",
    "            if not borough in borough_zips.keys():\n",
    "                borough_zips[borough] = []\n",
    "            if not zipcode in borough_zips[borough]:\n",
    "                borough_zips[borough].append(zipcode)\n",
    "    return borough_zips"
   ]
  },
  {
   "cell_type": "code",
   "execution_count": 11,
   "metadata": {},
   "outputs": [],
   "source": [
    "def calculate_borough_complainers(main_data_df, complaints): ### just tweak and build off this\n",
    "\n",
    "    # Dict of all the boroughs and their raw data\n",
    "    boroughs_table = get_boroughs_table(main_data_df)\n",
    "\n",
    "    # Dict of all the boroughs and their complaint counts\n",
    "    borough_complaints = get_key_complaints(boroughs_table.keys(), complaints)\n",
    "\n",
    "    for borough in boroughs_table.keys():\n",
    "        for complaint in boroughs_table[borough][\"Complaint Type\"]:\n",
    "            # Skip any complaint not in our top ten\n",
    "            if not complaint in complaints:\n",
    "                continue\n",
    "            borough_complaints[borough][complaint] +=1\n",
    "    return borough_complaints"
   ]
  },
  {
   "cell_type": "code",
   "execution_count": 12,
   "metadata": {},
   "outputs": [],
   "source": [
    "if __name__ == \"__main__\":\n",
    "        # Example for getting the main data in a dataframe\n",
    "    main_data_df = get_main_city_data()\n",
    "\n",
    "    # Get the top 10 complaints_count complaints\n",
    "    top_complaints = get_top_complaints(main_data_df, count=10)\n",
    "    top_ten_complaint_names = top_complaints.keys()\n",
    "\n",
    "    # Build hash with top complaints\n",
    "    nyc_complainers = calculate_borough_complainers(main_data_df, top_complaints)\n",
    "\n",
    "    borough_complaints_dfs = []\n",
    "    for borough in nyc_complainers.keys():\n",
    "        complainer_df = pd.DataFrame( #### consider mapping\n",
    "             {\n",
    "                'Borough'                   : borough,\n",
    "                top_ten_complaint_names[0]  : nyc_complainers[borough][top_ten_complaint_names[0]],\n",
    "                top_ten_complaint_names[1]  : nyc_complainers[borough][top_ten_complaint_names[1]],\n",
    "                top_ten_complaint_names[2]  : nyc_complainers[borough][top_ten_complaint_names[2]],\n",
    "                top_ten_complaint_names[3]  : nyc_complainers[borough][top_ten_complaint_names[3]],\n",
    "                top_ten_complaint_names[4]  : nyc_complainers[borough][top_ten_complaint_names[4]],\n",
    "                top_ten_complaint_names[5]  : nyc_complainers[borough][top_ten_complaint_names[4]],\n",
    "                top_ten_complaint_names[6]  : nyc_complainers[borough][top_ten_complaint_names[6]],\n",
    "                top_ten_complaint_names[7]  : nyc_complainers[borough][top_ten_complaint_names[7]],\n",
    "                top_ten_complaint_names[8]  : nyc_complainers[borough][top_ten_complaint_names[8]],\n",
    "                top_ten_complaint_names[9]  : nyc_complainers[borough][top_ten_complaint_names[9]],\n",
    "            }, index={len(borough_complaints_dfs)+1}\n",
    "        )\n",
    "        borough_complaints_dfs.append(complainer_df)    "
   ]
  }
 ],
 "metadata": {
  "kernelspec": {
   "display_name": "Python 3",
   "language": "python",
   "name": "python3"
  },
  "language_info": {
   "codemirror_mode": {
    "name": "ipython",
    "version": 3
   },
   "file_extension": ".py",
   "mimetype": "text/x-python",
   "name": "python",
   "nbconvert_exporter": "python",
   "pygments_lexer": "ipython3",
   "version": "3.7.1"
  }
 },
 "nbformat": 4,
 "nbformat_minor": 2
}
