{
 "cells": [
  {
   "cell_type": "code",
   "execution_count": 1,
   "metadata": {},
   "outputs": [],
   "source": [
    "import pandas as pd\n",
    "import numpy as np\n",
    "import import_ipynb"
   ]
  },
  {
   "cell_type": "code",
   "execution_count": 2,
   "metadata": {},
   "outputs": [
    {
     "name": "stdout",
     "output_type": "stream",
     "text": [
      "importing Jupyter notebook from base.ipynb\n"
     ]
    }
   ],
   "source": [
    "import base\n",
    "from base import get_main_city_data, get_key_complaints, get_top_complaints"
   ]
  },
  {
   "cell_type": "code",
   "execution_count": 3,
   "metadata": {},
   "outputs": [],
   "source": [
    "def get_boroughs(main_data_df):\n",
    "    return pd.Series(main_data_df['Borough'].dropna().unique())[:5]"
   ]
  },
  {
   "cell_type": "code",
   "execution_count": 4,
   "metadata": {},
   "outputs": [],
   "source": [
    "def get_boroughs_table(main_data_df):\n",
    "    borough_table = {}\n",
    "    boroughs = get_boroughs(main_data_df)\n",
    "    for borough in boroughs:\n",
    "        borough_table[borough] = main_data_df.loc[main_data_df.Borough == borough].dropna()\n",
    "    return borough_table"
   ]
  },
  {
   "cell_type": "code",
   "execution_count": 5,
   "metadata": {},
   "outputs": [],
   "source": [
    "def get_borough_zipcodes(main_data_df):\n",
    "\n",
    "    # Store dict of boroughs and their associated zip codes\n",
    "    borough_zips = {}\n",
    "\n",
    "    # Dict of all boroughs and their raw data\n",
    "    boroughs_table = get_boroughs_table(main_data_df)\n",
    "\n",
    "    for borough in boroughs_table.keys():\n",
    "        for zipcode in boroughs_table[borough]['Zip']:\n",
    "            if not borough in borough_zips.keys():\n",
    "                borough_zips[borough] = []\n",
    "            if not zipcode in borough_zips[borough]:\n",
    "                borough_zips[borough].append(zipcode)\n",
    "    return borough_zips"
   ]
  },
  {
   "cell_type": "code",
   "execution_count": 6,
   "metadata": {},
   "outputs": [],
   "source": [
    "def calculate_borough_complainers(main_data_df, complaints): ### just tweak and build off this\n",
    "\n",
    "    # Dict of all the boroughs and their raw data\n",
    "    boroughs_table = get_boroughs_table(main_data_df)\n",
    "\n",
    "    # Dict of all the boroughs and their complaint counts\n",
    "    borough_complaints = get_key_complaints(boroughs_table.keys(), complaints)\n",
    "\n",
    "    for borough in boroughs_table.keys():\n",
    "        for complaint in boroughs_table[borough][\"Complaint Type\"]:\n",
    "            # Skip any complaint not in our top ten\n",
    "            if not complaint in complaints:\n",
    "                continue\n",
    "            borough_complaints[borough][complaint] +=1\n",
    "    return borough_complaints"
   ]
  },
  {
   "cell_type": "code",
   "execution_count": 9,
   "metadata": {
    "scrolled": true
   },
   "outputs": [],
   "source": [
    "if __name__ == \"__main__\":\n",
    "        # Example for getting the main data in a dataframe\n",
    "    main_data_df = get_main_city_data()\n",
    "\n",
    "    # Get the top 10 complaints_count complaints\n",
    "    top_complaints = get_top_complaints(main_data_df, count=10)\n",
    "    top_ten_complaint_names = top_complaints.keys()\n",
    "\n",
    "    # Build hash with top complaints\n",
    "    nyc_complainers = calculate_borough_complainers(main_data_df, top_complaints)\n",
    "    \n",
    "    borough_complaints_dfs = []\n",
    "    for borough in nyc_complainers.keys():\n",
    "        complainer_df = pd.DataFrame( #### consider mapping\n",
    "             {\n",
    "                'Borough'                   : borough,\n",
    "                top_ten_complaint_names[0]  : nyc_complainers[borough][top_ten_complaint_names[0]],\n",
    "                top_ten_complaint_names[1]  : nyc_complainers[borough][top_ten_complaint_names[1]],\n",
    "                top_ten_complaint_names[2]  : nyc_complainers[borough][top_ten_complaint_names[2]],\n",
    "                top_ten_complaint_names[3]  : nyc_complainers[borough][top_ten_complaint_names[3]],\n",
    "                top_ten_complaint_names[4]  : nyc_complainers[borough][top_ten_complaint_names[4]],\n",
    "                top_ten_complaint_names[5]  : nyc_complainers[borough][top_ten_complaint_names[4]],\n",
    "                top_ten_complaint_names[6]  : nyc_complainers[borough][top_ten_complaint_names[6]],\n",
    "                top_ten_complaint_names[7]  : nyc_complainers[borough][top_ten_complaint_names[7]],\n",
    "                top_ten_complaint_names[8]  : nyc_complainers[borough][top_ten_complaint_names[8]],\n",
    "                top_ten_complaint_names[9]  : nyc_complainers[borough][top_ten_complaint_names[9]],\n",
    "            }, index={len(borough_complaints_dfs)+1}\n",
    "        )\n",
    "        borough_complaints_dfs.append(complainer_df)\n",
    "        "
   ]
  },
  {
   "cell_type": "code",
   "execution_count": 10,
   "metadata": {},
   "outputs": [
    {
     "data": {
      "text/html": [
       "<div>\n",
       "<style scoped>\n",
       "    .dataframe tbody tr th:only-of-type {\n",
       "        vertical-align: middle;\n",
       "    }\n",
       "\n",
       "    .dataframe tbody tr th {\n",
       "        vertical-align: top;\n",
       "    }\n",
       "\n",
       "    .dataframe thead th {\n",
       "        text-align: right;\n",
       "    }\n",
       "</style>\n",
       "<table border=\"1\" class=\"dataframe\">\n",
       "  <thead>\n",
       "    <tr style=\"text-align: right;\">\n",
       "      <th></th>\n",
       "      <th>Borough</th>\n",
       "      <th>Request Large Bulky Item Collection</th>\n",
       "      <th>UNSANITARY CONDITION</th>\n",
       "      <th>Illegal Parking</th>\n",
       "      <th>Noise</th>\n",
       "      <th>PAINT/PLASTER</th>\n",
       "      <th>PLUMBING</th>\n",
       "      <th>HEAT/HOT WATER</th>\n",
       "      <th>Water System</th>\n",
       "      <th>DOOR/WINDOW</th>\n",
       "      <th>GENERAL</th>\n",
       "    </tr>\n",
       "  </thead>\n",
       "  <tbody>\n",
       "    <tr>\n",
       "      <th>1</th>\n",
       "      <td>BROOKLYN</td>\n",
       "      <td>60</td>\n",
       "      <td>32</td>\n",
       "      <td>40</td>\n",
       "      <td>21</td>\n",
       "      <td>21</td>\n",
       "      <td>21</td>\n",
       "      <td>19</td>\n",
       "      <td>6</td>\n",
       "      <td>15</td>\n",
       "      <td>13</td>\n",
       "    </tr>\n",
       "    <tr>\n",
       "      <th>2</th>\n",
       "      <td>STATEN ISLAND</td>\n",
       "      <td>4</td>\n",
       "      <td>4</td>\n",
       "      <td>3</td>\n",
       "      <td>4</td>\n",
       "      <td>3</td>\n",
       "      <td>3</td>\n",
       "      <td>0</td>\n",
       "      <td>2</td>\n",
       "      <td>0</td>\n",
       "      <td>0</td>\n",
       "    </tr>\n",
       "    <tr>\n",
       "      <th>3</th>\n",
       "      <td>QUEENS</td>\n",
       "      <td>60</td>\n",
       "      <td>18</td>\n",
       "      <td>34</td>\n",
       "      <td>13</td>\n",
       "      <td>5</td>\n",
       "      <td>5</td>\n",
       "      <td>10</td>\n",
       "      <td>15</td>\n",
       "      <td>2</td>\n",
       "      <td>5</td>\n",
       "    </tr>\n",
       "    <tr>\n",
       "      <th>4</th>\n",
       "      <td>MANHATTAN</td>\n",
       "      <td>3</td>\n",
       "      <td>28</td>\n",
       "      <td>9</td>\n",
       "      <td>32</td>\n",
       "      <td>20</td>\n",
       "      <td>20</td>\n",
       "      <td>11</td>\n",
       "      <td>8</td>\n",
       "      <td>7</td>\n",
       "      <td>7</td>\n",
       "    </tr>\n",
       "    <tr>\n",
       "      <th>5</th>\n",
       "      <td>BRONX</td>\n",
       "      <td>10</td>\n",
       "      <td>48</td>\n",
       "      <td>8</td>\n",
       "      <td>4</td>\n",
       "      <td>24</td>\n",
       "      <td>24</td>\n",
       "      <td>11</td>\n",
       "      <td>6</td>\n",
       "      <td>15</td>\n",
       "      <td>10</td>\n",
       "    </tr>\n",
       "  </tbody>\n",
       "</table>\n",
       "</div>"
      ],
      "text/plain": [
       "         Borough  Request Large Bulky Item Collection  UNSANITARY CONDITION  \\\n",
       "1       BROOKLYN                                   60                    32   \n",
       "2  STATEN ISLAND                                    4                     4   \n",
       "3         QUEENS                                   60                    18   \n",
       "4      MANHATTAN                                    3                    28   \n",
       "5          BRONX                                   10                    48   \n",
       "\n",
       "   Illegal Parking  Noise  PAINT/PLASTER  PLUMBING  HEAT/HOT WATER  \\\n",
       "1               40     21             21        21              19   \n",
       "2                3      4              3         3               0   \n",
       "3               34     13              5         5              10   \n",
       "4                9     32             20        20              11   \n",
       "5                8      4             24        24              11   \n",
       "\n",
       "   Water System  DOOR/WINDOW  GENERAL  \n",
       "1             6           15       13  \n",
       "2             2            0        0  \n",
       "3            15            2        5  \n",
       "4             8            7        7  \n",
       "5             6           15       10  "
      ]
     },
     "execution_count": 10,
     "metadata": {},
     "output_type": "execute_result"
    }
   ],
   "source": [
    "borough_complaints_dfs[0].append([borough_complaints_dfs[1], borough_complaints_dfs[2], borough_complaints_dfs[3], borough_complaints_dfs[4]])"
   ]
  },
  {
   "cell_type": "code",
   "execution_count": null,
   "metadata": {},
   "outputs": [],
   "source": []
  }
 ],
 "metadata": {
  "kernelspec": {
   "display_name": "Python 3",
   "language": "python",
   "name": "python3"
  },
  "language_info": {
   "codemirror_mode": {
    "name": "ipython",
    "version": 3
   },
   "file_extension": ".py",
   "mimetype": "text/x-python",
   "name": "python",
   "nbconvert_exporter": "python",
   "pygments_lexer": "ipython3",
   "version": "3.7.1"
  }
 },
 "nbformat": 4,
 "nbformat_minor": 2
}
