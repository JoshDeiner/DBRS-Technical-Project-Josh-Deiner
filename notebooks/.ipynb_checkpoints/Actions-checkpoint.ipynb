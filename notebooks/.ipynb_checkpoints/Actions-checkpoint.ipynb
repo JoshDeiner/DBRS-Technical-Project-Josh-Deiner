{
 "cells": [
  {
   "cell_type": "code",
   "execution_count": 1,
   "metadata": {},
   "outputs": [],
   "source": [
    "import requests\n",
    "import pandas as pd\n",
    "import numpy as np\n",
    "\n"
   ]
  },
  {
   "cell_type": "code",
   "execution_count": null,
   "metadata": {},
   "outputs": [],
   "source": [
    "city_data_file_read.drop_duplicates()"
   ]
  },
  {
   "cell_type": "code",
   "execution_count": 2,
   "metadata": {},
   "outputs": [],
   "source": [
    "zipcode_file = '../resources/Zips2010_90.xlsx'  # Using the 2010 Zip Code Data.\n",
    "zip_files_dataframe_one = pd.read_excel(zipcode_file).drop_duplicates(keep='first')\n",
    "city_data_file_read= pd.read_excel(\"../resources/tocopycitydata.xlsx\").drop_duplicates(keep='first')"
   ]
  },
  {
   "cell_type": "code",
   "execution_count": 3,
   "metadata": {},
   "outputs": [],
   "source": [
    "main_data_dataframe = pd.DataFrame( # drop nas\n",
    "     {\"Unique Key\":city_data_file_read[\"Unique Key\"],\n",
    "        \"Created Date\":city_data_file_read[\"Created Date\"],\n",
    "        \"Closed Date\":city_data_file_read[\"Closed Date\"],\n",
    "        \"Complaint Type\":city_data_file_read[\"Complaint Type\"],\n",
    "        \"Zip\" : city_data_file_read[\"Incident Zip\"],\n",
    "        \"Status\": city_data_file_read[\"Status\"],\n",
    "        \"Borough\":city_data_file_read[\"Borough\"]\n",
    "     }\n",
    ")\n",
    "\n",
    "\n",
    "zip_files_df = pd.DataFrame ({\n",
    "    \"Zip\": zip_files_dataframe_one[\"Incident Zips\"],\n",
    "    \"Population\": zip_files_dataframe_one[\"Population\"]\n",
    "})"
   ]
  },
  {
   "cell_type": "code",
   "execution_count": null,
   "metadata": {},
   "outputs": [],
   "source": []
  },
  {
   "cell_type": "code",
   "execution_count": 4,
   "metadata": {},
   "outputs": [],
   "source": [
    "pop_zip_array = pd.Series([11385, 11209, 11215, 11216, 10456, 10453, 11226, 11213, 10467, 10452]) # ****\n",
    "boroughs_array = pd.Series(main_data_dataframe['Borough'].dropna().unique())[:5]\n",
    "popular_complaints = pd.Series(main_data_dataframe.groupby('Complaint Type').size().sort_values(ascending=False))\n",
    "top_ten_pop_complaints = pd.Series(popular_complaints[:10])\n",
    "top_ten_pop_complaints_keys = top_ten_pop_complaints.keys()\n",
    "complaints_tops_names = top_ten_pop_complaints.keys()"
   ]
  },
  {
   "cell_type": "code",
   "execution_count": 5,
   "metadata": {},
   "outputs": [],
   "source": [
    "def define_boroughs_tables(): #### change to borrough input\n",
    "    obj = {}\n",
    "    for x in range(5):\n",
    "        obj[x] = main_data_dataframe.loc[main_data_dataframe.Borough == boroughs_array[x]]\n",
    "        # obj[pop_zip_array[x]] = main_data_dataframe.loc[main_data_dataframe.Zip == float(pop_zip_array[x])]\n",
    "    return obj"
   ]
  },
  {
   "cell_type": "code",
   "execution_count": 6,
   "metadata": {},
   "outputs": [],
   "source": [
    "def zipcodes_population_obj(): # has of zip_code file\n",
    "    obj= {}\n",
    "    pops, zips = zip_files_df['Population'], zip_files_df['Zip']\n",
    "    one_array, second_array = [], []\n",
    "    for pop_value in pops:\n",
    "        one_array.append(pop_value)\n",
    "    for zip_value in zips:\n",
    "        second_array.append(zip_value)\n",
    "    for x in range(len(one_array)-1):\n",
    "        once = one_array[x]\n",
    "        twice = second_array[x]\n",
    "        obj[twice] = once\n",
    "    return obj"
   ]
  },
  {
   "cell_type": "code",
   "execution_count": 7,
   "metadata": {},
   "outputs": [],
   "source": [
    "def new_group_boroughs_by_zips(): ####### five loops\n",
    "\n",
    "    borough_list = [\"BROOKLYN\", \"QUEENS\", \"BRONX\", \"STATEN ISLAND\", \"MANHATTAN\"]\n",
    "    borough_zips = {\n",
    "    \"BROOKLYN\" : [],\n",
    "    \"QUEENS\": [],\n",
    "    \"BRONX\": [],\n",
    "    \"STATEN ISLAND\": [],\n",
    "    \"MANHATTAN\": []\n",
    "}\n",
    "\n",
    "    for zipcode in define_boroughs_tables()[4]['Zip']:\n",
    "        (borough_zips['BRONX'].append(float(zipcode)))\n",
    "    for zipcode in define_boroughs_tables()[2]['Zip']:\n",
    "        borough_zips['MANHATTAN'].append(float(zipcode))\n",
    "    for zipcode in define_boroughs_tables()[1]['Zip']:\n",
    "        borough_zips['QUEENS'].append(float(zipcode))\n",
    "    for zipcode in define_boroughs_tables()[3]['Zip']:\n",
    "        borough_zips['STATEN ISLAND'].append(float(zipcode))\n",
    "    for zipcode in define_boroughs_tables()[0]['Zip']:\n",
    "        borough_zips['BROOKLYN'].append(float(zipcode))\n",
    "    return(borough_zips)"
   ]
  },
  {
   "cell_type": "code",
   "execution_count": 8,
   "metadata": {},
   "outputs": [],
   "source": [
    "def define_base_obj_to_use(): # change to borroughs instead of index\n",
    "    starter_complaints_obj = {}\n",
    "    for x in complaints_tops_names:\n",
    "        starter_complaints_obj[x] = 0\n",
    "    return starter_complaints_obj"
   ]
  },
  {
   "cell_type": "code",
   "execution_count": 9,
   "metadata": {},
   "outputs": [],
   "source": [
    "# old ideas \n",
    "\n",
    "# sorted_boroughs_by_boroughs = define_boroughs_tables()[0].append([define_boroughs_tables()[1], define_boroughs_tables()[2], define_boroughs_tables()[3], define_boroughs_tables()[4]])\n",
    "# complaints_tops_names = top_ten_pop_complaints.keys()\n",
    "#top_ten_pop_complaints = pd.Series(popular_complaints[:10])\n",
    "#popular_complaints = pd.Series(main_data_dataframe.groupby('Complaint Type').size().sort_values(ascending=False))\n",
    "# full_zipped_table = first_zipcode_table.append([ second_zipcode_table, third_zipcode_table, fourth_zipcode_table, fifth_zipcode_table ,sixth_complainer_table, seventh_complainer_table, eighth_complainer_table, nine_complainer_table, ten_complainer_table])\n",
    "\n"
   ]
  },
  {
   "cell_type": "code",
   "execution_count": null,
   "metadata": {},
   "outputs": [],
   "source": []
  }
 ],
 "metadata": {
  "kernelspec": {
   "display_name": "Python 3",
   "language": "python",
   "name": "python3"
  },
  "language_info": {
   "codemirror_mode": {
    "name": "ipython",
    "version": 3
   },
   "file_extension": ".py",
   "mimetype": "text/x-python",
   "name": "python",
   "nbconvert_exporter": "python",
   "pygments_lexer": "ipython3",
   "version": "3.7.1"
  }
 },
 "nbformat": 4,
 "nbformat_minor": 2
}
