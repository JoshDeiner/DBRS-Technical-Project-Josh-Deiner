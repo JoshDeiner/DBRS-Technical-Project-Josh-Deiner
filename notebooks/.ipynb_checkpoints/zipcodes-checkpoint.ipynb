{
 "cells": [
  {
   "cell_type": "code",
   "execution_count": 21,
   "metadata": {},
   "outputs": [],
   "source": [
    "import pandas as pd\n",
    "import numpy as np\n",
    "import import_ipynb\n",
    "\n",
    "import base\n",
    "from base import get_main_city_data, get_city_zip_data, get_top_complaints, get_key_complaints\n",
    "\n",
    "import boroughs\n",
    "from boroughs import get_borough_zipcodes"
   ]
  },
  {
   "cell_type": "code",
   "execution_count": 22,
   "metadata": {},
   "outputs": [],
   "source": [
    "def get_zipcode_populations(zip_data_df, valid_zipcodes):\n",
    "    zipcodes_table = {}\n",
    "    zipcodes = zip_data_df.Zip\n",
    "    populations = zip_data_df.Population\n",
    "\n",
    "    for i in range (len(zip_data_df.Zip.keys())):\n",
    "        if zipcodes[i] in valid_zipcodes:\n",
    "            zipcodes_table[zipcodes[i]] = populations[i]\n",
    "    return zipcodes_table"
   ]
  },
  {
   "cell_type": "code",
   "execution_count": 23,
   "metadata": {},
   "outputs": [],
   "source": [
    "def get_most_populated_zipcodes(zipcodes_table, valid_zipcodes, count=10):\n",
    "    all_valid_zipcodes = get_zipcode_populations(zip_data_df, valid_zipcodes)\n",
    "    populated_zipcodes = pd.Series(all_valid_zipcodes).sort_values(ascending=False)[0:count]\n",
    "    return populated_zipcodes"
   ]
  },
  {
   "cell_type": "code",
   "execution_count": 24,
   "metadata": {},
   "outputs": [],
   "source": [
    "def get_zipcodes_table(main_data_df, zipcodes):\n",
    "    zipcodes_table = {}\n",
    "    for zipcode in zipcodes:\n",
    "        zipcodes_table[zipcode] = main_data_df.loc[main_data_df.Zip == zipcode]\n",
    "    return zipcodes_table"
   ]
  },
  {
   "cell_type": "code",
   "execution_count": 25,
   "metadata": {},
   "outputs": [],
   "source": [
    "def calculate_zipcode_complainers(main_data_df, zipcodes, complaints):\n",
    "\n",
    "    # Dict of all the boroughs and their raw data\n",
    "    zipcode_table = get_zipcodes_table(main_data_df, zipcodes)\n",
    "\n",
    "    # Dict of all the boroughs and their complaint counts\n",
    "    zipcode_complaints = get_key_complaints(zipcodes, complaints)\n",
    "\n",
    "    for zipcode in zipcodes:\n",
    "        for complaint in zipcode_table[zipcode][\"Complaint Type\"]:\n",
    "            # Skip any complaint not in our top ten\n",
    "            if not complaint in complaints:\n",
    "                continue\n",
    "            zipcode_complaints[zipcode][complaint] +=1\n",
    "    return zipcode_complaints"
   ]
  },
  {
   "cell_type": "code",
   "execution_count": null,
   "metadata": {},
   "outputs": [],
   "source": [
    "if __name__ == \"__main__\":\n",
    "    main_data_df = get_main_city_data()\n",
    "    zip_data_df = get_city_zip_data()\n",
    "\n",
    "    # Get the top 10 complaints_count complaints\n",
    "    top_complaints = get_top_complaints(main_data_df, count=10)\n",
    "    top_ten_complaint_names = top_complaints.keys()\n",
    "\n",
    "    borough_zips = get_borough_zipcodes(main_data_df)\n",
    "\n",
    "    valid_zipcodes = []\n",
    "    for borough in borough_zips:\n",
    "        valid_zipcodes.extend(borough_zips[borough])\n",
    "\n",
    "    top_populated_zipcodes = get_most_populated_zipcodes(zip_data_df, valid_zipcodes, count=10)\n",
    "    zipcode_complainers = calculate_zipcode_complainers(main_data_df, top_populated_zipcodes.keys(), top_complaints)\n",
    "\n",
    "    zipcode_complaints_dfs = []\n",
    "    for zipcode in zipcode_complainers.keys():\n",
    "        complainer_df = pd.DataFrame( #### consider mapping\n",
    "             {\n",
    "                'Zipcode'                   : zipcode,\n",
    "                top_ten_complaint_names[0]  : zipcode_complainers[zipcode][top_ten_complaint_names[0]],\n",
    "                top_ten_complaint_names[1]  : zipcode_complainers[zipcode][top_ten_complaint_names[1]],\n",
    "                top_ten_complaint_names[2]  : zipcode_complainers[zipcode][top_ten_complaint_names[2]],\n",
    "                top_ten_complaint_names[3]  : zipcode_complainers[zipcode][top_ten_complaint_names[3]],\n",
    "                top_ten_complaint_names[4]  : zipcode_complainers[zipcode][top_ten_complaint_names[4]],\n",
    "                top_ten_complaint_names[5]  : zipcode_complainers[zipcode][top_ten_complaint_names[4]],\n",
    "                top_ten_complaint_names[6]  : zipcode_complainers[zipcode][top_ten_complaint_names[6]],\n",
    "                top_ten_complaint_names[7]  : zipcode_complainers[zipcode][top_ten_complaint_names[7]],\n",
    "                top_ten_complaint_names[8]  : zipcode_complainers[zipcode][top_ten_complaint_names[8]],\n",
    "                top_ten_complaint_names[9]  : zipcode_complainers[zipcode][top_ten_complaint_names[9]],\n",
    "            }, index={len(zipcode_complaints_dfs)+1}\n",
    "        )\n",
    "        zipcode_complaints_dfs.append(complainer_df)\n"
   ]
  }
 ],
 "metadata": {
  "kernelspec": {
   "display_name": "Python 3",
   "language": "python",
   "name": "python3"
  },
  "language_info": {
   "codemirror_mode": {
    "name": "ipython",
    "version": 3
   },
   "file_extension": ".py",
   "mimetype": "text/x-python",
   "name": "python",
   "nbconvert_exporter": "python",
   "pygments_lexer": "ipython3",
   "version": "3.7.1"
  }
 },
 "nbformat": 4,
 "nbformat_minor": 2
}
