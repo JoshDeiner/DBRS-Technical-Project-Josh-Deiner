{
 "cells": [
  {
   "cell_type": "code",
   "execution_count": 3,
   "metadata": {},
   "outputs": [],
   "source": [
    "import pandas as pd\n",
    "import numpy as np\n",
    "import import_ipynb"
   ]
  },
  {
   "cell_type": "code",
   "execution_count": 4,
   "metadata": {},
   "outputs": [
    {
     "name": "stdout",
     "output_type": "stream",
     "text": [
      "importing Jupyter notebook from base.ipynb\n"
     ]
    }
   ],
   "source": [
    "import base ## run again if import error\n",
    "from base import get_main_city_data, get_city_zip_data, get_top_complaints"
   ]
  },
  {
   "cell_type": "code",
   "execution_count": 6,
   "metadata": {},
   "outputs": [],
   "source": [
    "import boroughs ## run again if import error\n",
    "from boroughs import get_borough_zipcodes, calculate_borough_complainers"
   ]
  },
  {
   "cell_type": "code",
   "execution_count": 8,
   "metadata": {},
   "outputs": [],
   "source": [
    "import zipcodes  ## run again if import error\n",
    "from zipcodes import get_zipcode_populations"
   ]
  },
  {
   "cell_type": "code",
   "execution_count": 13,
   "metadata": {},
   "outputs": [],
   "source": [
    "def count_borough_population(zip_data_df, borough_zips): # could possibly make this loop smaller\n",
    "    borough_population_counter = {}\n",
    "\n",
    "    valid_zipcodes = []\n",
    "    for borough in borough_zips:\n",
    "        valid_zipcodes.extend(borough_zips[borough])\n",
    "\n",
    "    zipcodes_population_table = get_zipcode_populations(zip_data_df, valid_zipcodes)\n",
    "\n",
    "    for borough in borough_zips.keys():\n",
    "        if not borough in borough_population_counter.keys():\n",
    "            borough_population_counter[borough] = 0\n",
    "        for zipcode in borough_zips[borough]:\n",
    "            if not zipcode in zipcodes_population_table.keys():\n",
    "                continue\n",
    "            borough_population_counter[borough] += zipcodes_population_table[zipcode]\n",
    "\n",
    "    return borough_population_counter"
   ]
  },
  {
   "cell_type": "code",
   "execution_count": 14,
   "metadata": {},
   "outputs": [
    {
     "name": "stdout",
     "output_type": "stream",
     "text": [
      "Complainer Index\n",
      "----------------\n",
      "BRONX            0.000187\n",
      "BROOKLYN         0.000172\n",
      "MANHATTAN        0.000158\n",
      "QUEENS           0.000150\n",
      "STATEN ISLAND    0.000139\n",
      "dtype: float64\n"
     ]
    }
   ],
   "source": [
    "if __name__ == \"__main__\":\n",
    "    # Example for getting the main data in a dataframe\n",
    "\n",
    "    main_data_df = get_main_city_data()\n",
    "    zip_data_df = get_city_zip_data()\n",
    "\n",
    "    # Get population of each borough\n",
    "    borough_zipcodes = get_borough_zipcodes(main_data_df)\n",
    "    borough_populations = count_borough_population(zip_data_df, borough_zipcodes)\n",
    "\n",
    "    # Get all the complaint types\n",
    "    complaints = get_top_complaints(main_data_df, count=-1)\n",
    "    top_ten_complaint_names = complaints.keys()\n",
    "    borough_complainers = calculate_borough_complainers(main_data_df, complaints)\n",
    "\n",
    "    # Get the number of all complaints per borough\n",
    "    all_borough_complaints = {}\n",
    "    for borough in borough_complainers.keys():\n",
    "        all_borough_complaints[borough] = 0\n",
    "        for complaint in borough_complainers[borough]:\n",
    "            all_borough_complaints[borough] += int(borough_complainers[borough][complaint])\n",
    "\n",
    "    complaint_index = {}\n",
    "    for borough in borough_complainers.keys():\n",
    "        total_borough_size = float(borough_populations[borough])\n",
    "        total_borough_complaints = float(all_borough_complaints[borough])\n",
    "        complaint_index[borough] = float(total_borough_complaints / total_borough_size)\n",
    "    print('Complainer Index')\n",
    "    print('----------------')\n",
    "    print(pd.Series(complaint_index).sort_values(ascending=False))\n",
    "\n",
    "    \n",
    "    "
   ]
  },
  {
   "cell_type": "code",
   "execution_count": null,
   "metadata": {},
   "outputs": [],
   "source": []
  }
 ],
 "metadata": {
  "kernelspec": {
   "display_name": "Python 3",
   "language": "python",
   "name": "python3"
  },
  "language_info": {
   "codemirror_mode": {
    "name": "ipython",
    "version": 3
   },
   "file_extension": ".py",
   "mimetype": "text/x-python",
   "name": "python",
   "nbconvert_exporter": "python",
   "pygments_lexer": "ipython3",
   "version": "3.7.1"
  }
 },
 "nbformat": 4,
 "nbformat_minor": 2
}
