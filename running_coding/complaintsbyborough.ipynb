{
 "cells": [
  {
   "cell_type": "code",
   "execution_count": 26,
   "metadata": {},
   "outputs": [
    {
     "data": {
      "text/plain": [
       "Borough\n",
       "BRONX            2.817582e-05\n",
       "BROOKLYN         4.676104e-05\n",
       "Borough          5.506252e-08\n",
       "MANHATTAN        2.506317e-05\n",
       "QUEENS           3.597850e-05\n",
       "STATEN ISLAND    6.675521e-06\n",
       "Unspecified      3.151520e-06\n",
       "dtype: float64"
      ]
     },
     "execution_count": 26,
     "metadata": {},
     "output_type": "execute_result"
    }
   ],
   "source": [
    "import requests\n",
    "import pandas as pd\n",
    "import numpy as np\n",
    "import csv\n",
    "from datetime import datetime\n",
    "\n",
    "complaints_array = ['HEAT/HOT WATER', 'Noise - Residential', 'Illegal Parking', 'Blocked Driveway', 'Request Large Bulky Item Collection', 'PLUMBING', 'Missed Collection (All Materials)', 'UNSANITARY CONDITION', 'PAINT/PLASTER', 'Street Condition']\n",
    "zip_codes = ['60629', '79936', '11368', '90650', '90011', '91331', '11226', '90201', '11373', '11220']\n",
    "population = 308739931\n",
    "\n",
    "\n",
    "\n",
    "input_file = pd.read_excel(\"../../../downloads/tocopycitydata.xlsx\") \n",
    "# input_file\n",
    "(input_file)\n",
    "input_file = pd.read_excel(\"../../../downloads/tocopycitydata.xlsx\") \n",
    "\n",
    "df = pd.DataFrame(\n",
    "     {'Unique Key' : input_file[\"Unique Key\"],\n",
    "        'Created Date' : input_file[\"Created Date\"],\n",
    "        'Closed Date' : input_file[\"Closed Date\"],\n",
    "        'Complaint Type' : input_file[\"Complaint Type\"],\n",
    "        'Incident Zip' : input_file[\"Incident Zip\"],\n",
    "        'Status' : input_file[\"Status\"],\n",
    "        'Borough' : input_file[\"Borough\"]\n",
    "     })\n",
    "df\n",
    "df.groupby(\"Borough\").size()/population\n",
    "# Index \n",
    "# df\n"
   ]
  },
  {
   "cell_type": "code",
   "execution_count": 91,
   "metadata": {},
   "outputs": [],
   "source": [
    "\n",
    "# complainers_index = pd.DataFrame( { # should have calculated size per Borough\n",
    "#     'BRONX': 8699/308739931,\n",
    "#     'BROOKLYN': 14437/308739931,\n",
    "#     'MANHATTAN': 17/308739931,\n",
    "#     'QUEENS': 7738/308739931,\n",
    "#     'STATEN ISLAND': 2061/308739931\n",
    "# })"
   ]
  },
  {
   "cell_type": "code",
   "execution_count": null,
   "metadata": {},
   "outputs": [],
   "source": [
    "# should have calculated size per Borough. IE zip codes belonging to borough define Borough limits. Attributes population to Borough from each zip code"
   ]
  },
  {
   "cell_type": "code",
   "execution_count": 189,
   "metadata": {},
   "outputs": [],
   "source": []
  },
  {
   "cell_type": "code",
   "execution_count": 220,
   "metadata": {},
   "outputs": [
    {
     "data": {
      "text/plain": [
       "Borough\n",
       "BRONX             8699\n",
       "BROOKLYN         14437\n",
       "Borough             17\n",
       "MANHATTAN         7738\n",
       "QUEENS           11108\n",
       "STATEN ISLAND     2061\n",
       "Unspecified        973\n",
       "dtype: int64"
      ]
     },
     "execution_count": 220,
     "metadata": {},
     "output_type": "execute_result"
    }
   ],
   "source": [
    "df.groupby(\"Borough\").size()\n"
   ]
  },
  {
   "cell_type": "code",
   "execution_count": null,
   "metadata": {},
   "outputs": [],
   "source": []
  },
  {
   "cell_type": "code",
   "execution_count": 354,
   "metadata": {},
   "outputs": [],
   "source": [
    "#setting variables for the Boroughs\n",
    "bronxtable = df.loc[df.Borough == 'BRONX']\n",
    "manhattan_table = df.loc[df.Borough == 'MANHATTAN']\n",
    "queens_table = df.loc[df.Borough == 'QUEENS']\n",
    "staten_island_table = df.loc[df.Borough == 'STATEN ISLAND']\n",
    "brooklyn_table = df.loc[df.Borough == 'BROOKLYN']\n",
    "bronx_complaints =  bronxtable[\"Complaint Type\"]\n",
    "manhattan_complaints = manhattan_table[\"Complaint Type\"]\n",
    "queens_complaints = queens_table[\"Complaint Type\"]\n",
    "SI_complaints = staten_island_table[\"Complaint Type\"]\n",
    "brooklyn_complaints = brooklyn_table[\"Complaint Type\"]\n"
   ]
  },
  {
   "cell_type": "code",
   "execution_count": 324,
   "metadata": {},
   "outputs": [],
   "source": [
    "bronx_top_complainers = {}\n",
    "for x in bronx_complaints: \n",
    "\n",
    "    if x not in complaints_array:\n",
    "        pass\n",
    "    elif (x in bronx_top_complainers and x in complaints_array):\n",
    "        bronx_top_complainers[x] +=1\n",
    "    else:\n",
    "        bronx_top_complainers[x] = 1"
   ]
  },
  {
   "cell_type": "code",
   "execution_count": 316,
   "metadata": {},
   "outputs": [],
   "source": [
    "manhattan_top_complainers = {}\n",
    "for x in manhattan_complaints: \n",
    "\n",
    "    if x not in complaints_array:\n",
    "        pass\n",
    "    elif (x in manhattan_top_complainers and x in complaints_array):\n",
    "        manhattan_top_complainers[x] +=1\n",
    "    else:\n",
    "        manhattan_top_complainers[x] = 1"
   ]
  },
  {
   "cell_type": "code",
   "execution_count": 357,
   "metadata": {},
   "outputs": [],
   "source": [
    "bronx_dfs = pd.DataFrame(\n",
    "     {'HEAT/HOT WATER': bronx_top_complainers ['HEAT/HOT WATER'],\n",
    " 'PLUMBING': bronx_top_complainers ['PLUMBING'],\n",
    " 'Missed Collection (All Materials)': bronx_top_complainers ['Missed Collection (All Materials)'],\n",
    " 'Request Large Bulky Item Collection': bronx_top_complainers ['Request Large Bulky Item Collection'],\n",
    " 'PAINT/PLASTER': bronx_top_complainers ['PAINT/PLASTER'],\n",
    " 'Street Condition': bronx_top_complainers ['Street Condition'],\n",
    " 'Noise - Residential': bronx_top_complainers ['Noise - Residential'],\n",
    " 'UNSANITARY CONDITION': bronx_top_complainers ['UNSANITARY CONDITION'],\n",
    " 'Illegal Parking': bronx_top_complainers ['Illegal Parking'],\n",
    " 'Blocked Driveway': bronx_top_complainers ['Blocked Driveway'],\n",
    " \"Borough\": \"Bronx\"\n",
    " }, index={0}\n",
    ")"
   ]
  },
  {
   "cell_type": "code",
   "execution_count": 30,
   "metadata": {},
   "outputs": [
    {
     "ename": "SyntaxError",
     "evalue": "invalid syntax (<ipython-input-30-a65911d4b7d7>, line 13)",
     "output_type": "error",
     "traceback": [
      "\u001b[0;36m  File \u001b[0;32m\"<ipython-input-30-a65911d4b7d7>\"\u001b[0;36m, line \u001b[0;32m13\u001b[0m\n\u001b[0;31m    , index={0})\u001b[0m\n\u001b[0m           ^\u001b[0m\n\u001b[0;31mSyntaxError\u001b[0m\u001b[0;31m:\u001b[0m invalid syntax\n"
     ]
    }
   ],
   "source": [
    "manhattan_dfs = pd.DataFrame(\n",
    "     {'HEAT/HOT WATER': manhattan_top_complainers ['HEAT/HOT WATER'],\n",
    " 'PLUMBING': manhattan_top_complainers ['PLUMBING'],\n",
    " 'Missed Collection (All Materials)': manhattan_top_complainers ['Missed Collection (All Materials)'],\n",
    " 'Request Large Bulky Item Collection': manhattan_top_complainers ['Request Large Bulky Item Collection'],\n",
    " 'PAINT/PLASTER': manhattan_top_complainers ['PAINT/PLASTER'],\n",
    " 'Street Condition': manhattan_top_complainers ['Street Condition'],\n",
    " 'Noise - Residential': manhattan_top_complainers ['Noise - Residential'],\n",
    " 'UNSANITARY CONDITION': manhattan_top_complainers ['UNSANITARY CONDITION'],\n",
    " 'Illegal Parking': manhattan_top_complainers ['Illegal Parking'],\n",
    " 'Blocked Driveway': manhattan_top_complainers ['Blocked Driveway'],\n",
    " \"Borough\": \"Manhattan\"\n",
    " , index={0}\n",
    ")"
   ]
  },
  {
   "cell_type": "code",
   "execution_count": 312,
   "metadata": {},
   "outputs": [],
   "source": [
    "queens_top_complainers = {}\n",
    "for x in queens_complaints: \n",
    "\n",
    "    if x not in complaints_array:\n",
    "        pass\n",
    "    elif (x in queens_top_complainers and x in complaints_array):\n",
    "        queens_top_complainers[x] +=1\n",
    "    else:\n",
    "        queens_top_complainers[x] = 1"
   ]
  },
  {
   "cell_type": "code",
   "execution_count": null,
   "metadata": {},
   "outputs": [],
   "source": []
  },
  {
   "cell_type": "code",
   "execution_count": 353,
   "metadata": {},
   "outputs": [],
   "source": []
  },
  {
   "cell_type": "code",
   "execution_count": null,
   "metadata": {},
   "outputs": [],
   "source": [
    "SI_top_complainers = {}\n",
    "for x in SI_complaints: \n",
    "\n",
    "    if x not in complaints_array:\n",
    "        pass\n",
    "    elif (x in SI_top_complainers and x in complaints_array):\n",
    "        SI_top_complainers[x] +=1\n",
    "    else:\n",
    "        SI_top_complainers[x] = 1"
   ]
  },
  {
   "cell_type": "code",
   "execution_count": null,
   "metadata": {},
   "outputs": [],
   "source": [
    "brooklyn_top_complainers = {}\n",
    "for x in brooklyn_complaints: \n",
    "\n",
    "    if x not in complaints_array:\n",
    "        pass\n",
    "    elif (x in brooklyn_top_complainers and x in complaints_array):\n",
    "        brooklyn_top_complainers[x] +=1\n",
    "    else:\n",
    "        brooklyn_top_complainers[x] = 1"
   ]
  },
  {
   "cell_type": "code",
   "execution_count": 384,
   "metadata": {},
   "outputs": [],
   "source": [
    "b_df = pd.DataFrame(  \n",
    "     {'HEAT/HOT WATER': brooklyn_top_complainers['HEAT/HOT WATER'],\n",
    " 'PLUMBING': brooklyn_top_complainers['PLUMBING'],\n",
    " 'Missed Collection (All Materials)': brooklyn_top_complainers['Missed Collection (All Materials)'],\n",
    " 'Request Large Bulky Item Collection': brooklyn_top_complainers['Request Large Bulky Item Collection'],\n",
    " 'PAINT/PLASTER': brooklyn_top_complainers['PAINT/PLASTER'],\n",
    " 'Street Condition': brooklyn_top_complainers['Street Condition'],\n",
    " 'Noise - Residential': brooklyn_top_complainers['Noise - Residential'],\n",
    " 'UNSANITARY CONDITION': brooklyn_top_complainers['UNSANITARY CONDITION'],\n",
    " 'Illegal Parking': brooklyn_top_complainers['Illegal Parking'],\n",
    " 'Blocked Driveway': brooklyn_top_complainers['Blocked Driveway'],\n",
    " 'Borough' : \"Brooklyn\"\n",
    "     }, index={0} \n",
    ")\n",
    "SI_df = pd.DataFrame(\n",
    "     {'HEAT/HOT WATER': brooklyn_top_complainers['HEAT/HOT WATER'],\n",
    " 'PLUMBING': brooklyn_top_complainers['PLUMBING'],\n",
    " 'Missed Collection (All Materials)': brooklyn_top_complainers['Missed Collection (All Materials)'],\n",
    " 'Request Large Bulky Item Collection': brooklyn_top_complainers['Request Large Bulky Item Collection'],\n",
    " 'PAINT/PLASTER': brooklyn_top_complainers['PAINT/PLASTER'],\n",
    " 'Street Condition': brooklyn_top_complainers['Street Condition'],\n",
    " 'Noise - Residential': brooklyn_top_complainers['Noise - Residential'],\n",
    " 'UNSANITARY CONDITION': brooklyn_top_complainers['UNSANITARY CONDITION'],\n",
    " 'Illegal Parking': brooklyn_top_complainers['Illegal Parking'],\n",
    " 'Blocked Driveway': brooklyn_top_complainers['Blocked Driveway']}, index={0}\n",
    ")\n",
    "SI_df = pd.DataFrame(\n",
    "     {'HEAT/HOT WATER': brooklyn_top_complainers['HEAT/HOT WATER'],\n",
    " 'PLUMBING': brooklyn_top_complainers['PLUMBING'],\n",
    " 'Missed Collection (All Materials)': brooklyn_top_complainers['Missed Collection (All Materials)'],\n",
    " 'Request Large Bulky Item Collection': brooklyn_top_complainers['Request Large Bulky Item Collection'],\n",
    " 'PAINT/PLASTER': brooklyn_top_complainers['PAINT/PLASTER'],\n",
    " 'Street Condition': brooklyn_top_complainers['Street Condition'],\n",
    " 'Noise - Residential': brooklyn_top_complainers['Noise - Residential'],\n",
    " 'UNSANITARY CONDITION': brooklyn_top_complainers['UNSANITARY CONDITION'],\n",
    " 'Illegal Parking': brooklyn_top_complainers['Illegal Parking'],\n",
    " 'Blocked Driveway': brooklyn_top_complainers['Blocked Driveway'],\n",
    "  'Borough': 'Staten Island'\n",
    "     }\n",
    "    , index={0}\n",
    ")\n",
    "\n",
    "queens_df = pd.DataFrame(\n",
    "     {'HEAT/HOT WATER': queens_top_complainers['HEAT/HOT WATER'],\n",
    " 'PLUMBING': queens_top_complainers['PLUMBING'],\n",
    " 'Missed Collection (All Materials)': queens_top_complainers['Missed Collection (All Materials)'],\n",
    " 'Request Large Bulky Item Collection': queens_top_complainers['Request Large Bulky Item Collection'],\n",
    " 'PAINT/PLASTER': queens_top_complainers['PAINT/PLASTER'],\n",
    " 'Street Condition': queens_top_complainers['Street Condition'],\n",
    " 'Noise - Residential': queens_top_complainers['Noise - Residential'],\n",
    " 'UNSANITARY CONDITION': queens_top_complainers['UNSANITARY CONDITION'],\n",
    " 'Illegal Parking': queens_top_complainers['Illegal Parking'],\n",
    " 'Blocked Driveway': queens_top_complainers['Blocked Driveway'],\n",
    " \"Borough\": \"Queens\"\n",
    " }, index={0}\n",
    ")\n",
    "\n",
    "manhattan_dfs = pd.DataFrame(\n",
    "     {'HEAT/HOT WATER': manhattan_top_complainers ['HEAT/HOT WATER'],\n",
    " 'PLUMBING': manhattan_top_complainers ['PLUMBING'],\n",
    " 'Missed Collection (All Materials)': manhattan_top_complainers ['Missed Collection (All Materials)'],\n",
    " 'Request Large Bulky Item Collection': manhattan_top_complainers ['Request Large Bulky Item Collection'],\n",
    " 'PAINT/PLASTER': manhattan_top_complainers ['PAINT/PLASTER'],\n",
    " 'Street Condition': manhattan_top_complainers ['Street Condition'],\n",
    " 'Noise - Residential': manhattan_top_complainers ['Noise - Residential'],\n",
    " 'UNSANITARY CONDITION': manhattan_top_complainers ['UNSANITARY CONDITION'],\n",
    " 'Illegal Parking': manhattan_top_complainers ['Illegal Parking'],\n",
    " 'Blocked Driveway': manhattan_top_complainers ['Blocked Driveway'],\n",
    " \"Borough\": \"Manhattan\"}, index={0}\n",
    ")"
   ]
  },
  {
   "cell_type": "code",
   "execution_count": 387,
   "metadata": {},
   "outputs": [
    {
     "data": {
      "text/html": [
       "<div>\n",
       "<style scoped>\n",
       "    .dataframe tbody tr th:only-of-type {\n",
       "        vertical-align: middle;\n",
       "    }\n",
       "\n",
       "    .dataframe tbody tr th {\n",
       "        vertical-align: top;\n",
       "    }\n",
       "\n",
       "    .dataframe thead th {\n",
       "        text-align: right;\n",
       "    }\n",
       "</style>\n",
       "<table border=\"1\" class=\"dataframe\">\n",
       "  <thead>\n",
       "    <tr style=\"text-align: right;\">\n",
       "      <th></th>\n",
       "      <th>HEAT/HOT WATER</th>\n",
       "      <th>PLUMBING</th>\n",
       "      <th>Missed Collection (All Materials)</th>\n",
       "      <th>Request Large Bulky Item Collection</th>\n",
       "      <th>PAINT/PLASTER</th>\n",
       "      <th>Street Condition</th>\n",
       "      <th>Noise - Residential</th>\n",
       "      <th>UNSANITARY CONDITION</th>\n",
       "      <th>Illegal Parking</th>\n",
       "      <th>Blocked Driveway</th>\n",
       "      <th>Borough</th>\n",
       "    </tr>\n",
       "  </thead>\n",
       "  <tbody>\n",
       "    <tr>\n",
       "      <th>0</th>\n",
       "      <td>434</td>\n",
       "      <td>758</td>\n",
       "      <td>333</td>\n",
       "      <td>2099</td>\n",
       "      <td>686</td>\n",
       "      <td>359</td>\n",
       "      <td>285</td>\n",
       "      <td>1315</td>\n",
       "      <td>655</td>\n",
       "      <td>184</td>\n",
       "      <td>Brooklyn</td>\n",
       "    </tr>\n",
       "    <tr>\n",
       "      <th>0</th>\n",
       "      <td>434</td>\n",
       "      <td>758</td>\n",
       "      <td>333</td>\n",
       "      <td>2099</td>\n",
       "      <td>686</td>\n",
       "      <td>359</td>\n",
       "      <td>285</td>\n",
       "      <td>1315</td>\n",
       "      <td>655</td>\n",
       "      <td>184</td>\n",
       "      <td>Staten Island</td>\n",
       "    </tr>\n",
       "    <tr>\n",
       "      <th>0</th>\n",
       "      <td>289</td>\n",
       "      <td>433</td>\n",
       "      <td>505</td>\n",
       "      <td>2129</td>\n",
       "      <td>216</td>\n",
       "      <td>601</td>\n",
       "      <td>33</td>\n",
       "      <td>487</td>\n",
       "      <td>438</td>\n",
       "      <td>374</td>\n",
       "      <td>Queens</td>\n",
       "    </tr>\n",
       "    <tr>\n",
       "      <th>0</th>\n",
       "      <td>324</td>\n",
       "      <td>471</td>\n",
       "      <td>74</td>\n",
       "      <td>108</td>\n",
       "      <td>650</td>\n",
       "      <td>431</td>\n",
       "      <td>239</td>\n",
       "      <td>723</td>\n",
       "      <td>111</td>\n",
       "      <td>5</td>\n",
       "      <td>Manhattan</td>\n",
       "    </tr>\n",
       "    <tr>\n",
       "      <th>0</th>\n",
       "      <td>368</td>\n",
       "      <td>723</td>\n",
       "      <td>145</td>\n",
       "      <td>326</td>\n",
       "      <td>955</td>\n",
       "      <td>208</td>\n",
       "      <td>482</td>\n",
       "      <td>1319</td>\n",
       "      <td>38</td>\n",
       "      <td>199</td>\n",
       "      <td>Bronx</td>\n",
       "    </tr>\n",
       "  </tbody>\n",
       "</table>\n",
       "</div>"
      ],
      "text/plain": [
       "   HEAT/HOT WATER  PLUMBING  Missed Collection (All Materials)  \\\n",
       "0             434       758                                333   \n",
       "0             434       758                                333   \n",
       "0             289       433                                505   \n",
       "0             324       471                                 74   \n",
       "0             368       723                                145   \n",
       "\n",
       "   Request Large Bulky Item Collection  PAINT/PLASTER  Street Condition  \\\n",
       "0                                 2099            686               359   \n",
       "0                                 2099            686               359   \n",
       "0                                 2129            216               601   \n",
       "0                                  108            650               431   \n",
       "0                                  326            955               208   \n",
       "\n",
       "   Noise - Residential  UNSANITARY CONDITION  Illegal Parking  \\\n",
       "0                  285                  1315              655   \n",
       "0                  285                  1315              655   \n",
       "0                   33                   487              438   \n",
       "0                  239                   723              111   \n",
       "0                  482                  1319               38   \n",
       "\n",
       "   Blocked Driveway        Borough  \n",
       "0               184       Brooklyn  \n",
       "0               184  Staten Island  \n",
       "0               374         Queens  \n",
       "0                 5      Manhattan  \n",
       "0               199          Bronx  "
      ]
     },
     "execution_count": 387,
     "metadata": {},
     "output_type": "execute_result"
    }
   ],
   "source": [
    "\n",
    "b_df.append([SI_df,queens_df,manhattan_dfs,bronx_dfs ])\n"
   ]
  },
  {
   "cell_type": "code",
   "execution_count": 388,
   "metadata": {},
   "outputs": [],
   "source": [
    "# set basic info\n",
    "\n",
    "endpoint = \"https://data.cityofnewyork.us/resource/fhrw-4uyv.json\"\n",
    "pop_complaints = ['HEAT/HOT WATER', 'Noise - Residential', 'Illegal Parking',\n",
    "       'Blocked Driveway', 'Request Large Bulky Item Collection', 'PLUMBING',\n",
    "       'Missed Collection (All Materials)', 'UNSANITARY CONDITION',\n",
    "       'PAINT/PLASTER', 'Street Condition']\n",
    "\n",
    "\n",
    "def get_all_complain_types():\n",
    "\tendpoint = \"https://data.cityofnewyork.us/resource/fhrw-4uyv.json?$where=complaint_type IS NOT NULL\"\n",
    "\tresponse = requests.get(endpoint)\n",
    "\tcomplaint_types = []\n",
    "\tfor entry in response.json():\n",
    "\t\tcomplaint_types.append(entry['complaint_type'])\n",
    "\treturn complaint_types\n",
    "\n",
    "def get_entries_by_year(year):\n",
    "\tendpoint = 'https://data.cityofnewyork.us/resource/fhrw-4uyv.json?$where=created_date between \"%s-01-01T00:00:00\" and \"%s-12-31T23:59:59\"' % (year, year)\n",
    "\tresponse = requests.get(endpoint)\n",
    "\treturn response.json()\n",
    "\n"
   ]
  },
  {
   "cell_type": "code",
   "execution_count": 27,
   "metadata": {},
   "outputs": [
    {
     "ename": "NameError",
     "evalue": "name 'manhattan_dfs' is not defined",
     "output_type": "error",
     "traceback": [
      "\u001b[0;31m---------------------------------------------------------------------------\u001b[0m",
      "\u001b[0;31mNameError\u001b[0m                                 Traceback (most recent call last)",
      "\u001b[0;32m<ipython-input-27-836a61b7a528>\u001b[0m in \u001b[0;36m<module>\u001b[0;34m\u001b[0m\n\u001b[0;32m----> 1\u001b[0;31m \u001b[0mmanhattan_dfs\u001b[0m\u001b[0;34m\u001b[0m\u001b[0;34m\u001b[0m\u001b[0m\n\u001b[0m",
      "\u001b[0;31mNameError\u001b[0m: name 'manhattan_dfs' is not defined"
     ]
    }
   ],
   "source": [
    "manhattan_dfs"
   ]
  },
  {
   "cell_type": "code",
   "execution_count": null,
   "metadata": {},
   "outputs": [],
   "source": []
  }
 ],
 "metadata": {
  "kernelspec": {
   "display_name": "Python 3",
   "language": "python",
   "name": "python3"
  },
  "language_info": {
   "codemirror_mode": {
    "name": "ipython",
    "version": 3
   },
   "file_extension": ".py",
   "mimetype": "text/x-python",
   "name": "python",
   "nbconvert_exporter": "python",
   "pygments_lexer": "ipython3",
   "version": "3.7.1"
  }
 },
 "nbformat": 4,
 "nbformat_minor": 2
}
