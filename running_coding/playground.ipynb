{
 "cells": [
  {
   "cell_type": "code",
   "execution_count": 21,
   "metadata": {},
   "outputs": [],
   "source": [
    "import requests\n",
    "import pandas as pd\n",
    "import numpy as np\n",
    "import csv\n",
    "\n",
    "city_data_input_file = pd.read_excel(\"../../../downloads/tocopycitydata.xlsx\")\n",
    "zipcode_file = pd.read_excel(\"../../../downloads/Zips2010_90.xlsx\")\n",
    "# csv_zip_file = zip_df.to_csv()\n",
    "\n",
    "city_data_df = pd.DataFrame(\n",
    "     {'Unique Key' : city_data_input_file[\"Unique Key\"],\n",
    "        'Created Date' : city_data_input_file[\"Created Date\"],\n",
    "        'Closed Date' : city_data_input_file[\"Closed Date\"],\n",
    "        'Complaint Type' : city_data_input_file[\"Complaint Type\"],\n",
    "        'Incident Zip' : city_data_input_file[\"Incident Zip\"],\n",
    "        'Status' : city_data_input_file[\"Status\"],\n",
    "        'Borough' : city_data_input_file[\"Borough\"]\n",
    "     })\n",
    "\n",
    "# populations_df = pd.DataFrame(\n",
    "#     {\n",
    "#         'Incident Zip': zipcode_file['Incident Zips'],\n",
    "#         'Population': zipcode_file['Population']\n",
    "#     }\n",
    "# )\n",
    "\n",
    "\n",
    "def group_boroughs_by_zips():\n",
    "\n",
    "    borough_list = [\"BROOKLYN\", \"QUEENS\", \"BRONX\", \"STATEN ISLAND\", \"MANHATTAN\"]\n",
    "\n",
    "    borough_zips = {\n",
    "    \"BROOKLYN\" : [],\n",
    "    \"QUEENS\": [],\n",
    "    \"BRONX\": [],\n",
    "    \"STATEN ISLAND\": [],\n",
    "    \"MANHATTAN\": []\n",
    "}\n",
    "    for index, row in city_data_input_file.iterrows():\n",
    "        for borough in borough_list:\n",
    "            if row[\"Borough\"] == borough:\n",
    "                borough_zips[borough].append(row['Incident Zip'])\n",
    "    \n",
    "    return(borough_zips)\n"
   ]
  },
  {
   "cell_type": "code",
   "execution_count": 22,
   "metadata": {},
   "outputs": [],
   "source": [
    "brooklyn_zips = group_boroughs_by_zips()['BROOKLYN']\n",
    "queens_zips = group_boroughs_by_zips()['QUEENS']\n",
    "bronx_zips = group_boroughs_by_zips()['BRONX']\n",
    "manhattan_zips = group_boroughs_by_zips()['MANHATTAN']\n",
    "si_zips = group_boroughs_by_zips()['STATEN ISLAND']\n"
   ]
  },
  {
   "cell_type": "code",
   "execution_count": 23,
   "metadata": {},
   "outputs": [],
   "source": [
    "brooklyn_series = pd.Series(brooklyn_zips).dropna().unique()\n",
    "queens_series = pd.Series(queens_zips).dropna().unique()\n",
    "bronx_series = pd.Series(bronx_zips).dropna().unique()\n",
    "manhattan_series = pd.Series(manhattan_zips).dropna().unique()\n",
    "si_series = pd.Series(si_zips).dropna().unique()\n",
    "\n",
    "\n",
    "        \n",
    "# brooklyn_series #iterate through zipcode_file, checking if in brooklyn_series. \n",
    "#if so, increment counter of brooklyn_pop"
   ]
  },
  {
   "cell_type": "code",
   "execution_count": 24,
   "metadata": {},
   "outputs": [
    {
     "data": {
      "text/plain": [
       "array([11436., 11417., 11368., 11378., 11433., 11412., 11385., 11419.,\n",
       "       11413., 11356., 11103., 11418., 11375., 11374., 11105., 11106.,\n",
       "       11369., 11363., 11434., 11423., 11421., 11370., 11361., 11372.,\n",
       "       11362., 11358., 11692., 11360., 11414., 11691., 11427., 11365.,\n",
       "       11364., 11366., 11435., 11373., 11377., 11379., 11428., 11355.,\n",
       "       11422., 11420., 11357., 11367., 11354., 11104., 11693., 11102.,\n",
       "       11416., 11432., 11101., 11429., 11415., 11040., 11411., 11001.,\n",
       "       11426., 11430., 11694., 11371., 11004., 11208.])"
      ]
     },
     "execution_count": 24,
     "metadata": {},
     "output_type": "execute_result"
    }
   ],
   "source": [
    "queens_series"
   ]
  },
  {
   "cell_type": "code",
   "execution_count": 25,
   "metadata": {},
   "outputs": [],
   "source": [
    "def count_brooklyn_people():\n",
    "    \n",
    "    borough_counter = 0 # dictionary of boroughs or you will need to append tables together.\n",
    "    for index, row in zipcode_file.iterrows():\n",
    "        for zipcode in brooklyn_series:\n",
    "            incident_zips_value = row['Incident Zips']\n",
    "            if zipcode == incident_zips_value:\n",
    "                borough_counter += int(incident_zips_value)\n",
    "                \n",
    "            \n",
    "\n",
    "    \n",
    "    print (borough_counter)\n"
   ]
  },
  {
   "cell_type": "code",
   "execution_count": 26,
   "metadata": {},
   "outputs": [],
   "source": [
    "def count_queens_people():\n",
    "    \n",
    "    borough_counter = 0 # dictionary of boroughs or you will need to append tables together.\n",
    "    for index, row in zipcode_file.iterrows():\n",
    "        for zipcode in queens_series:\n",
    "            incident_zips_value = row['Incident Zips']\n",
    "            if zipcode == incident_zips_value:\n",
    "                borough_counter += int(incident_zips_value)\n",
    "                \n",
    "            \n",
    "\n",
    "    \n",
    "    print (borough_counter)\n"
   ]
  },
  {
   "cell_type": "code",
   "execution_count": 27,
   "metadata": {},
   "outputs": [],
   "source": [
    "def count_bronx_people():\n",
    "    \n",
    "    borough_counter = 0 # dictionary of boroughs or you will need to append tables together.\n",
    "    for index, row in zipcode_file.iterrows():\n",
    "        for zipcode in bronx_series:\n",
    "            incident_zips_value = row['Incident Zips']\n",
    "            if zipcode == incident_zips_value:\n",
    "                borough_counter += int(incident_zips_value)\n",
    "                \n",
    "            \n",
    "\n",
    "    \n",
    "    print (borough_counter)\n"
   ]
  },
  {
   "cell_type": "code",
   "execution_count": 28,
   "metadata": {},
   "outputs": [],
   "source": [
    "def count_manhattan_people():\n",
    "    \n",
    "    borough_counter = 0 # dictionary of boroughs or you will need to append tables together.\n",
    "    for index, row in zipcode_file.iterrows():\n",
    "        print(row)\n",
    "#         for zipcode in manhattan_series:\n",
    "#             incident_zips_value = row['Incident Zips']\n",
    "#             if zipcode == incident_zips_value:\n",
    "#                 borough_counter += int(incident_zips_value)\n",
    "               \n",
    "            \n",
    "\n",
    "    \n",
    "    print (borough_counter)\n"
   ]
  },
  {
   "cell_type": "code",
   "execution_count": 29,
   "metadata": {},
   "outputs": [],
   "source": [
    "def count_si_people():\n",
    "    \n",
    "    borough_counter = 0 # dictionary of boroughs or you will need to append tables together.\n",
    "    for index, row in zipcode_file.iterrows():\n",
    "        for zipcode in si_series:\n",
    "            incident_zips_value = row['Incident Zips']\n",
    "            if zipcode == incident_zips_value:\n",
    "                borough_counter += int(incident_zips_value)\n",
    "                \n",
    "            \n",
    "\n",
    "    \n",
    "    print (borough_counter)\n"
   ]
  },
  {
   "cell_type": "code",
   "execution_count": 30,
   "metadata": {},
   "outputs": [
    {
     "name": "stdout",
     "output_type": "stream",
     "text": [
      "704554\n",
      "415151\n",
      "123681\n",
      "261575\n"
     ]
    }
   ],
   "source": [
    "queens_pop = count_queens_people()\n",
    "brooklyn_pop = count_brooklyn_people()\n",
    "si_pop = count_si_people()\n",
    "bronx_pop = count_bronx_people()\n",
    "# pd.DataFrame(manhattan_pop = count_manhattan_people()"
   ]
  },
  {
   "cell_type": "code",
   "execution_count": null,
   "metadata": {},
   "outputs": [],
   "source": [
    "\n"
   ]
  },
  {
   "cell_type": "code",
   "execution_count": 31,
   "metadata": {},
   "outputs": [],
   "source": [
    "\n",
    "population_df = pd.DataFrame(\n",
    "    {\n",
    "        \"BROOKLYN\" : '261575',\n",
    "        \"QUEENS\": '415151',\n",
    "        \"BRONX\": '123681',\n",
    "        \"STATEN ISLAND\": '261575',\n",
    "        \"MANHATTAN\": '261575'\n",
    "    }, index={0}\n",
    ")\n"
   ]
  },
  {
   "cell_type": "code",
   "execution_count": 32,
   "metadata": {},
   "outputs": [
    {
     "data": {
      "text/plain": [
       "{'BROOKLYN': {0: '261575'},\n",
       " 'QUEENS': {0: '415151'},\n",
       " 'BRONX': {0: '123681'},\n",
       " 'STATEN ISLAND': {0: '261575'},\n",
       " 'MANHATTAN': {0: '261575'}}"
      ]
     },
     "execution_count": 32,
     "metadata": {},
     "output_type": "execute_result"
    }
   ],
   "source": [
    "pop_dict = population_df.to_dict()\n",
    "pop_dict "
   ]
  },
  {
   "cell_type": "code",
   "execution_count": 33,
   "metadata": {},
   "outputs": [],
   "source": [
    "queens_pop"
   ]
  },
  {
   "cell_type": "code",
   "execution_count": 34,
   "metadata": {},
   "outputs": [
    {
     "data": {
      "text/plain": [
       "{'BRONX': 8699,\n",
       " 'BROOKLYN': 14437,\n",
       " 'Borough': 17,\n",
       " 'MANHATTAN': 7738,\n",
       " 'QUEENS': 11108,\n",
       " 'STATEN ISLAND': 2061,\n",
       " 'Unspecified': 973}"
      ]
     },
     "execution_count": 34,
     "metadata": {},
     "output_type": "execute_result"
    }
   ],
   "source": [
    "total_complaints_borough = city_data_input_file.groupby(\"Borough\").size().to_dict()\n",
    "total_complaints_borough"
   ]
  },
  {
   "cell_type": "code",
   "execution_count": 35,
   "metadata": {},
   "outputs": [
    {
     "data": {
      "text/html": [
       "<div>\n",
       "<style scoped>\n",
       "    .dataframe tbody tr th:only-of-type {\n",
       "        vertical-align: middle;\n",
       "    }\n",
       "\n",
       "    .dataframe tbody tr th {\n",
       "        vertical-align: top;\n",
       "    }\n",
       "\n",
       "    .dataframe thead th {\n",
       "        text-align: right;\n",
       "    }\n",
       "</style>\n",
       "<table border=\"1\" class=\"dataframe\">\n",
       "  <thead>\n",
       "    <tr style=\"text-align: right;\">\n",
       "      <th></th>\n",
       "      <th>Complainer Totals</th>\n",
       "    </tr>\n",
       "  </thead>\n",
       "  <tbody>\n",
       "    <tr>\n",
       "      <th>BRONX</th>\n",
       "      <td>8699</td>\n",
       "    </tr>\n",
       "    <tr>\n",
       "      <th>BROOKLYN</th>\n",
       "      <td>14437</td>\n",
       "    </tr>\n",
       "    <tr>\n",
       "      <th>Borough</th>\n",
       "      <td>17</td>\n",
       "    </tr>\n",
       "    <tr>\n",
       "      <th>MANHATTAN</th>\n",
       "      <td>7738</td>\n",
       "    </tr>\n",
       "    <tr>\n",
       "      <th>QUEENS</th>\n",
       "      <td>11108</td>\n",
       "    </tr>\n",
       "    <tr>\n",
       "      <th>STATEN ISLAND</th>\n",
       "      <td>2061</td>\n",
       "    </tr>\n",
       "    <tr>\n",
       "      <th>Unspecified</th>\n",
       "      <td>973</td>\n",
       "    </tr>\n",
       "  </tbody>\n",
       "</table>\n",
       "</div>"
      ],
      "text/plain": [
       "               Complainer Totals\n",
       "BRONX                       8699\n",
       "BROOKLYN                   14437\n",
       "Borough                       17\n",
       "MANHATTAN                   7738\n",
       "QUEENS                     11108\n",
       "STATEN ISLAND               2061\n",
       "Unspecified                  973"
      ]
     },
     "execution_count": 35,
     "metadata": {},
     "output_type": "execute_result"
    }
   ],
   "source": [
    "total_complaints_data_frame = pd.DataFrame.from_dict(total_complaints_borough, orient='index', columns=['Complainer Totals'])\n",
    "\n",
    "total_complaints_data_frame\n",
    "    "
   ]
  },
  {
   "cell_type": "code",
   "execution_count": 36,
   "metadata": {},
   "outputs": [
    {
     "data": {
      "text/plain": [
       "'261575'"
      ]
     },
     "execution_count": 36,
     "metadata": {},
     "output_type": "execute_result"
    }
   ],
   "source": [
    "pop_dict['MANHATTAN'][0]"
   ]
  },
  {
   "cell_type": "code",
   "execution_count": 45,
   "metadata": {},
   "outputs": [
    {
     "data": {
      "text/plain": [
       "'261575'"
      ]
     },
     "execution_count": 45,
     "metadata": {},
     "output_type": "execute_result"
    }
   ],
   "source": [
    "total_complaints_borough[\"BRONX\"]\n",
    "\n",
    "# populations #\n",
    "pop_dict = population_df.to_dict()\n",
    "brooklyn_pop = pop_dict['BROOKLYN'][0]\n",
    "queens_pop = pop_dict['QUEENS'][0]\n",
    "bronx_pop = pop_dict['BRONX'][0]\n",
    "si_pop = pop_dict['STATEN ISLAND'][0]\n",
    "manhattan_pop = pop_dict['MANHATTAN'][0]\n",
    "\n",
    "complainer_totals = {\n",
    "    'BROOKLYN': int(total_complaints_borough['BROOKLYN']),\n",
    "    'QUEENS': int(total_complaints_borough['QUEENS']),\n",
    "    'BRONX': int(total_complaints_borough['BRONX']),\n",
    "    'STATEN ISLAND': int(total_complaints_borough['STATEN ISLAND']),\n",
    "    'MANHATTAN': int(total_complaints_borough['MANHATTAN'])    \n",
    "}\n",
    "\n",
    "brooklyn_populace = pd.DataFrame( ## brooklyn \n",
    "    {\n",
    "        \"Borough\": \"BROOKLYN\",\n",
    "        \"Complainer Totals\": complainer_totals[\"BROOKLYN\"], \n",
    "        \"Complainer-Index\": complainer_totals[\"BROOKLYN\"]/int(brooklyn_pop),\n",
    "        \"Population\": brooklyn_pop\n",
    "    }, index={0}\n",
    ")\n",
    "\n",
    "\n",
    "queens_populace = pd.DataFrame( ## queens \n",
    "    {\n",
    "        \"Borough\": \"QUEENS\",\n",
    "        \"Complainer Totals\": complainer_totals[\"QUEENS\"], \n",
    "        \"Complainer-Index\": complainer_totals[\"QUEENS\"]/int(queens_pop),\n",
    "        \"Population\": queens_pop\n",
    "        \n",
    "        \n",
    "    }, index={0}\n",
    ")\n",
    "\n",
    "bronx_populace = pd.DataFrame( ## bronx \n",
    "    {\n",
    "        \"Borough\": \"BRONX\",\n",
    "        \"Complainer Totals\": complainer_totals[\"BRONX\"], \n",
    "        \"Complainer-Index\": complainer_totals[\"BRONX\"]/int(bronx_pop),\n",
    "        \"Population\": bronx_pop\n",
    "        \n",
    "    }, index={0}\n",
    ")\n",
    "\n",
    "si_populace = pd.DataFrame( ## staten island \n",
    "    {\n",
    "        \"Borough\": \"STATEN ISLAND\",\n",
    "        \"Complainer Totals\": complainer_totals[\"STATEN ISLAND\"], \n",
    "        \"Complainer-Index\": complainer_totals[\"STATEN ISLAND\"]/int(si_pop),\n",
    "        \"Population\": si_pop\n",
    "        \n",
    "    }, index={0}\n",
    ")\n",
    "\n",
    "manhattan_populace = pd.DataFrame( ## staten island \n",
    "    {\n",
    "        \"Borough\": \"MANHATTAN\",\n",
    "        \"Complainer Totals\": total_complaints_borough[\"MANHATTAN\"], \n",
    "        \"Complainer-Index\": complainer_totals[\"MANHATTAN\"]/int(manhattan_pop),\n",
    "        \"Population\": manhattan_pop\n",
    "        \n",
    "    }, index={0}\n",
    ")\n",
    "brooklyn_pop"
   ]
  },
  {
   "cell_type": "code",
   "execution_count": 49,
   "metadata": {},
   "outputs": [
    {
     "data": {
      "text/html": [
       "<div>\n",
       "<style scoped>\n",
       "    .dataframe tbody tr th:only-of-type {\n",
       "        vertical-align: middle;\n",
       "    }\n",
       "\n",
       "    .dataframe tbody tr th {\n",
       "        vertical-align: top;\n",
       "    }\n",
       "\n",
       "    .dataframe thead th {\n",
       "        text-align: right;\n",
       "    }\n",
       "</style>\n",
       "<table border=\"1\" class=\"dataframe\">\n",
       "  <thead>\n",
       "    <tr style=\"text-align: right;\">\n",
       "      <th></th>\n",
       "      <th>Borough</th>\n",
       "      <th>Complainer Totals</th>\n",
       "      <th>Complainer-Index</th>\n",
       "      <th>Population</th>\n",
       "    </tr>\n",
       "  </thead>\n",
       "  <tbody>\n",
       "    <tr>\n",
       "      <th>0</th>\n",
       "      <td>BROOKLYN</td>\n",
       "      <td>14437</td>\n",
       "      <td>0.055193</td>\n",
       "      <td>261575</td>\n",
       "    </tr>\n",
       "    <tr>\n",
       "      <th>0</th>\n",
       "      <td>QUEENS</td>\n",
       "      <td>11108</td>\n",
       "      <td>0.026757</td>\n",
       "      <td>415151</td>\n",
       "    </tr>\n",
       "    <tr>\n",
       "      <th>0</th>\n",
       "      <td>BRONX</td>\n",
       "      <td>8699</td>\n",
       "      <td>0.070334</td>\n",
       "      <td>123681</td>\n",
       "    </tr>\n",
       "    <tr>\n",
       "      <th>0</th>\n",
       "      <td>STATEN ISLAND</td>\n",
       "      <td>2061</td>\n",
       "      <td>0.007879</td>\n",
       "      <td>261575</td>\n",
       "    </tr>\n",
       "    <tr>\n",
       "      <th>0</th>\n",
       "      <td>MANHATTAN</td>\n",
       "      <td>7738</td>\n",
       "      <td>0.029582</td>\n",
       "      <td>261575</td>\n",
       "    </tr>\n",
       "  </tbody>\n",
       "</table>\n",
       "</div>"
      ],
      "text/plain": [
       "         Borough  Complainer Totals  Complainer-Index Population\n",
       "0       BROOKLYN              14437          0.055193     261575\n",
       "0         QUEENS              11108          0.026757     415151\n",
       "0          BRONX               8699          0.070334     123681\n",
       "0  STATEN ISLAND               2061          0.007879     261575\n",
       "0      MANHATTAN               7738          0.029582     261575"
      ]
     },
     "execution_count": 49,
     "metadata": {},
     "output_type": "execute_result"
    }
   ],
   "source": [
    "all_boroughs = brooklyn_populace.append([queens_populace, bronx_populace, si_populace, manhattan_populace])\n",
    "all_boroughs"
   ]
  },
  {
   "cell_type": "code",
   "execution_count": null,
   "metadata": {},
   "outputs": [],
   "source": []
  },
  {
   "cell_type": "code",
   "execution_count": 13,
   "metadata": {},
   "outputs": [],
   "source": [
    "# populations = {}\n",
    "\n",
    "# for index, row in populations_df.iterrows():\n",
    "#     incident_zips_row_value = row['Incident Zip']\n",
    "#     population_row_value = row['Population']"
   ]
  },
  {
   "cell_type": "code",
   "execution_count": 14,
   "metadata": {},
   "outputs": [],
   "source": [
    "# incident_zips_row_value "
   ]
  },
  {
   "cell_type": "code",
   "execution_count": 15,
   "metadata": {},
   "outputs": [],
   "source": [
    "# population_row_value"
   ]
  },
  {
   "cell_type": "code",
   "execution_count": null,
   "metadata": {},
   "outputs": [],
   "source": [
    "def count_manhattan_people():\n",
    "    borough_counter = 0 # dictionary of boroughs or you will need to append tables together.\n",
    "    for index, row in zipcode_file.iterrows():\n",
    "#         print(int(row['Population']))\n",
    "        for zipcode in manhattan_series:\n",
    "            incident_zips_value = row['Incident Zips']\n",
    "            if zipcode == incident_zips_value:\n",
    "                borough_counter += int(incident_zips_value)\n",
    "    print (borough_counter)\n"
   ]
  },
  {
   "cell_type": "code",
   "execution_count": null,
   "metadata": {},
   "outputs": [],
   "source": []
  },
  {
   "cell_type": "code",
   "execution_count": null,
   "metadata": {},
   "outputs": [],
   "source": []
  },
  {
   "cell_type": "code",
   "execution_count": null,
   "metadata": {},
   "outputs": [],
   "source": []
  },
  {
   "cell_type": "code",
   "execution_count": null,
   "metadata": {},
   "outputs": [],
   "source": []
  },
  {
   "cell_type": "code",
   "execution_count": 48,
   "metadata": {},
   "outputs": [
    {
     "data": {
      "text/html": [
       "<div>\n",
       "<style scoped>\n",
       "    .dataframe tbody tr th:only-of-type {\n",
       "        vertical-align: middle;\n",
       "    }\n",
       "\n",
       "    .dataframe tbody tr th {\n",
       "        vertical-align: top;\n",
       "    }\n",
       "\n",
       "    .dataframe thead th {\n",
       "        text-align: right;\n",
       "    }\n",
       "</style>\n",
       "<table border=\"1\" class=\"dataframe\">\n",
       "  <thead>\n",
       "    <tr style=\"text-align: right;\">\n",
       "      <th></th>\n",
       "      <th>Borough</th>\n",
       "      <th>Complainer Totals</th>\n",
       "      <th>Complainer-Index</th>\n",
       "      <th>Population</th>\n",
       "    </tr>\n",
       "  </thead>\n",
       "  <tbody>\n",
       "    <tr>\n",
       "      <th>0</th>\n",
       "      <td>QUEENS</td>\n",
       "      <td>11108</td>\n",
       "      <td>0.026757</td>\n",
       "      <td>415151</td>\n",
       "    </tr>\n",
       "  </tbody>\n",
       "</table>\n",
       "</div>"
      ],
      "text/plain": [
       "  Borough  Complainer Totals  Complainer-Index Population\n",
       "0  QUEENS              11108          0.026757     415151"
      ]
     },
     "execution_count": 48,
     "metadata": {},
     "output_type": "execute_result"
    }
   ],
   "source": []
  },
  {
   "cell_type": "code",
   "execution_count": 46,
   "metadata": {},
   "outputs": [],
   "source": []
  },
  {
   "cell_type": "code",
   "execution_count": 40,
   "metadata": {},
   "outputs": [],
   "source": []
  },
  {
   "cell_type": "code",
   "execution_count": 41,
   "metadata": {},
   "outputs": [
    {
     "data": {
      "text/plain": [
       "{'BROOKLYN': 14437,\n",
       " 'QUEENS': 11108,\n",
       " 'BRONX': 8699,\n",
       " 'STATEN ISLAND': 2061,\n",
       " 'MANHATTAN': 7738}"
      ]
     },
     "execution_count": 41,
     "metadata": {},
     "output_type": "execute_result"
    }
   ],
   "source": []
  },
  {
   "cell_type": "code",
   "execution_count": 47,
   "metadata": {},
   "outputs": [
    {
     "data": {
      "text/html": [
       "<div>\n",
       "<style scoped>\n",
       "    .dataframe tbody tr th:only-of-type {\n",
       "        vertical-align: middle;\n",
       "    }\n",
       "\n",
       "    .dataframe tbody tr th {\n",
       "        vertical-align: top;\n",
       "    }\n",
       "\n",
       "    .dataframe thead th {\n",
       "        text-align: right;\n",
       "    }\n",
       "</style>\n",
       "<table border=\"1\" class=\"dataframe\">\n",
       "  <thead>\n",
       "    <tr style=\"text-align: right;\">\n",
       "      <th></th>\n",
       "      <th>Borough</th>\n",
       "      <th>Complainer Totals</th>\n",
       "      <th>Complainer-Index</th>\n",
       "      <th>Population</th>\n",
       "    </tr>\n",
       "  </thead>\n",
       "  <tbody>\n",
       "    <tr>\n",
       "      <th>0</th>\n",
       "      <td>QUEENS</td>\n",
       "      <td>11108</td>\n",
       "      <td>0.026757</td>\n",
       "      <td>415151</td>\n",
       "    </tr>\n",
       "  </tbody>\n",
       "</table>\n",
       "</div>"
      ],
      "text/plain": [
       "  Borough  Complainer Totals  Complainer-Index Population\n",
       "0  QUEENS              11108          0.026757     415151"
      ]
     },
     "execution_count": 47,
     "metadata": {},
     "output_type": "execute_result"
    }
   ],
   "source": []
  },
  {
   "cell_type": "code",
   "execution_count": 50,
   "metadata": {},
   "outputs": [],
   "source": [
    "\n",
    "def count_brooklyn_people():\n",
    "    borough_counter = 0 # dictionary of boroughs or you will need to append tables together.\n",
    "    for index, row in zipcode_file.iterrows():\n",
    "        for zipcode in brooklyn_series:\n",
    "            incident_zips_value = row['Incident Zips']\n",
    "            if zipcode == incident_zips_value:\n",
    "                borough_counter += int(incident_zips_value)\n",
    "    print (borough_counter)\n",
    "\n",
    "\n",
    "def count_queens_people():\n",
    "\n",
    "    borough_counter = 0 # dictionary of boroughs or you will need to append tables together.\n",
    "    for index, row in zipcode_file.iterrows():\n",
    "        for zipcode in queens_series:\n",
    "            incident_zips_value = row['Incident Zips']\n",
    "            if zipcode == incident_zips_value:\n",
    "                borough_counter += int(incident_zips_value)\n",
    "    print (borough_counter)\n",
    "\n",
    "\n",
    "def count_bronx_people():\n",
    "\n",
    "    borough_counter = 0 # dictionary of boroughs or you will need to append tables together.\n",
    "    for index, row in zipcode_file.iterrows():\n",
    "        for zipcode in bronx_series:\n",
    "            incident_zips_value = row['Incident Zips']\n",
    "            if zipcode == incident_zips_value:\n",
    "                borough_counter += int(incident_zips_value)\n",
    "    print (borough_counter)\n",
    "\n",
    "\n",
    "def count_manhattan_people():\n",
    "    borough_counter = 0 # dictionary of boroughs or you will need to append tables together.\n",
    "    for index, row in zipcode_file.iterrows():\n",
    "#         print(int(row['Population']))\n",
    "        for zipcode in manhattan_series:\n",
    "            incident_zips_value = row['Incident Zips']\n",
    "            if zipcode == incident_zips_value:\n",
    "                borough_counter += int(incident_zips_value)\n",
    "    print (borough_counter)\n",
    "\n",
    "\n",
    "def count_si_people():\n",
    "\n",
    "    borough_counter = 0 # dictionary of boroughs or you will need to append tables together.\n",
    "    for index, row in zipcode_file.iterrows():\n",
    "        for zipcode in si_series:\n",
    "            incident_zips_value = row['Incident Zips']\n",
    "            if zipcode == incident_zips_value:\n",
    "                borough_counter += int(incident_zips_value)\n",
    "    print (borough_counter)"
   ]
  },
  {
   "cell_type": "code",
   "execution_count": 53,
   "metadata": {},
   "outputs": [
    {
     "name": "stdout",
     "output_type": "stream",
     "text": [
      "123681\n",
      "411341\n",
      "261575\n",
      "704554\n",
      "415151\n"
     ]
    }
   ],
   "source": [
    "si_people = count_si_people() #refactor\n",
    "brooklyn_people = count_manhattan_people()\n",
    "bronx_people = count_bronx_people()\n",
    "queens = count_queens_people()\n",
    "brooklyn = count_brooklyn_people()"
   ]
  },
  {
   "cell_type": "code",
   "execution_count": null,
   "metadata": {},
   "outputs": [],
   "source": []
  }
 ],
 "metadata": {
  "kernelspec": {
   "display_name": "Python 3",
   "language": "python",
   "name": "python3"
  },
  "language_info": {
   "codemirror_mode": {
    "name": "ipython",
    "version": 3
   },
   "file_extension": ".py",
   "mimetype": "text/x-python",
   "name": "python",
   "nbconvert_exporter": "python",
   "pygments_lexer": "ipython3",
   "version": "3.7.1"
  }
 },
 "nbformat": 4,
 "nbformat_minor": 2
}
