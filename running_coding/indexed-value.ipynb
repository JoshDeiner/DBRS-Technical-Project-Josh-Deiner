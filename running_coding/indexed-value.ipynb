{
 "cells": [
  {
   "cell_type": "code",
   "execution_count": 9,
   "metadata": {},
   "outputs": [
    {
     "ename": "NameError",
     "evalue": "name 'top_ten_pop_complaints' is not defined",
     "output_type": "error",
     "traceback": [
      "\u001b[0;31m---------------------------------------------------------------------------\u001b[0m",
      "\u001b[0;31mNameError\u001b[0m                                 Traceback (most recent call last)",
      "\u001b[0;32m<ipython-input-9-ce49bfc6b798>\u001b[0m in \u001b[0;36m<module>\u001b[0;34m\u001b[0m\n\u001b[1;32m     12\u001b[0m \u001b[0mcity_data_file_read\u001b[0m\u001b[0;34m=\u001b[0m \u001b[0mpd\u001b[0m\u001b[0;34m.\u001b[0m\u001b[0mread_excel\u001b[0m\u001b[0;34m(\u001b[0m\u001b[0;34m\"../../../downloads/tocopycitydata.xlsx\"\u001b[0m\u001b[0;34m)\u001b[0m\u001b[0;34m\u001b[0m\u001b[0;34m\u001b[0m\u001b[0m\n\u001b[1;32m     13\u001b[0m \u001b[0mboroughs_array\u001b[0m \u001b[0;34m=\u001b[0m \u001b[0mpd\u001b[0m\u001b[0;34m.\u001b[0m\u001b[0mSeries\u001b[0m\u001b[0;34m(\u001b[0m\u001b[0;34m[\u001b[0m\u001b[0;34m'BRONX'\u001b[0m\u001b[0;34m,\u001b[0m \u001b[0;34m'BROOKLYN'\u001b[0m\u001b[0;34m,\u001b[0m \u001b[0;34m'MANHATTAN'\u001b[0m\u001b[0;34m,\u001b[0m \u001b[0;34m'QUEENS'\u001b[0m\u001b[0;34m,\u001b[0m \u001b[0;34m'STATEN ISLAND'\u001b[0m\u001b[0;34m]\u001b[0m\u001b[0;34m)\u001b[0m\u001b[0;34m\u001b[0m\u001b[0;34m\u001b[0m\u001b[0m\n\u001b[0;32m---> 14\u001b[0;31m \u001b[0mtop_ten_pop_complaints_keys\u001b[0m \u001b[0;34m=\u001b[0m \u001b[0mtop_ten_pop_complaints\u001b[0m\u001b[0;34m.\u001b[0m\u001b[0mkeys\u001b[0m\u001b[0;34m(\u001b[0m\u001b[0;34m)\u001b[0m\u001b[0;34m\u001b[0m\u001b[0;34m\u001b[0m\u001b[0m\n\u001b[0m\u001b[1;32m     15\u001b[0m \u001b[0mcomplaints_tops_names\u001b[0m \u001b[0;34m=\u001b[0m \u001b[0mtop_ten_pop_complaints\u001b[0m\u001b[0;34m.\u001b[0m\u001b[0mkeys\u001b[0m\u001b[0;34m(\u001b[0m\u001b[0;34m)\u001b[0m\u001b[0;34m\u001b[0m\u001b[0;34m\u001b[0m\u001b[0m\n",
      "\u001b[0;31mNameError\u001b[0m: name 'top_ten_pop_complaints' is not defined"
     ]
    }
   ],
   "source": [
    "# complainer- index\n",
    "\n",
    "import requests\n",
    "import pandas as pd\n",
    "import numpy as np\n",
    "import csv\n",
    "from datetime import datetime\n",
    "\n",
    "\n",
    "zipcode_file = '../../../downloads/Zips2010_90.xlsx'  # Using the 2010 Zip Code Data.\n",
    "zip_files_dataframe_one = pd.read_excel(zipcode_file)\n",
    "city_data_file_read= pd.read_excel(\"../../../downloads/tocopycitydata.xlsx\")\n",
    "boroughs_array = pd.Series(['BRONX', 'BROOKLYN', 'MANHATTAN', 'QUEENS', 'STATEN ISLAND'])\n",
    "\n"
   ]
  },
  {
   "cell_type": "code",
   "execution_count": 12,
   "metadata": {},
   "outputs": [],
   "source": [
    "main_data_dataframe = pd.DataFrame( # drop nas\n",
    "     {\"Unique Key\":city_data_file_read[\"Unique Key\"],\n",
    "        \"Created Date\":city_data_file_read[\"Created Date\"],\n",
    "        \"Closed Date\":city_data_file_read[\"Closed Date\"],\n",
    "        \"Complaint Type\":city_data_file_read[\"Complaint Type\"],\n",
    "        \"Zip\" : city_data_file_read[\"Incident Zip\"],\n",
    "        \"Status\": city_data_file_read[\"Status\"],\n",
    "        \"Borough\":city_data_file_read[\"Borough\"]\n",
    "     }\n",
    ")\n",
    "zip_files_df = pd.DataFrame ({\n",
    "    \"Zip\": zip_files_dataframe_one[\"Incident Zips\"],\n",
    "    \"Population\": zip_files_dataframe_one[\"Population\"]\n",
    "})\n",
    "\n",
    "\n",
    "bronxtable = main_data_dataframe.loc[main_data_dataframe.Borough == 'BRONX']\n",
    "manhattan_table = main_data_dataframe.loc[main_data_dataframe.Borough == 'MANHATTAN']\n",
    "queens_table = main_data_dataframe.loc[main_data_dataframe.Borough == 'QUEENS']\n",
    "staten_island_table = main_data_dataframe.loc[main_data_dataframe.Borough == 'STATEN ISLAND']\n",
    "brooklyn_table = main_data_dataframe.loc[main_data_dataframe.Borough == 'BROOKLYN']\n",
    "total_complaints_borough = city_data_file_read.groupby(\"Borough\").size().to_dict()\n",
    "popular_complaints = pd.Series(main_data_dataframe.groupby('Complaint Type').size().sort_values(ascending=False))\n",
    "top_ten_pop_complaints = pd.Series(popular_complaints[:10])\n",
    "complaints_tops_names = top_ten_pop_complaints.keys()\n",
    "empty_complaints_obj = define_base_obj_to_use()\n",
    "\n",
    "top_ten_pop_complaints_keys = top_ten_pop_complaints.keys()\n",
    "complaints_tops_names = top_ten_pop_complaints.keys()"
   ]
  },
  {
   "cell_type": "code",
   "execution_count": 13,
   "metadata": {},
   "outputs": [],
   "source": [
    "# helper functions placed up top in case they need to be used besides points of primary need\n",
    "\n",
    "#Defined necessary paths/documents ie data \n",
    "\n",
    "\n",
    "def zipcodes_population_obj(): # has of zip_code file\n",
    "    obj= {}\n",
    "    length = len(zip_files_df['Population'] -1)\n",
    "    pops = zip_files_df['Population']\n",
    "    zips = zip_files_df['Zip']\n",
    "    one_array = []\n",
    "    second_array = []\n",
    "    for pop_value in pops:\n",
    "        one_array.append(pop_value)\n",
    "    for zip_value in zips:\n",
    "        second_array.append(zip_value)\n",
    "    for x in range(len(one_array)-1):\n",
    "        once = one_array[x]\n",
    "        twice = second_array[x]\n",
    "        obj[twice] = once\n",
    "    return obj\n",
    "\n",
    "def define_base_obj_to_use(): # sets obj to use for most popular complaints. includes zero\n",
    "    starter_complaints_obj = {}\n",
    "    for x in complaints_tops_names:\n",
    "        starter_complaints_obj[x] = 0\n",
    "    return starter_complaints_obj\n",
    "\n",
    "\n",
    "def create_borough_complaints_obj():\n",
    "    full_obj = {'Population': {}, 'ZipCode': {}, 'Borough': {}}\n",
    "    borough_complaints_obj = full_obj['Borough']\n",
    "    empty_complaints_obj = define_base_obj_to_use()\n",
    "    array_length = len(boroughs_array)\n",
    "    for x in range(array_length):\n",
    "        borough_complaints_obj[x] = empty_complaints_obj\n",
    "    return empty_complaints_obj\n",
    "    \n",
    "\n",
    "\n",
    "def take_in_zip_code_spit_out_population(x): \n",
    "    return (zip_files_df['Zip'][x])\n",
    "\n",
    "def create_borough_complaints_obj():\n",
    "    empty_complaints_obj = define_base_obj_to_use()\n",
    "    obj = {}\n",
    "    for x in boroughs_array:\n",
    "        obj[x] = empty_complaints_obj\n",
    "    return obj\n",
    "\n",
    "\n",
    "\n",
    "def new_group_boroughs_by_zips():\n",
    "\n",
    "    borough_list = [\"BROOKLYN\", \"QUEENS\", \"BRONX\", \"STATEN ISLAND\", \"MANHATTAN\"]\n",
    "    borough_zips = {\n",
    "    \"BROOKLYN\" : [],\n",
    "    \"QUEENS\": [],\n",
    "    \"BRONX\": [],\n",
    "    \"STATEN ISLAND\": [],\n",
    "    \"MANHATTAN\": []\n",
    "}\n",
    "    \n",
    "    for zipcode in bronxtable['Zip']: \n",
    "        (borough_zips['BRONX'].append(float(zipcode)))\n",
    "    for zipcode in manhattan_table['Zip']:\n",
    "        borough_zips['MANHATTAN'].append(float(zipcode))\n",
    "    for zipcode in queens_table['Zip']:\n",
    "        borough_zips['QUEENS'].append(float(zipcode))\n",
    "    for zipcode in staten_island_table['Zip']:\n",
    "        borough_zips['STATEN ISLAND'].append(float(zipcode))\n",
    "    for zipcode in brooklyn_table['Zip']:\n",
    "        print(zipcode)\n",
    "        borough_zips['BROOKLYN'].append(float(zipcode))\n",
    "    return(borough_zips)\n",
    "\n",
    "\n"
   ]
  },
  {
   "cell_type": "code",
   "execution_count": null,
   "metadata": {},
   "outputs": [],
   "source": [
    "\n"
   ]
  },
  {
   "cell_type": "code",
   "execution_count": null,
   "metadata": {},
   "outputs": [],
   "source": []
  },
  {
   "cell_type": "code",
   "execution_count": 14,
   "metadata": {},
   "outputs": [
    {
     "ename": "IndentationError",
     "evalue": "unexpected indent (<ipython-input-14-21ec1e206c23>, line 2)",
     "output_type": "error",
     "traceback": [
      "\u001b[0;36m  File \u001b[0;32m\"<ipython-input-14-21ec1e206c23>\"\u001b[0;36m, line \u001b[0;32m2\u001b[0m\n\u001b[0;31m    si_zips = pd.Series(new_group_boroughs_by_zips()['STATEN ISLAND'])\u001b[0m\n\u001b[0m    ^\u001b[0m\n\u001b[0;31mIndentationError\u001b[0m\u001b[0;31m:\u001b[0m unexpected indent\n"
     ]
    }
   ],
   "source": [
    "\n",
    "    si_zips = pd.Series(new_group_boroughs_by_zips()['STATEN ISLAND'])\n",
    "    si_zipcodes_array = pd.Series(si_zips).dropna().unique()\n",
    "    \n",
    "    manhattan_zips = pd.Series(new_group_boroughs_by_zips()['MANHATTAN'])\n",
    "    manhattan_zipcodes_array = pd.Series(manhattan_zips).dropna().unique()\n",
    "    \n",
    "    bronx_zips = pd.Series(new_group_boroughs_by_zips()['BRONX'])\n",
    "    bronx_zipcodes_array = pd.Series(bronx_zips).dropna().unique()\n",
    "    \n",
    "    queens_zips = pd.Series(new_group_boroughs_by_zips()['QUEENS']).unique()\n",
    "    queens_zipcodes_array = pd.Series(queens_zips).dropna().unique()\n",
    "    \n",
    "    brooklyn_zips = pd.Series(new_group_boroughs_by_zips()['BROOKLYN'])\n",
    "    brooklyn_zipcodes_array = pd.Series(brooklyn_zips).dropna().unique()"
   ]
  },
  {
   "cell_type": "code",
   "execution_count": 15,
   "metadata": {},
   "outputs": [],
   "source": [
    "def count_nyc_people():\n",
    "    borough_obj_counter= {\n",
    "    \"MANHATTAN\": 0,\n",
    "    \"BROOKLYN\": 0,\n",
    "    \"QUEENS\": 0,\n",
    "    \"STATEN ISLAND\": 0,\n",
    "    \"BRONX\": 0\n",
    "    } \n",
    "    \n",
    "    for bk in brooklyn_zipcodes_array:\n",
    "        borough_obj_counter[\"BROOKLYN\"] += zip_files_df['Zip'][bk]\n",
    "    \n",
    "    for q in queens_zipcodes_array:\n",
    "        borough_obj_counter[\"QUEENS\"] += zip_files_df['Zip'][q]\n",
    "    \n",
    "    for br in bronx_zipcodes_array:\n",
    "        borough_obj_counter[\"BRONX\"] += zip_files_df['Zip'][br]\n",
    "    \n",
    "    for manh in manhattan_zipcodes_array:\n",
    "        borough_obj_counter[\"MANHATTAN\"] += zip_files_df['Zip'][manh]\n",
    "    \n",
    "    for si in si_zipcodes_array:\n",
    "        borough_obj_counter[\"STATEN ISLAND\"] += zip_files_df['Zip'][si]\n",
    "    return (borough_obj_counter)"
   ]
  },
  {
   "cell_type": "code",
   "execution_count": 16,
   "metadata": {},
   "outputs": [
    {
     "ename": "NameError",
     "evalue": "name 'brooklyn_zipcodes_array' is not defined",
     "output_type": "error",
     "traceback": [
      "\u001b[0;31m---------------------------------------------------------------------------\u001b[0m",
      "\u001b[0;31mNameError\u001b[0m                                 Traceback (most recent call last)",
      "\u001b[0;32m<ipython-input-16-563287239fd3>\u001b[0m in \u001b[0;36m<module>\u001b[0;34m\u001b[0m\n\u001b[1;32m      1\u001b[0m \u001b[0;31m## variables for population count\u001b[0m\u001b[0;34m\u001b[0m\u001b[0;34m\u001b[0m\u001b[0;34m\u001b[0m\u001b[0m\n\u001b[1;32m      2\u001b[0m \u001b[0;34m\u001b[0m\u001b[0m\n\u001b[0;32m----> 3\u001b[0;31m \u001b[0msi_people\u001b[0m \u001b[0;34m=\u001b[0m \u001b[0mcount_nyc_people\u001b[0m\u001b[0;34m(\u001b[0m\u001b[0;34m)\u001b[0m\u001b[0;34m[\u001b[0m\u001b[0;34m\"STATEN ISLAND\"\u001b[0m\u001b[0;34m]\u001b[0m\u001b[0;34m\u001b[0m\u001b[0;34m\u001b[0m\u001b[0m\n\u001b[0m\u001b[1;32m      4\u001b[0m \u001b[0mmanhattan_people\u001b[0m \u001b[0;34m=\u001b[0m \u001b[0mcount_nyc_people\u001b[0m\u001b[0;34m(\u001b[0m\u001b[0;34m)\u001b[0m\u001b[0;34m[\u001b[0m\u001b[0;34m\"BROOKLYN\"\u001b[0m\u001b[0;34m]\u001b[0m\u001b[0;34m\u001b[0m\u001b[0;34m\u001b[0m\u001b[0m\n\u001b[1;32m      5\u001b[0m \u001b[0mbrooklyn_people\u001b[0m \u001b[0;34m=\u001b[0m \u001b[0mcount_nyc_people\u001b[0m\u001b[0;34m(\u001b[0m\u001b[0;34m)\u001b[0m\u001b[0;34m[\u001b[0m\u001b[0;34m\"QUEENS\"\u001b[0m\u001b[0;34m]\u001b[0m\u001b[0;34m\u001b[0m\u001b[0;34m\u001b[0m\u001b[0m\n",
      "\u001b[0;32m<ipython-input-15-2232318e8a53>\u001b[0m in \u001b[0;36mcount_nyc_people\u001b[0;34m()\u001b[0m\n\u001b[1;32m      8\u001b[0m     } \n\u001b[1;32m      9\u001b[0m \u001b[0;34m\u001b[0m\u001b[0m\n\u001b[0;32m---> 10\u001b[0;31m     \u001b[0;32mfor\u001b[0m \u001b[0mbk\u001b[0m \u001b[0;32min\u001b[0m \u001b[0mbrooklyn_zipcodes_array\u001b[0m\u001b[0;34m:\u001b[0m\u001b[0;34m\u001b[0m\u001b[0;34m\u001b[0m\u001b[0m\n\u001b[0m\u001b[1;32m     11\u001b[0m         \u001b[0mborough_obj_counter\u001b[0m\u001b[0;34m[\u001b[0m\u001b[0;34m\"BROOKLYN\"\u001b[0m\u001b[0;34m]\u001b[0m \u001b[0;34m+=\u001b[0m \u001b[0mzip_files_df\u001b[0m\u001b[0;34m[\u001b[0m\u001b[0;34m'Zip'\u001b[0m\u001b[0;34m]\u001b[0m\u001b[0;34m[\u001b[0m\u001b[0mbk\u001b[0m\u001b[0;34m]\u001b[0m\u001b[0;34m\u001b[0m\u001b[0;34m\u001b[0m\u001b[0m\n\u001b[1;32m     12\u001b[0m \u001b[0;34m\u001b[0m\u001b[0m\n",
      "\u001b[0;31mNameError\u001b[0m: name 'brooklyn_zipcodes_array' is not defined"
     ]
    }
   ],
   "source": [
    "## variables for population count\n",
    "\n",
    "si_people = count_nyc_people()[\"STATEN ISLAND\"]\n",
    "manhattan_people = count_nyc_people()[\"BROOKLYN\"]\n",
    "brooklyn_people = count_nyc_people()[\"QUEENS\"]\n",
    "bronx_people = count_nyc_people()[\"STATEN ISLAND\"]\n",
    "queens_people = count_nyc_people()[\"BRONX\"]\n",
    "\n"
   ]
  },
  {
   "cell_type": "code",
   "execution_count": null,
   "metadata": {},
   "outputs": [],
   "source": []
  },
  {
   "cell_type": "code",
   "execution_count": 17,
   "metadata": {},
   "outputs": [
    {
     "ename": "NameError",
     "evalue": "name 'brooklyn_people' is not defined",
     "output_type": "error",
     "traceback": [
      "\u001b[0;31m---------------------------------------------------------------------------\u001b[0m",
      "\u001b[0;31mNameError\u001b[0m                                 Traceback (most recent call last)",
      "\u001b[0;32m<ipython-input-17-bbd83094e989>\u001b[0m in \u001b[0;36m<module>\u001b[0;34m\u001b[0m\n\u001b[1;32m      3\u001b[0m \u001b[0;34m\u001b[0m\u001b[0m\n\u001b[1;32m      4\u001b[0m population_obj ={\n\u001b[0;32m----> 5\u001b[0;31m     \u001b[0;34m\"BROOKLYN\"\u001b[0m\u001b[0;34m:\u001b[0m \u001b[0mbrooklyn_people\u001b[0m\u001b[0;34m,\u001b[0m\u001b[0;34m\u001b[0m\u001b[0;34m\u001b[0m\u001b[0m\n\u001b[0m\u001b[1;32m      6\u001b[0m     \u001b[0;34m\"QUEENS\"\u001b[0m\u001b[0;34m:\u001b[0m \u001b[0mqueens_people\u001b[0m\u001b[0;34m,\u001b[0m\u001b[0;34m\u001b[0m\u001b[0;34m\u001b[0m\u001b[0m\n\u001b[1;32m      7\u001b[0m     \u001b[0;34m\"BRONX\"\u001b[0m\u001b[0;34m:\u001b[0m \u001b[0mbronx_people\u001b[0m\u001b[0;34m,\u001b[0m\u001b[0;34m\u001b[0m\u001b[0;34m\u001b[0m\u001b[0m\n",
      "\u001b[0;31mNameError\u001b[0m: name 'brooklyn_people' is not defined"
     ]
    }
   ],
   "source": [
    "\n",
    "\n",
    "\n",
    "population_obj ={\n",
    "    \"BROOKLYN\": brooklyn_people,\n",
    "    \"QUEENS\": queens_people,\n",
    "    \"BRONX\": bronx_people,\n",
    "    \"STATEN ISLAND\": si_people,\n",
    "    \"MANHATTAN\": manhattan_people\n",
    "}\n",
    "\n",
    "\n",
    "population_df = pd.DataFrame(\n",
    "    {\n",
    "        \"BROOKLYN\" : population_obj['BROOKLYN'],\n",
    "        \"QUEENS\": population_obj['QUEENS'],\n",
    "        \"BRONX\": population_obj['BRONX'],\n",
    "        \"STATEN ISLAND\": population_obj['STATEN ISLAND'],\n",
    "        \"MANHATTAN\": population_obj['MANHATTAN'],\n",
    "    }, index={0}\n",
    ")\n",
    "\n",
    "\n"
   ]
  },
  {
   "cell_type": "code",
   "execution_count": 18,
   "metadata": {},
   "outputs": [
    {
     "ename": "NameError",
     "evalue": "name 'brooklyn_people' is not defined",
     "output_type": "error",
     "traceback": [
      "\u001b[0;31m---------------------------------------------------------------------------\u001b[0m",
      "\u001b[0;31mNameError\u001b[0m                                 Traceback (most recent call last)",
      "\u001b[0;32m<ipython-input-18-e773e7f51489>\u001b[0m in \u001b[0;36m<module>\u001b[0;34m\u001b[0m\n\u001b[1;32m     14\u001b[0m         \u001b[0;34m\"Borough\"\u001b[0m\u001b[0;34m:\u001b[0m \u001b[0;34m\"BROOKLYN\"\u001b[0m\u001b[0;34m,\u001b[0m\u001b[0;34m\u001b[0m\u001b[0;34m\u001b[0m\u001b[0m\n\u001b[1;32m     15\u001b[0m         \u001b[0;34m\"Complainer Totals\"\u001b[0m\u001b[0;34m:\u001b[0m \u001b[0mcomplainer_totals\u001b[0m\u001b[0;34m[\u001b[0m\u001b[0;34m\"BROOKLYN\"\u001b[0m\u001b[0;34m]\u001b[0m\u001b[0;34m,\u001b[0m\u001b[0;34m\u001b[0m\u001b[0;34m\u001b[0m\u001b[0m\n\u001b[0;32m---> 16\u001b[0;31m         \u001b[0;34m\"Population\"\u001b[0m\u001b[0;34m:\u001b[0m \u001b[0mbrooklyn_people\u001b[0m\u001b[0;34m,\u001b[0m\u001b[0;34m\u001b[0m\u001b[0;34m\u001b[0m\u001b[0m\n\u001b[0m\u001b[1;32m     17\u001b[0m         \u001b[0;34m\"Complainer-Index\"\u001b[0m\u001b[0;34m:\u001b[0m \u001b[0mcomplainer_totals\u001b[0m\u001b[0;34m[\u001b[0m\u001b[0;34m\"BROOKLYN\"\u001b[0m\u001b[0;34m]\u001b[0m\u001b[0;34m/\u001b[0m\u001b[0mint\u001b[0m\u001b[0;34m(\u001b[0m\u001b[0mbrooklyn_people\u001b[0m\u001b[0;34m)\u001b[0m\u001b[0;34m\u001b[0m\u001b[0;34m\u001b[0m\u001b[0m\n\u001b[1;32m     18\u001b[0m     }, index={0}\n",
      "\u001b[0;31mNameError\u001b[0m: name 'brooklyn_people' is not defined"
     ]
    }
   ],
   "source": [
    "### dataframes with the borough population numbers and index\n",
    "\n",
    "\n",
    "complainer_totals = {\n",
    "    'BROOKLYN': int(total_complaints_borough['BROOKLYN']),\n",
    "    'QUEENS': int(total_complaints_borough['QUEENS']),\n",
    "    'BRONX': int(total_complaints_borough['BRONX']),\n",
    "    'STATEN ISLAND': int(total_complaints_borough['STATEN ISLAND']),\n",
    "    'MANHATTAN': int(total_complaints_borough['MANHATTAN'])    \n",
    "}\n",
    "\n",
    "brooklyn_populace = pd.DataFrame( ## brooklyn \n",
    "    {\n",
    "        \"Borough\": \"BROOKLYN\",\n",
    "        \"Complainer Totals\": complainer_totals[\"BROOKLYN\"], \n",
    "        \"Population\": brooklyn_people, \n",
    "        \"Complainer-Index\": complainer_totals[\"BROOKLYN\"]/int(brooklyn_people)\n",
    "    }, index={0}\n",
    ")\n",
    "\n",
    "\n",
    "queens_populace = pd.DataFrame( ## queens \n",
    "    {\n",
    "        \"Borough\": \"QUEENS\",\n",
    "        \"Complainer Totals\": complainer_totals[\"QUEENS\"], \n",
    "        \"Population\": queens_people, \n",
    "        \"Complainer-Index\": complainer_totals[\"QUEENS\"]/int(queens_people)\n",
    "        \n",
    "        \n",
    "    }, index={1}\n",
    ")\n",
    "\n",
    "bronx_populace = pd.DataFrame( ## bronx \n",
    "    {\n",
    "        \"Borough\": \"BRONX\",\n",
    "        \"Complainer Totals\": complainer_totals[\"BRONX\"], \n",
    "        \"Population\": bronx_people, \n",
    "        \"Complainer-Index\": complainer_totals[\"BRONX\"]/int(bronx_people)\n",
    "        \n",
    "    }, index={2}\n",
    ")\n",
    "\n",
    "si_populace = pd.DataFrame( ## staten island \n",
    "    {\n",
    "        \"Borough\": \"STATEN ISLAND\",\n",
    "        \"Complainer Totals\": complainer_totals[\"STATEN ISLAND\"], \n",
    "        \"Population\": si_people,\n",
    "        \"Complainer-Index\": complainer_totals[\"STATEN ISLAND\"]/int(si_people)\n",
    "        \n",
    "    }, index={3}\n",
    ")\n",
    "\n",
    "manhattan_populace = pd.DataFrame( ## staten island \n",
    "    {\n",
    "        \"Borough\": \"MANHATTAN\",\n",
    "        \"Complainer Totals\": total_complaints_borough[\"MANHATTAN\"], \n",
    "        \"Population\": manhattan_people, \n",
    "        \"Complainer-Index\": complainer_totals[\"MANHATTAN\"]/int(manhattan_people)\n",
    "        \n",
    "    }, index={4}\n",
    ")\n",
    "\n",
    "\n"
   ]
  },
  {
   "cell_type": "code",
   "execution_count": 19,
   "metadata": {},
   "outputs": [
    {
     "ename": "NameError",
     "evalue": "name 'brooklyn_populace' is not defined",
     "output_type": "error",
     "traceback": [
      "\u001b[0;31m---------------------------------------------------------------------------\u001b[0m",
      "\u001b[0;31mNameError\u001b[0m                                 Traceback (most recent call last)",
      "\u001b[0;32m<ipython-input-19-53f819214107>\u001b[0m in \u001b[0;36m<module>\u001b[0;34m\u001b[0m\n\u001b[0;32m----> 1\u001b[0;31m \u001b[0mall_boroughs\u001b[0m \u001b[0;34m=\u001b[0m \u001b[0mbrooklyn_populace\u001b[0m\u001b[0;34m.\u001b[0m\u001b[0mappend\u001b[0m\u001b[0;34m(\u001b[0m\u001b[0;34m[\u001b[0m\u001b[0mqueens_populace\u001b[0m\u001b[0;34m,\u001b[0m \u001b[0mbronx_populace\u001b[0m\u001b[0;34m,\u001b[0m \u001b[0msi_populace\u001b[0m\u001b[0;34m,\u001b[0m \u001b[0mmanhattan_populace\u001b[0m\u001b[0;34m]\u001b[0m\u001b[0;34m)\u001b[0m\u001b[0;34m\u001b[0m\u001b[0;34m\u001b[0m\u001b[0m\n\u001b[0m",
      "\u001b[0;31mNameError\u001b[0m: name 'brooklyn_populace' is not defined"
     ]
    }
   ],
   "source": [
    "all_boroughs = brooklyn_populace.append([queens_populace, bronx_populace, si_populace, manhattan_populace])\n"
   ]
  },
  {
   "cell_type": "code",
   "execution_count": 20,
   "metadata": {
    "scrolled": true
   },
   "outputs": [
    {
     "ename": "NameError",
     "evalue": "name 'all_boroughs' is not defined",
     "output_type": "error",
     "traceback": [
      "\u001b[0;31m---------------------------------------------------------------------------\u001b[0m",
      "\u001b[0;31mNameError\u001b[0m                                 Traceback (most recent call last)",
      "\u001b[0;32m<ipython-input-20-684ad7a6a593>\u001b[0m in \u001b[0;36m<module>\u001b[0;34m\u001b[0m\n\u001b[0;32m----> 1\u001b[0;31m \u001b[0mall_boroughs\u001b[0m\u001b[0;34m\u001b[0m\u001b[0;34m\u001b[0m\u001b[0m\n\u001b[0m",
      "\u001b[0;31mNameError\u001b[0m: name 'all_boroughs' is not defined"
     ]
    }
   ],
   "source": [
    "all_boroughs"
   ]
  },
  {
   "cell_type": "code",
   "execution_count": 10,
   "metadata": {},
   "outputs": [],
   "source": [
    "def create_borough_complaints_obj():\n",
    "    empty_complaints_obj = define_base_obj_to_use()\n",
    "    obj = {}\n",
    "    for x in boroughs_array:\n",
    "        obj[x] = empty_complaints_obj\n",
    "    return obj\n"
   ]
  },
  {
   "cell_type": "code",
   "execution_count": 21,
   "metadata": {},
   "outputs": [
    {
     "data": {
      "text/plain": [
       "{'BRONX': {'Request Large Bulky Item Collection': 0,\n",
       "  'UNSANITARY CONDITION': 0,\n",
       "  'Noise': 0,\n",
       "  'PAINT/PLASTER': 0,\n",
       "  'PLUMBING': 0,\n",
       "  'Street Condition': 0,\n",
       "  'DOOR/WINDOW': 0,\n",
       "  'HEAT/HOT WATER': 0,\n",
       "  'Street Light Condition': 0,\n",
       "  'Illegal Parking': 0},\n",
       " 'BROOKLYN': {'Request Large Bulky Item Collection': 0,\n",
       "  'UNSANITARY CONDITION': 0,\n",
       "  'Noise': 0,\n",
       "  'PAINT/PLASTER': 0,\n",
       "  'PLUMBING': 0,\n",
       "  'Street Condition': 0,\n",
       "  'DOOR/WINDOW': 0,\n",
       "  'HEAT/HOT WATER': 0,\n",
       "  'Street Light Condition': 0,\n",
       "  'Illegal Parking': 0},\n",
       " 'MANHATTAN': {'Request Large Bulky Item Collection': 0,\n",
       "  'UNSANITARY CONDITION': 0,\n",
       "  'Noise': 0,\n",
       "  'PAINT/PLASTER': 0,\n",
       "  'PLUMBING': 0,\n",
       "  'Street Condition': 0,\n",
       "  'DOOR/WINDOW': 0,\n",
       "  'HEAT/HOT WATER': 0,\n",
       "  'Street Light Condition': 0,\n",
       "  'Illegal Parking': 0},\n",
       " 'QUEENS': {'Request Large Bulky Item Collection': 0,\n",
       "  'UNSANITARY CONDITION': 0,\n",
       "  'Noise': 0,\n",
       "  'PAINT/PLASTER': 0,\n",
       "  'PLUMBING': 0,\n",
       "  'Street Condition': 0,\n",
       "  'DOOR/WINDOW': 0,\n",
       "  'HEAT/HOT WATER': 0,\n",
       "  'Street Light Condition': 0,\n",
       "  'Illegal Parking': 0},\n",
       " 'STATEN ISLAND': {'Request Large Bulky Item Collection': 0,\n",
       "  'UNSANITARY CONDITION': 0,\n",
       "  'Noise': 0,\n",
       "  'PAINT/PLASTER': 0,\n",
       "  'PLUMBING': 0,\n",
       "  'Street Condition': 0,\n",
       "  'DOOR/WINDOW': 0,\n",
       "  'HEAT/HOT WATER': 0,\n",
       "  'Street Light Condition': 0,\n",
       "  'Illegal Parking': 0}}"
      ]
     },
     "execution_count": 21,
     "metadata": {},
     "output_type": "execute_result"
    }
   ],
   "source": [
    "create_borough_complaints_obj()"
   ]
  },
  {
   "cell_type": "code",
   "execution_count": null,
   "metadata": {},
   "outputs": [],
   "source": []
  }
 ],
 "metadata": {
  "kernelspec": {
   "display_name": "Python 3",
   "language": "python",
   "name": "python3"
  },
  "language_info": {
   "codemirror_mode": {
    "name": "ipython",
    "version": 3
   },
   "file_extension": ".py",
   "mimetype": "text/x-python",
   "name": "python",
   "nbconvert_exporter": "python",
   "pygments_lexer": "ipython3",
   "version": "3.7.1"
  }
 },
 "nbformat": 4,
 "nbformat_minor": 2
}
