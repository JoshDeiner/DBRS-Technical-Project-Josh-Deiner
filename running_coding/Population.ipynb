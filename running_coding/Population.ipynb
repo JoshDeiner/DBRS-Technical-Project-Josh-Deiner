{
 "cells": [
  {
   "cell_type": "code",
   "execution_count": 11,
   "metadata": {},
   "outputs": [],
   "source": [
    "\n",
    "import requests\n",
    "import pandas as pd\n",
    "import numpy as np\n",
    "import csv\n",
    "from datetime import datetime\n",
    "\n",
    "\n",
    "zipcode_file = '../../../downloads/Zips2010_90.xlsx' # data for zipcode city_data_input_file\n",
    "city_data_input_file = '../../../downloads/Zips2010_90.xlsx'\n",
    "zip_files_df = pd.read_excel(zipcode_file)\n",
    "# totalpopulation = zip_files_df['2010 Census Population'].sum()\n",
    "endpoint = \"https://data.cityofnewyork.us/resource/fhrw-4uyv.json\"\n",
    "pop_zip_array = pd.Series([11385, 11209, 11215, 11216, 10456, 10453, 11226, 11213, 10467, 10452])\n",
    "population = '308739931'\n",
    "# (input_file)\n",
    "other_info= pd.read_excel(\"../../../downloads/tocopycitydata.xlsx\")\n",
    "\n",
    "deer = pd.DataFrame(\n",
    "     {\"Unique Key\":other_info[\"Unique Key\"],\n",
    "        \"Created Date\":other_info[\"Created Date\"],\n",
    "        \"Closed Date\":other_info[\"Closed Date\"],\n",
    "        \"Complaint Type\":other_info[\"Complaint Type\"],\n",
    "        \"Zip\" : other_info[\"Incident Zip\"],\n",
    "        \"Status\": other_info[\"Status\"],\n",
    "        \"Borough\":other_info[\"Borough\"]\n",
    "     }\n",
    ")\n",
    "# deer\n",
    "popular_complaints = pd.Series(deer.groupby('Complaint Type').size().sort_values(ascending=False))\n",
    "top_ten_pop_complaints = pd.Series(popular_complaints[:10])\n",
    "complaints_tops_names = top_ten_pop_complaints.keys()\n"
   ]
  },
  {
   "cell_type": "code",
   "execution_count": 40,
   "metadata": {},
   "outputs": [
    {
     "name": "stdout",
     "output_type": "stream",
     "text": [
      "Complaint Type\n",
      "Request Large Bulky Item Collection    4771\n",
      "UNSANITARY CONDITION                   3917\n",
      "Noise                                  2640\n",
      "PAINT/PLASTER                          2580\n",
      "PLUMBING                               2422\n",
      "Street Condition                       1821\n",
      "DOOR/WINDOW                            1550\n",
      "HEAT/HOT WATER                         1415\n",
      "Street Light Condition                 1279\n",
      "Illegal Parking                        1246\n",
      "dtype: int64\n",
      "0    11385\n",
      "1    11209\n",
      "2    11215\n",
      "3    11216\n",
      "4    10456\n",
      "5    10453\n",
      "6    11226\n",
      "7    11213\n",
      "8    10467\n",
      "9    10452\n",
      "dtype: int64\n"
     ]
    }
   ],
   "source": [
    "### proove later \n",
    "\n",
    "def create_new_pop_obj():\n",
    "    pop_dict = {}\n",
    "    for x in complaints_tops_names:\n",
    "        pop_dict[x] = 0\n",
    "    return(pop_dict)\n",
    "\n",
    "# other_info\n",
    "\n",
    "####\n",
    "print(top_ten_pop_complaints)\n",
    "print(pop_zip_array)"
   ]
  },
  {
   "cell_type": "code",
   "execution_count": 12,
   "metadata": {},
   "outputs": [],
   "source": [
    "\n",
    "# create object, push zip into object. push adjoining complaints after\n",
    "\n",
    "\n",
    "first_zipcode_table = deer.loc[deer.Zip == float(11385)] #[\"Complaint Type\"]\n",
    "second_zipcode_table = deer.loc[deer.Zip == float(11209)] #[\"Complaint Type\"]\n",
    "third_zipcode_table = deer.loc[deer.Zip == float(11215)] #[\"Complaint Type\"]\n",
    "fourth_zipcode_table = deer.loc[deer.Zip == float(11216)] #[\"Complaint Type\"]\n",
    "fifth_zipcode_table = deer.loc[deer.Zip == float(10456)] #[\"Complaint Type\"]\n",
    "sixth_complainer_table = deer.loc[deer.Zip == float(10453)] #[\"Complaint Type\"]\n",
    "seventh_complainer_table = deer.loc[deer.Zip == float(11226)] #[\"Complaint Type\"]\n",
    "eighth_complainer_table = deer.loc[deer.Zip == float(11213)] #[\"Complaint Type\"]\n",
    "nine_complainer_table = deer.loc[deer.Zip == float(10467)] #[\"Complaint Type\"]\n",
    "ten_complainer_table = deer.loc[deer.Zip == float(10452)] #[\"Complaint Type\"]\n",
    "\n",
    "\n",
    "\n",
    "first_zip_complaints =  first_zipcode_table[\"Complaint Type\"]\n",
    "second_zip_complaints = second_zipcode_table[\"Complaint Type\"]\n",
    "third_zip_complaints = third_zipcode_table[\"Complaint Type\"]\n",
    "fourth_zip_complaints = fourth_zipcode_table[\"Complaint Type\"]\n",
    "fifth_zip_complaints = fifth_zipcode_table[\"Complaint Type\"]\n",
    "six_zip_complaints = sixth_complainer_table[\"Complaint Type\"]\n",
    "seventh_zip_complaints = seventh_complainer_table[\"Complaint Type\"]\n",
    "eigth_zip_complaints = eighth_complainer_table[\"Complaint Type\"]\n",
    "nine_zip_complaints = nine_complainer_table[\"Complaint Type\"]\n",
    "tenth_zip_complaints = ten_complainer_table[\"Complaint Type\"]\n",
    "\n",
    "\n"
   ]
  },
  {
   "cell_type": "code",
   "execution_count": 8,
   "metadata": {},
   "outputs": [
    {
     "data": {
      "text/plain": [
       "34       Request Large Bulky Item Collection\n",
       "35       Request Large Bulky Item Collection\n",
       "50       Request Large Bulky Item Collection\n",
       "51       Request Large Bulky Item Collection\n",
       "64       Request Large Bulky Item Collection\n",
       "65       Request Large Bulky Item Collection\n",
       "360      Request Large Bulky Item Collection\n",
       "361      Request Large Bulky Item Collection\n",
       "364      Request Large Bulky Item Collection\n",
       "365      Request Large Bulky Item Collection\n",
       "616      Request Large Bulky Item Collection\n",
       "617      Request Large Bulky Item Collection\n",
       "632      Request Large Bulky Item Collection\n",
       "633      Request Large Bulky Item Collection\n",
       "647      Request Large Bulky Item Collection\n",
       "648      Request Large Bulky Item Collection\n",
       "655                         Dirty Conditions\n",
       "656                         Dirty Conditions\n",
       "677                                    Noise\n",
       "678                                    Noise\n",
       "797                                   Rodent\n",
       "798                                   Rodent\n",
       "914                            PAINT/PLASTER\n",
       "915                            PAINT/PLASTER\n",
       "977                  Maintenance or Facility\n",
       "978                  Maintenance or Facility\n",
       "1105     Request Large Bulky Item Collection\n",
       "1106     Request Large Bulky Item Collection\n",
       "1107     Request Large Bulky Item Collection\n",
       "1108     Request Large Bulky Item Collection\n",
       "                        ...                 \n",
       "39565    Request Large Bulky Item Collection\n",
       "39566    Request Large Bulky Item Collection\n",
       "39623                      Other Enforcement\n",
       "39624                      Other Enforcement\n",
       "39633    Request Large Bulky Item Collection\n",
       "39634    Request Large Bulky Item Collection\n",
       "40147                    Hazardous Materials\n",
       "40174                                   Lead\n",
       "40512                     Water Conservation\n",
       "40518                           Water System\n",
       "40705                         Taxi Complaint\n",
       "41061                        Illegal Parking\n",
       "41450                       Derelict Vehicle\n",
       "41556                 Street Light Condition\n",
       "41582                         Food Poisoning\n",
       "41722    Request Large Bulky Item Collection\n",
       "42243                                  Noise\n",
       "42544                Overgrown Tree/Branches\n",
       "42613                 Street Light Condition\n",
       "42678             DOF Property - Owner Issue\n",
       "42948    Request Large Bulky Item Collection\n",
       "43178                       Blocked Driveway\n",
       "43213                       Blocked Driveway\n",
       "43541                 Street Light Condition\n",
       "43892                 Street Light Condition\n",
       "44263                       Street Condition\n",
       "44736                           Damaged Tree\n",
       "45122                     Sidewalk Condition\n",
       "45292                         Curb Condition\n",
       "45483                                 Rodent\n",
       "Name: Complaint Type, Length: 924, dtype: object"
      ]
     },
     "execution_count": 8,
     "metadata": {},
     "output_type": "execute_result"
    }
   ],
   "source": [
    "second_zip_complaints"
   ]
  },
  {
   "cell_type": "code",
   "execution_count": 43,
   "metadata": {},
   "outputs": [],
   "source": [
    "def first_zip_top_complainers():\n",
    "    complainers_obj = create_new_pop_obj()\n",
    "    for x in first_zip_complaints:\n",
    "        if x not in complaints_tops_names:\n",
    "            pass\n",
    "        elif (x in complainers_obj):\n",
    "            complainers_obj[x] += 1\n",
    "        else:\n",
    "            complainers_obj[x] = 1\n",
    "    print(complainers_obj)\n",
    "\n",
    "\n",
    "# def second_zip_top_complainers():\n",
    "# third_zip_top_complainers = {}\n",
    "# fourth_zip_top_complainers = {}\n",
    "\n",
    "\n",
    "def second_zip_top_complainers():\n",
    "    complainers_obj = create_new_pop_obj()\n",
    "    for x in second_zip_complaints:\n",
    "        if x not in complaints_tops_names:\n",
    "            pass\n",
    "        elif (x in complainers_obj):\n",
    "            complainers_obj[x] +=1\n",
    "        else:\n",
    "            complainers_obj[x] = 1\n",
    "    print(complainers_obj)\n",
    "\n",
    "\n",
    "def third_zip_top_complainers():\n",
    "    complainers_obj = create_new_pop_obj()\n",
    "    for x in third_zip_complaints:\n",
    "        if x not in complaints_tops_names:\n",
    "            pass\n",
    "        elif (x in complainers_obj):\n",
    "            complainers_obj[x] +=1\n",
    "        else:\n",
    "            complainers_obj[x] = 1\n",
    "    print(complainers_obj)\n",
    "\n",
    "def fourth_zip_top_complainers():\n",
    "\n",
    "    complainers_obj = create_new_pop_obj()\n",
    "    for x in fourth_zip_complaints:\n",
    "        if x not in complaints_tops_names:\n",
    "            pass\n",
    "        elif (x in complainers_obj):\n",
    "            complainers_obj[x] +=1\n",
    "        else:\n",
    "            complainers_obj[x] = 1\n",
    "    print(complainers_obj)\n",
    "\n",
    "def fifth_zip_top_complainers():\n",
    "    complainers_obj = create_new_pop_obj()\n",
    "    for x in fifth_zip_complaints:\n",
    "        if x not in complaints_tops_names:\n",
    "            pass\n",
    "        elif (x in complainers_obj):\n",
    "            complainers_obj[x] +=1\n",
    "        else:\n",
    "            complainers_obj[x] = 1\n",
    "    print(complainers_obj)\n",
    "\n",
    "def six_zip_top_complainers():\n",
    "    complainers_obj = create_new_pop_obj()\n",
    "    for x in six_zip_complaints:\n",
    "        if x not in complaints_tops_names:\n",
    "            pass\n",
    "        elif (x in complainers_obj):\n",
    "            complainers_obj[x] +=1\n",
    "        else:\n",
    "            complainers_obj[x] = 1\n",
    "    print(complainers_obj)\n",
    "\n",
    "def seventh_zip_top_complainers():\n",
    "    complainers_obj = create_new_pop_obj()\n",
    "    for x in seventh_zip_complaints:\n",
    "        if x not in complaints_tops_names:\n",
    "            pass\n",
    "        elif (x in complainers_obj):\n",
    "            complainers_obj[x] +=1\n",
    "        else:\n",
    "            complainers_obj[x] = 1\n",
    "    print(complainers_obj)\n",
    "\n",
    "def eight_zip_top_complainers():\n",
    "    complainers_obj = create_new_pop_obj()\n",
    "    for x in eigth_zip_complaints:\n",
    "        if x not in complaints_tops_names:\n",
    "            pass\n",
    "        elif (x in complainers_obj):\n",
    "            complainers_obj[x] +=1\n",
    "        else:\n",
    "            complainers_obj[x] = 1\n",
    "    print(complainers_obj)\n",
    "\n",
    "def nine_zip_top_complainers():\n",
    "    complainers_obj = create_new_pop_obj()\n",
    "    for x in nine_zip_complaints:\n",
    "        if x not in complaints_tops_names:\n",
    "            pass\n",
    "        elif (x in complainers_obj):\n",
    "            complainers_obj[x] +=1\n",
    "        else:\n",
    "            complainers_obj[x] = 1\n",
    "    print(complainers_obj)\n",
    "\n",
    "def ten_zip_top_complainers():\n",
    "    complainers_obj = create_new_pop_obj()\n",
    "    for x in tenth_zip_complaints:\n",
    "        if x not in complaints_tops_names:\n",
    "            pass\n",
    "        elif (x in complainers_obj):\n",
    "            complainers_obj[x] +=1\n",
    "        else:\n",
    "            complainers_obj[x] = 1\n",
    "    print(complainers_obj)"
   ]
  },
  {
   "cell_type": "code",
   "execution_count": null,
   "metadata": {},
   "outputs": [],
   "source": [
    "\n",
    "    "
   ]
  },
  {
   "cell_type": "code",
   "execution_count": 10,
   "metadata": {},
   "outputs": [
    {
     "name": "stdout",
     "output_type": "stream",
     "text": [
      "{'Request Large Bulky Item Collection': 542, 'Noise': 37, 'DOOR/WINDOW': 36, 'PLUMBING': 36, 'Illegal Parking': 73, 'HEAT/HOT WATER': 36, 'Street Light Condition': 5, 'Street Condition': 8}\n"
     ]
    }
   ],
   "source": [
    "first_zip_top_complainers()"
   ]
  },
  {
   "cell_type": "code",
   "execution_count": 11,
   "metadata": {},
   "outputs": [],
   "source": [
    "# first_zip_complaints"
   ]
  },
  {
   "cell_type": "code",
   "execution_count": 5,
   "metadata": {},
   "outputs": [],
   "source": [
    "\n",
    "# first_complainer_df = pd.DataFrame(\n",
    "#      {'HEAT/HOT WATER': first_complainers['HEAT/HOT WATER'],\n",
    "#  'PLUMBING': first_complainers['PLUMBING'],\n",
    "#  'Missed Collection (All Materials)': first_complainers['Missed Collection (All Materials)'],\n",
    "#  'Request Large Bulky Item Collection': first_complainers['Request Large Bulky Item Collection'],\n",
    "#  'PAINT/PLASTER': first_complainers['PAINT/PLASTER'],\n",
    "#  'Street Condition': first_complainers['Street Condition'],\n",
    "#  'Noise - Residential': first_complainers['Noise - Residential'],\n",
    "#  'UNSANITARY CONDITION': first_complainers['UNSANITARY CONDITION'],\n",
    "#  'Illegal Parking': first_complainers['Illegal Parking'],\n",
    "#  'Blocked Driveway': first_complainers['Blocked Driveway'],\n",
    "#  \"Zip Code\": \"60629\"\n",
    "#  }, index={0}\n",
    "# )\n",
    "\n",
    "# second_complainers_dfs = pd.DataFrame(\n",
    "#      {'HEAT/HOT WATER': second_complainers ['HEAT/HOT WATER'],\n",
    "#  'PLUMBING': second_complainers ['PLUMBING'],\n",
    "#  'Missed Collection (All Materials)': second_complainers ['Missed Collection (All Materials)'],\n",
    "#  'Request Large Bulky Item Collection': second_complainers ['Request Large Bulky Item Collection'],\n",
    "#  'PAINT/PLASTER': second_complainers ['PAINT/PLASTER'],\n",
    "#  'Street Condition': second_complainers ['Street Condition'],\n",
    "#  'Noise - Residential': second_complainers ['Noise - Residential'],\n",
    "#  'UNSANITARY CONDITION': second_complainers ['UNSANITARY CONDITION'],\n",
    "#  'Illegal Parking': second_complainers ['Illegal Parking'],\n",
    "#  'Blocked Driveway': second_complainers ['Blocked Driveway'],\n",
    "#  \"Zip Code\": \"79936\",\n",
    "#      }, index={0}\n",
    "# )\n",
    "\n",
    "# third_complainer_dfs = pd.DataFrame(\n",
    "#      {'HEAT/HOT WATER': third_zip_top_complainers['HEAT/HOT WATER'],\n",
    "#  'PLUMBING': third_zip_top_complainers['PLUMBING'],\n",
    "#  'Missed Collection (All Materials)': third_zip_top_complainers['Missed Collection (All Materials)'],\n",
    "#  'Request Large Bulky Item Collection': third_zip_top_complainers['Request Large Bulky Item Collection'],\n",
    "#  'PAINT/PLASTER': third_zip_top_complainers['PAINT/PLASTER'],\n",
    "#  'Street Condition': third_zip_top_complainers['Street Condition'],\n",
    "#  'Noise - Residential': third_zip_top_complainers['Noise - Residential'],\n",
    "#  'UNSANITARY CONDITION': third_zip_top_complainers['UNSANITARY CONDITION'],\n",
    "#  'Illegal Parking': third_zip_top_complainers['Illegal Parking'],\n",
    "#  'Blocked Driveway': third_zip_top_complainers['Blocked Driveway'],\n",
    "#  \"Zip Code\": \"11368\"\n",
    "#  }, index={0}\n",
    "# )\n",
    "\n",
    "# fourth_complainers_dfs = pd.DataFrame(\n",
    "#      {'HEAT/HOT WATER': SI_top_complainers['HEAT/HOT WATER'],\n",
    "#  'PLUMBING': SI_top_complainers['PLUMBING'],\n",
    "#  'Missed Collection (All Materials)': SI_top_complainers['Missed Collection (All Materials)'],\n",
    "#  'Request Large Bulky Item Collection': SI_top_complainers['Request Large Bulky Item Collection'],\n",
    "#  'PAINT/PLASTER': SI_top_complainers['PAINT/PLASTER'],\n",
    "#  'Street Condition': SI_top_complainers['Street Condition'],\n",
    "#  'Noise - Residential': SI_top_complainers['Noise - Residential'],\n",
    "#  'UNSANITARY CONDITION': SI_top_complainers['UNSANITARY CONDITION'],\n",
    "#  'Illegal Parking': SI_top_complainers['Illegal Parking'],\n",
    "#  'Blocked Driveway': SI_top_complainers['Blocked Driveway'],\n",
    "#  'Zip Code': \"90650\"\n",
    "#  }, index={0}\n",
    "# )\n",
    "\n",
    "# fifth_complainers = pd.DataFrame(\n",
    "#      {'HEAT/HOT WATER': fifth_top_complainers['HEAT/HOT WATER'],\n",
    "#  'PLUMBING': fifth_top_complainers['PLUMBING'],\n",
    "#  'Missed Collection (All Materials)': fifth_top_complainers['Missed Collection (All Materials)'],\n",
    "#  'Request Large Bulky Item Collection': fifth_top_complainers['Request Large Bulky Item Collection'],\n",
    "#  'PAINT/PLASTER': fifth_top_complainers['PAINT/PLASTER'],\n",
    "#  'Street Condition': fifth_top_complainers['Street Condition'],\n",
    "#  'Noise - Residential': fifth_top_complainers['Noise - Residential'],\n",
    "#  'UNSANITARY CONDITION': fifth_top_complainers['UNSANITARY CONDITION'],\n",
    "#  'Illegal Parking': fifth_top_complainers['Illegal Parking'],\n",
    "#  'Blocked Driveway': fifth_top_complainers['Blocked Driveway'],\n",
    "#  'Zip Code' : \"90011\"\n",
    "#      }, index={0}\n",
    "# )\n",
    "\n",
    "# sixth_complainers_dfs = pd.DataFrame(\n",
    "#      {'HEAT/HOT WATER': six_top_complainers ['HEAT/HOT WATER'],\n",
    "#  'PLUMBING': six_top_complainers ['PLUMBING'],\n",
    "#  'Missed Collection (All Materials)': six_top_complainers ['Missed Collection (All Materials)'],\n",
    "#  'Request Large Bulky Item Collection': six_top_complainers ['Request Large Bulky Item Collection'],\n",
    "#  'PAINT/PLASTER': six_top_complainers ['PAINT/PLASTER'],\n",
    "#  'Street Condition': six_top_complainers ['Street Condition'],\n",
    "#  'Noise - Residential': six_top_complainers ['Noise - Residential'],\n",
    "#  'UNSANITARY CONDITION': six_top_complainers ['UNSANITARY CONDITION'],\n",
    "#  'Illegal Parking': six_top_complainers ['Illegal Parking'],\n",
    "#  'Blocked Driveway': six_top_complainers ['Blocked Driveway'],\n",
    "#  \"Zip Code\": \"91331\"}, index={0}\n",
    "# )\n",
    "\n",
    "# seventh_complainers_dfs = pd.DataFrame(\n",
    "#      {'HEAT/HOT WATER': seventh_top_complainers ['HEAT/HOT WATER'],\n",
    "#  'PLUMBING': seventh_top_complainers ['PLUMBING'],\n",
    "#  'Missed Collection (All Materials)': seventh_top_complainers ['Missed Collection (All Materials)'],\n",
    "#  'Request Large Bulky Item Collection': seventh_top_complainers ['Request Large Bulky Item Collection'],\n",
    "#  'PAINT/PLASTER': seventh_top_complainers ['PAINT/PLASTER'],\n",
    "#  'Street Condition': seventh_top_complainers ['Street Condition'],\n",
    "#  'Noise - Residential': seventh_top_complainers ['Noise - Residential'],\n",
    "#  'UNSANITARY CONDITION': seventh_top_complainers ['UNSANITARY CONDITION'],\n",
    "#  'Illegal Parking': seventh_top_complainers ['Illegal Parking'],\n",
    "#  'Blocked Driveway': seventh_top_complainers ['Blocked Driveway'],\n",
    "#  \"Zip Code\": \"11226\"}, index={0}\n",
    "# )\n",
    "\n",
    "# eighth_complainers_dfs = pd.DataFrame(\n",
    "#      {'HEAT/HOT WATER': eigth_top_complainers ['HEAT/HOT WATER'],\n",
    "#  'PLUMBING': eigth_top_complainers ['PLUMBING'],\n",
    "#  'Missed Collection (All Materials)': eigth_top_complainers ['Missed Collection (All Materials)'],\n",
    "#  'Request Large Bulky Item Collection': eigth_top_complainers ['Request Large Bulky Item Collection'],\n",
    "#  'PAINT/PLASTER': eigth_top_complainers ['PAINT/PLASTER'],\n",
    "#  'Street Condition': eigth_top_complainers ['Street Condition'],\n",
    "#  'Noise - Residential': eigth_top_complainers ['Noise - Residential'],\n",
    "#  'UNSANITARY CONDITION': eigth_top_complainers ['UNSANITARY CONDITION'],\n",
    "#  'Illegal Parking': eigth_top_complainers ['Illegal Parking'],\n",
    "#  'Blocked Driveway': eigth_top_complainers ['Blocked Driveway'],\n",
    "#  \"Zip Code\": \"90201\"}, index={0}\n",
    "# )\n",
    "\n",
    "# nineth_complainers_dfs = pd.DataFrame(\n",
    "#      {'HEAT/HOT WATER': nine_top_complainers ['HEAT/HOT WATER'],\n",
    "#  'PLUMBING': nine_top_complainers ['PLUMBING'],\n",
    "#  'Missed Collection (All Materials)': nine_top_complainers ['Missed Collection (All Materials)'],\n",
    "#  'Request Large Bulky Item Collection': nine_top_complainers ['Request Large Bulky Item Collection'],\n",
    "#  'PAINT/PLASTER': nine_top_complainers ['PAINT/PLASTER'],\n",
    "#  'Street Condition': nine_top_complainers ['Street Condition'],\n",
    "#  'Noise - Residential': nine_top_complainers ['Noise - Residential'],\n",
    "#  'UNSANITARY CONDITION': nine_top_complainers ['UNSANITARY CONDITION'],\n",
    "#  'Illegal Parking': nine_top_complainers ['Illegal Parking'],\n",
    "#  'Blocked Driveway': nine_top_complainers ['Blocked Driveway'],\n",
    "#  \"Zip Code\": \"11373\"}, index={0}\n",
    "# )\n",
    "\n",
    "# ten_complainers_dfs = pd.DataFrame(\n",
    "#      {'HEAT/HOT WATER': ten_top_complainers ['HEAT/HOT WATER'],\n",
    "#  'PLUMBING': ten_top_complainers ['PLUMBING'],\n",
    "#  'Missed Collection (All Materials)': ten_top_complainers ['Missed Collection (All Materials)'],\n",
    "#  'Request Large Bulky Item Collection': ten_top_complainers ['Request Large Bulky Item Collection'],\n",
    "#  'PAINT/PLASTER': ten_top_complainers ['PAINT/PLASTER'],\n",
    "#  'Street Condition': ten_top_complainers ['Street Condition'],\n",
    "#  'Noise - Residential': ten_top_complainers ['Noise - Residential'],\n",
    "#  'UNSANITARY CONDITION': ten_top_complainers ['UNSANITARY CONDITION'],\n",
    "#  'Illegal Parking': ten_top_complainers ['Illegal Parking'],\n",
    "#  'Blocked Driveway': ten_top_complainers ['Blocked Driveway'],\n",
    "#  \"Zip Code\": \"11220\"}, index={0}\n",
    "# )\n",
    "\n",
    "# fifth_complainers.append([fourth_complainers_dfs,third_complainer_dfs,sixth_complainers_dfs,first_complainer_df ])"
   ]
  },
  {
   "cell_type": "code",
   "execution_count": null,
   "metadata": {},
   "outputs": [],
   "source": [
    "first_complainer_df"
   ]
  },
  {
   "cell_type": "code",
   "execution_count": null,
   "metadata": {},
   "outputs": [],
   "source": []
  },
  {
   "cell_type": "code",
   "execution_count": null,
   "metadata": {},
   "outputs": [],
   "source": [
    "def get_most_popular_complain_types():\n",
    "\tendpoint = \"https://data.cityofnewyork.us/resource/fhrw-4uyv.json?$where=complaint_type IS NOT NULL\"\n",
    "\tresponse = requests.get(endpoint)\n",
    "\tcomplaint_types = {}\n",
    "\tfor entry in response.json():\n",
    "# \t\tprint(entry)\n",
    "\t\tcomplaint_type = entry['complaint_type']\n",
    "# \t\tprint(complaint_type)\n",
    "\t\tif complaint_type in complaint_types.keys():\n",
    "\t\t\tcomplaint_types[complaint_type] += 1\n",
    "\t\telse:\n",
    "\t\t\tcomplaint_types[complaint_type] = 1\n",
    "\treturn complaint_types"
   ]
  },
  {
   "cell_type": "code",
   "execution_count": null,
   "metadata": {},
   "outputs": [],
   "source": []
  },
  {
   "cell_type": "code",
   "execution_count": null,
   "metadata": {},
   "outputs": [],
   "source": []
  },
  {
   "cell_type": "code",
   "execution_count": null,
   "metadata": {},
   "outputs": [],
   "source": []
  },
  {
   "cell_type": "code",
   "execution_count": null,
   "metadata": {},
   "outputs": [],
   "source": [
    "zip_codes_pop_list = pd.Series(deer.groupby('Zip').size().sort_values(ascending=False)[:10])\n",
    "# deer.groupby('Zip').size().sort_values()\n",
    "# zip_codes_pop_list"
   ]
  },
  {
   "cell_type": "code",
   "execution_count": null,
   "metadata": {},
   "outputs": [],
   "source": []
  },
  {
   "cell_type": "code",
   "execution_count": null,
   "metadata": {},
   "outputs": [],
   "source": [
    "pop_zip_array = pd.Series([11385, 11209, 11215, 11216, 10456, 10453, 11226, 11213, 10467, 10452])"
   ]
  },
  {
   "cell_type": "code",
   "execution_count": null,
   "metadata": {},
   "outputs": [],
   "source": [
    "print(zip_codes_pop_list)"
   ]
  },
  {
   "cell_type": "code",
   "execution_count": null,
   "metadata": {},
   "outputs": [],
   "source": []
  },
  {
   "cell_type": "code",
   "execution_count": null,
   "metadata": {},
   "outputs": [],
   "source": [
    "# first_zip_complaints\n",
    "first_zip_complaints\n",
    "\n",
    "for index, row in first_zip_complaints.\n",
    "\n"
   ]
  },
  {
   "cell_type": "code",
   "execution_count": 13,
   "metadata": {},
   "outputs": [
    {
     "name": "stdout",
     "output_type": "stream",
     "text": [
      "Complaint Type\n",
      "Request Large Bulky Item Collection    4771\n",
      "UNSANITARY CONDITION                   3917\n",
      "Noise                                  2640\n",
      "PAINT/PLASTER                          2580\n",
      "PLUMBING                               2422\n",
      "Street Condition                       1821\n",
      "DOOR/WINDOW                            1550\n",
      "HEAT/HOT WATER                         1415\n",
      "Street Light Condition                 1279\n",
      "Illegal Parking                        1246\n",
      "dtype: int64\n",
      "---------------------------------------------\n",
      "0    11385\n",
      "1    11209\n",
      "2    11215\n",
      "3    11216\n",
      "4    10456\n",
      "5    10453\n",
      "6    11226\n",
      "7    11213\n",
      "8    10467\n",
      "9    10452\n",
      "dtype: int64\n"
     ]
    }
   ],
   "source": [
    "## values to check against\n",
    "print(top_ten_pop_complaints)\n",
    "print('---------------------------------------------')\n",
    "\n",
    "print(pop_zip_array)\n",
    "\n",
    "## values to check against"
   ]
  },
  {
   "cell_type": "code",
   "execution_count": 14,
   "metadata": {},
   "outputs": [],
   "source": [
    "def first_zip_top_complainers():\n",
    "#     print(first_zip_complaints)\n",
    "#     first_complainers = {'HEAT/HOT WATER': 0, 'Noise - Residential': 0, 'Illegal Parking':0, 'Blocked Driveway': 0, 'Request Large Bulky Item Collection': 0, 'PLUMBING': 0, 'Missed Collection (All Materials)': 0, 'UNSANITARY CONDITION': 0, 'PAINT/PLASTER': 0, 'Street Condition': 0}\n",
    "    first_complainers = {}\n",
    "    for x in first_zip_complaints:\n",
    "        \n",
    "        if x in top_ten_pop_complaints: \n",
    "            continue\n",
    "            if (x in first_complainers):\n",
    "                first_complainers[x] +=1\n",
    "            else:\n",
    "                first_complainers[x] = 1\n",
    "            print(first_complainers)\n",
    "                \n",
    "            \n",
    "        \n",
    "        \n",
    "\n",
    "        \n",
    "            \n",
    "        \n",
    "              "
   ]
  },
  {
   "cell_type": "code",
   "execution_count": 15,
   "metadata": {},
   "outputs": [],
   "source": [
    "# if x not in pop_zip_array:\n",
    "#             print(x not in pop_zip_array)\n",
    "#             pass\n",
    "    \n"
   ]
  },
  {
   "cell_type": "code",
   "execution_count": 16,
   "metadata": {},
   "outputs": [
    {
     "name": "stdout",
     "output_type": "stream",
     "text": [
      "{'Request Large Bulky Item Collection': 614, 'Noise': 37, 'PAINT/PLASTER': 72, 'Illegal Parking': 37, 'Street Light Condition': 4, 'Street Condition': 1}\n"
     ]
    }
   ],
   "source": [
    "second_zip_top_complainers()"
   ]
  },
  {
   "cell_type": "code",
   "execution_count": 17,
   "metadata": {},
   "outputs": [],
   "source": [
    "\n",
    "# check_vals['Noise']\n",
    "# check_vals['Request Large Bulky Item Collection']"
   ]
  },
  {
   "cell_type": "code",
   "execution_count": null,
   "metadata": {},
   "outputs": [],
   "source": []
  },
  {
   "cell_type": "code",
   "execution_count": null,
   "metadata": {},
   "outputs": [],
   "source": []
  },
  {
   "cell_type": "code",
   "execution_count": null,
   "metadata": {},
   "outputs": [],
   "source": []
  },
  {
   "cell_type": "code",
   "execution_count": null,
   "metadata": {},
   "outputs": [],
   "source": []
  },
  {
   "cell_type": "code",
   "execution_count": null,
   "metadata": {},
   "outputs": [],
   "source": []
  },
  {
   "cell_type": "code",
   "execution_count": null,
   "metadata": {},
   "outputs": [],
   "source": []
  },
  {
   "cell_type": "code",
   "execution_count": null,
   "metadata": {},
   "outputs": [],
   "source": []
  },
  {
   "cell_type": "code",
   "execution_count": null,
   "metadata": {},
   "outputs": [],
   "source": []
  },
  {
   "cell_type": "code",
   "execution_count": null,
   "metadata": {},
   "outputs": [],
   "source": []
  },
  {
   "cell_type": "code",
   "execution_count": 18,
   "metadata": {},
   "outputs": [
    {
     "data": {
      "text/plain": [
       "'PAINT/PLASTER'"
      ]
     },
     "execution_count": 18,
     "metadata": {},
     "output_type": "execute_result"
    }
   ],
   "source": [
    "complaints_tops_names[3]"
   ]
  },
  {
   "cell_type": "code",
   "execution_count": 19,
   "metadata": {},
   "outputs": [
    {
     "data": {
      "text/plain": [
       "52       Request Large Bulky Item Collection\n",
       "53       Request Large Bulky Item Collection\n",
       "164                                    Noise\n",
       "165                                    Noise\n",
       "188        Missed Collection (All Materials)\n",
       "189        Missed Collection (All Materials)\n",
       "501      Request Large Bulky Item Collection\n",
       "502      Request Large Bulky Item Collection\n",
       "628      Request Large Bulky Item Collection\n",
       "629      Request Large Bulky Item Collection\n",
       "1041                             DOOR/WINDOW\n",
       "1042                             DOOR/WINDOW\n",
       "1117                        Blocked Driveway\n",
       "1118                        Blocked Driveway\n",
       "1172     Request Large Bulky Item Collection\n",
       "1173     Request Large Bulky Item Collection\n",
       "1212                                PLUMBING\n",
       "1213                                PLUMBING\n",
       "1243                                  SAFETY\n",
       "1244                                  SAFETY\n",
       "1308                         Illegal Parking\n",
       "1309                         Illegal Parking\n",
       "1318     Request Large Bulky Item Collection\n",
       "1319     Request Large Bulky Item Collection\n",
       "1372     Request Large Bulky Item Collection\n",
       "1373     Request Large Bulky Item Collection\n",
       "1535     Request Large Bulky Item Collection\n",
       "1536     Request Large Bulky Item Collection\n",
       "1565     Request Large Bulky Item Collection\n",
       "1566     Request Large Bulky Item Collection\n",
       "                        ...                 \n",
       "41721                                  Noise\n",
       "42072                       Street Condition\n",
       "42075                       Street Condition\n",
       "42505                           Window Guard\n",
       "42598                 Street Light Condition\n",
       "42600                 Street Light Condition\n",
       "42607                 Street Light Condition\n",
       "42728                           Building/Use\n",
       "42777    Request Large Bulky Item Collection\n",
       "43124                    Noise - Residential\n",
       "43181                       Blocked Driveway\n",
       "43188                       Blocked Driveway\n",
       "43194                       Blocked Driveway\n",
       "43402                       Derelict Vehicle\n",
       "43437                       Derelict Vehicle\n",
       "43987                       Street Condition\n",
       "43988                       Street Condition\n",
       "43989                       Street Condition\n",
       "43990                       Street Condition\n",
       "43991                       Street Condition\n",
       "44014                       Street Condition\n",
       "44668          General Construction/Plumbing\n",
       "44703    Investigations and Discipline (IAD)\n",
       "44704    Investigations and Discipline (IAD)\n",
       "44710                               Plumbing\n",
       "44711                               Plumbing\n",
       "44879             Bus Stop Shelter Complaint\n",
       "45088                  Street Sign - Missing\n",
       "45362                 DHS Advantage - Tenant\n",
       "45490    Request Large Bulky Item Collection\n",
       "Name: Complaint Type, Length: 977, dtype: object"
      ]
     },
     "execution_count": 19,
     "metadata": {},
     "output_type": "execute_result"
    }
   ],
   "source": [
    "first_zip_complaints"
   ]
  },
  {
   "cell_type": "code",
   "execution_count": 20,
   "metadata": {},
   "outputs": [
    {
     "data": {
      "text/plain": [
       "Complaint Type\n",
       "Request Large Bulky Item Collection    4771\n",
       "UNSANITARY CONDITION                   3917\n",
       "Noise                                  2640\n",
       "PAINT/PLASTER                          2580\n",
       "PLUMBING                               2422\n",
       "Street Condition                       1821\n",
       "DOOR/WINDOW                            1550\n",
       "HEAT/HOT WATER                         1415\n",
       "Street Light Condition                 1279\n",
       "Illegal Parking                        1246\n",
       "dtype: int64"
      ]
     },
     "execution_count": 20,
     "metadata": {},
     "output_type": "execute_result"
    }
   ],
   "source": [
    "top_ten_pop_complaints"
   ]
  },
  {
   "cell_type": "code",
   "execution_count": 21,
   "metadata": {},
   "outputs": [
    {
     "data": {
      "text/plain": [
       "Index(['Request Large Bulky Item Collection', 'UNSANITARY CONDITION', 'Noise',\n",
       "       'PAINT/PLASTER', 'PLUMBING', 'Street Condition', 'DOOR/WINDOW',\n",
       "       'HEAT/HOT WATER', 'Street Light Condition', 'Illegal Parking'],\n",
       "      dtype='object', name='Complaint Type')"
      ]
     },
     "execution_count": 21,
     "metadata": {},
     "output_type": "execute_result"
    }
   ],
   "source": [
    "complaints_tops_names"
   ]
  },
  {
   "cell_type": "code",
   "execution_count": 22,
   "metadata": {},
   "outputs": [
    {
     "data": {
      "text/plain": [
       "Index(['Request Large Bulky Item Collection', 'UNSANITARY CONDITION', 'Noise',\n",
       "       'PAINT/PLASTER', 'PLUMBING', 'Street Condition', 'DOOR/WINDOW',\n",
       "       'HEAT/HOT WATER', 'Street Light Condition', 'Illegal Parking'],\n",
       "      dtype='object', name='Complaint Type')"
      ]
     },
     "execution_count": 22,
     "metadata": {},
     "output_type": "execute_result"
    }
   ],
   "source": [
    "top_ten_pop_complaints.keys()"
   ]
  },
  {
   "cell_type": "code",
   "execution_count": 23,
   "metadata": {},
   "outputs": [],
   "source": [
    "def first_zip_top_complainers():\n",
    "    first_complainers = {}\n",
    "    for x in first_zip_complaints:\n",
    "        if x not in complaints_tops_names:\n",
    "            pass\n",
    "        elif (x in first_complainers):\n",
    "            first_complainers[x] +=1\n",
    "        else:\n",
    "            first_complainers[x] = 1\n",
    "    print(first_complainers)"
   ]
  },
  {
   "cell_type": "code",
   "execution_count": 24,
   "metadata": {},
   "outputs": [
    {
     "name": "stdout",
     "output_type": "stream",
     "text": [
      "{'Request Large Bulky Item Collection': 542, 'Noise': 37, 'DOOR/WINDOW': 36, 'PLUMBING': 36, 'Illegal Parking': 73, 'HEAT/HOT WATER': 36, 'Street Light Condition': 5, 'Street Condition': 8}\n"
     ]
    }
   ],
   "source": [
    "first_zip_top_complainers()"
   ]
  },
  {
   "cell_type": "code",
   "execution_count": 25,
   "metadata": {},
   "outputs": [
    {
     "data": {
      "text/plain": [
       "Index(['Request Large Bulky Item Collection', 'UNSANITARY CONDITION', 'Noise',\n",
       "       'PAINT/PLASTER', 'PLUMBING', 'Street Condition', 'DOOR/WINDOW',\n",
       "       'HEAT/HOT WATER', 'Street Light Condition', 'Illegal Parking'],\n",
       "      dtype='object', name='Complaint Type')"
      ]
     },
     "execution_count": 25,
     "metadata": {},
     "output_type": "execute_result"
    }
   ],
   "source": [
    "complaints_tops_names"
   ]
  },
  {
   "cell_type": "code",
   "execution_count": 26,
   "metadata": {},
   "outputs": [
    {
     "name": "stdout",
     "output_type": "stream",
     "text": [
      "{'Request Large Bulky Item Collection': 614, 'Noise': 37, 'PAINT/PLASTER': 72, 'Illegal Parking': 37, 'Street Light Condition': 4, 'Street Condition': 1}\n"
     ]
    }
   ],
   "source": [
    "second_zip_top_complainers()"
   ]
  },
  {
   "cell_type": "code",
   "execution_count": 44,
   "metadata": {},
   "outputs": [
    {
     "name": "stdout",
     "output_type": "stream",
     "text": [
      "{'Request Large Bulky Item Collection': 614, 'UNSANITARY CONDITION': 0, 'Noise': 37, 'PAINT/PLASTER': 72, 'PLUMBING': 0, 'Street Condition': 1, 'DOOR/WINDOW': 0, 'HEAT/HOT WATER': 0, 'Street Light Condition': 4, 'Illegal Parking': 37}\n"
     ]
    }
   ],
   "source": [
    "# one = first_zip_top_complainers()\n",
    "# two = second_zip_top_complainers()\n",
    "# three = third_zip_top_complainers()\n",
    "# four = fourth_zip_top_complainers()\n",
    "# five = fifth_zip_top_complainers()\n",
    "# six = six_zip_top_complainers()\n",
    "# seven = seventh_zip_top_complainers()\n",
    "# eight = eight_zip_top_complainers()\n",
    "# nine = nine_zip_top_complainers()\n",
    "# ten = ten_zip_top_complainers()"
   ]
  },
  {
   "cell_type": "code",
   "execution_count": 22,
   "metadata": {},
   "outputs": [],
   "source": [
    "seven"
   ]
  },
  {
   "cell_type": "code",
   "execution_count": null,
   "metadata": {},
   "outputs": [],
   "source": []
  },
  {
   "cell_type": "code",
   "execution_count": 26,
   "metadata": {},
   "outputs": [
    {
     "data": {
      "text/plain": [
       "Index(['Request Large Bulky Item Collection', 'UNSANITARY CONDITION', 'Noise',\n",
       "       'PAINT/PLASTER', 'PLUMBING', 'Street Condition', 'DOOR/WINDOW',\n",
       "       'HEAT/HOT WATER', 'Street Light Condition', 'Illegal Parking'],\n",
       "      dtype='object', name='Complaint Type')"
      ]
     },
     "execution_count": 26,
     "metadata": {},
     "output_type": "execute_result"
    }
   ],
   "source": [
    "complaints_tops_names"
   ]
  },
  {
   "cell_type": "code",
   "execution_count": 36,
   "metadata": {},
   "outputs": [],
   "source": [
    "def create_new_pop_obj():\n",
    "    pop_dict = {}\n",
    "    for x in complaints_tops_names:\n",
    "        pop_dict[x] = 0\n",
    "    return(pop_dict)\n"
   ]
  },
  {
   "cell_type": "code",
   "execution_count": 39,
   "metadata": {},
   "outputs": [
    {
     "name": "stdout",
     "output_type": "stream",
     "text": [
      "{'Request Large Bulky Item Collection': 0, 'UNSANITARY CONDITION': 0, 'Noise': 0, 'PAINT/PLASTER': 0, 'PLUMBING': 0, 'Street Condition': 0, 'DOOR/WINDOW': 0, 'HEAT/HOT WATER': 0, 'Street Light Condition': 0, 'Illegal Parking': 0}\n"
     ]
    }
   ],
   "source": [
    "create_new_starter_obj()"
   ]
  },
  {
   "cell_type": "code",
   "execution_count": 41,
   "metadata": {},
   "outputs": [],
   "source": [
    "def first_zip_top_complainers():\n",
    "    complainers_obj = create_new_pop_obj()\n",
    "    for x in first_zip_complaints:\n",
    "        if x not in complaints_tops_names:\n",
    "            pass\n",
    "        elif (x in complainers_obj):\n",
    "            complainers_obj[x] += 1\n",
    "        else:\n",
    "            complainers_obj[x] = 1\n",
    "    print(complainers_obj)"
   ]
  },
  {
   "cell_type": "code",
   "execution_count": 42,
   "metadata": {},
   "outputs": [
    {
     "name": "stdout",
     "output_type": "stream",
     "text": [
      "{'Request Large Bulky Item Collection': 542, 'UNSANITARY CONDITION': 0, 'Noise': 37, 'PAINT/PLASTER': 0, 'PLUMBING': 36, 'Street Condition': 8, 'DOOR/WINDOW': 36, 'HEAT/HOT WATER': 36, 'Street Light Condition': 5, 'Illegal Parking': 73}\n"
     ]
    }
   ],
   "source": []
  },
  {
   "cell_type": "code",
   "execution_count": null,
   "metadata": {},
   "outputs": [],
   "source": []
  }
 ],
 "metadata": {
  "kernelspec": {
   "display_name": "Python 3",
   "language": "python",
   "name": "python3"
  },
  "language_info": {
   "codemirror_mode": {
    "name": "ipython",
    "version": 3
   },
   "file_extension": ".py",
   "mimetype": "text/x-python",
   "name": "python",
   "nbconvert_exporter": "python",
   "pygments_lexer": "ipython3",
   "version": "3.7.1"
  }
 },
 "nbformat": 4,
 "nbformat_minor": 2
}
