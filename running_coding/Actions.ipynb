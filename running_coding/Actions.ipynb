{
 "cells": [
  {
   "cell_type": "code",
   "execution_count": 15,
   "metadata": {},
   "outputs": [],
   "source": [
    "import requests\n",
    "import pandas as pd\n",
    "import numpy as np\n",
    "import csv"
   ]
  },
  {
   "cell_type": "code",
   "execution_count": null,
   "metadata": {},
   "outputs": [],
   "source": []
  },
  {
   "cell_type": "code",
   "execution_count": 16,
   "metadata": {},
   "outputs": [],
   "source": [
    "boroughs_array = pd.Series(['BRONX', 'BROOKLYN', 'MANHATTAN', 'QUEENS', 'STATEN ISLAND'])\n"
   ]
  },
  {
   "cell_type": "code",
   "execution_count": 17,
   "metadata": {},
   "outputs": [],
   "source": [
    "zipcode_file = '../../../downloads/Zips2010_90.xlsx'  # Using the 2010 Zip Code Data.\n",
    "zip_files_dataframe_one = pd.read_excel(zipcode_file)\n",
    "city_data_file_read= pd.read_excel(\"../../../downloads/tocopycitydata.xlsx\")"
   ]
  },
  {
   "cell_type": "code",
   "execution_count": 18,
   "metadata": {},
   "outputs": [],
   "source": [
    "main_data_dataframe = pd.DataFrame( # drop nas\n",
    "     {\"Unique Key\":city_data_file_read[\"Unique Key\"],\n",
    "        \"Created Date\":city_data_file_read[\"Created Date\"],\n",
    "        \"Closed Date\":city_data_file_read[\"Closed Date\"],\n",
    "        \"Complaint Type\":city_data_file_read[\"Complaint Type\"],\n",
    "        \"Zip\" : city_data_file_read[\"Incident Zip\"],\n",
    "        \"Status\": city_data_file_read[\"Status\"],\n",
    "        \"Borough\":city_data_file_read[\"Borough\"]\n",
    "     }\n",
    ")\n",
    "zip_files_df = pd.DataFrame ({\n",
    "    \"Zip\": zip_files_dataframe_one[\"Incident Zips\"],\n",
    "    \"Population\": zip_files_dataframe_one[\"Population\"]\n",
    "})\n"
   ]
  },
  {
   "cell_type": "code",
   "execution_count": 20,
   "metadata": {},
   "outputs": [],
   "source": [
    "pop_zip_array = pd.Series([11385, 11209, 11215, 11216, 10456, 10453, 11226, 11213, 10467, 10452])\n"
   ]
  },
  {
   "cell_type": "code",
   "execution_count": null,
   "metadata": {},
   "outputs": [],
   "source": []
  }
 ],
 "metadata": {
  "kernelspec": {
   "display_name": "Python 3",
   "language": "python",
   "name": "python3"
  },
  "language_info": {
   "codemirror_mode": {
    "name": "ipython",
    "version": 3
   },
   "file_extension": ".py",
   "mimetype": "text/x-python",
   "name": "python",
   "nbconvert_exporter": "python",
   "pygments_lexer": "ipython3",
   "version": "3.7.1"
  }
 },
 "nbformat": 4,
 "nbformat_minor": 2
}
