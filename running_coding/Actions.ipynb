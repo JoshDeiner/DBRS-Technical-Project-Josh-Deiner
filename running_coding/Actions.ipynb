{
 "cells": [
  {
   "cell_type": "code",
   "execution_count": 15,
   "metadata": {},
   "outputs": [],
   "source": [
    "import requests\n",
    "import pandas as pd\n",
    "import numpy as np\n",
    "import csv"
   ]
  },
  {
   "cell_type": "code",
   "execution_count": null,
   "metadata": {},
   "outputs": [],
   "source": []
  },
  {
   "cell_type": "code",
   "execution_count": 16,
   "metadata": {},
   "outputs": [],
   "source": []
  },
  {
   "cell_type": "code",
   "execution_count": 17,
   "metadata": {},
   "outputs": [],
   "source": [
    "zipcode_file = '../../../downloads/Zips2010_90.xlsx'  # Using the 2010 Zip Code Data.\n",
    "zip_files_dataframe_one = pd.read_excel(zipcode_file)\n",
    "city_data_file_read= pd.read_excel(\"../../../downloads/tocopycitydata.xlsx\")"
   ]
  },
  {
   "cell_type": "code",
   "execution_count": 61,
   "metadata": {},
   "outputs": [],
   "source": [
    "main_data_dataframe = pd.DataFrame( # drop nas\n",
    "     {\"Unique Key\":city_data_file_read[\"Unique Key\"],\n",
    "        \"Created Date\":city_data_file_read[\"Created Date\"],\n",
    "        \"Closed Date\":city_data_file_read[\"Closed Date\"],\n",
    "        \"Complaint Type\":city_data_file_read[\"Complaint Type\"],\n",
    "        \"Zip\" : city_data_file_read[\"Incident Zip\"],\n",
    "        \"Status\": city_data_file_read[\"Status\"],\n",
    "        \"Borough\":city_data_file_read[\"Borough\"]\n",
    "     }\n",
    ")\n",
    "zip_files_df = pd.DataFrame ({\n",
    "    \"Zip\": zip_files_dataframe_one[\"Incident Zips\"],\n",
    "    \"Population\": zip_files_dataframe_one[\"Population\"]\n",
    "})\n"
   ]
  },
  {
   "cell_type": "code",
   "execution_count": 20,
   "metadata": {},
   "outputs": [],
   "source": [
    "pop_zip_array = pd.Series([11385, 11209, 11215, 11216, 10456, 10453, 11226, 11213, 10467, 10452]) # **** \n"
   ]
  },
  {
   "cell_type": "code",
   "execution_count": 30,
   "metadata": {},
   "outputs": [],
   "source": []
  },
  {
   "cell_type": "code",
   "execution_count": null,
   "metadata": {},
   "outputs": [],
   "source": [
    "def zipcodes_population_obj(): # has of zip_code file\n",
    "    obj= {}\n",
    "    pops, zips = zip_files_df['Population'], zip_files_df['Zip']\n",
    "    one_array, second_array = [], []\n",
    "    for pop_value in pops:\n",
    "        one_array.append(pop_value)\n",
    "    for zip_value in zips:\n",
    "        second_array.append(zip_value)\n",
    "    for x in range(len(one_array)-1):\n",
    "        once = one_array[x]\n",
    "        twice = second_array[x]\n",
    "        obj[twice] = once\n",
    "    return obj"
   ]
  },
  {
   "cell_type": "code",
   "execution_count": 50,
   "metadata": {},
   "outputs": [],
   "source": [
    "boroughs_array = pd.Series(main_data_dataframe['Borough'].dropna().unique())[:5]"
   ]
  },
  {
   "cell_type": "code",
   "execution_count": 49,
   "metadata": {},
   "outputs": [
    {
     "data": {
      "text/plain": [
       "0         BROOKLYN\n",
       "1           QUEENS\n",
       "2        MANHATTAN\n",
       "3    STATEN ISLAND\n",
       "4            BRONX\n",
       "dtype: object"
      ]
     },
     "execution_count": 49,
     "metadata": {},
     "output_type": "execute_result"
    }
   ],
   "source": [
    "# boroughs_array = pd.Series(['BRONX', 'BROOKLYN', 'MANHATTAN', 'QUEENS', 'STATEN ISLAND']) # ****\n"
   ]
  },
  {
   "cell_type": "code",
   "execution_count": 54,
   "metadata": {},
   "outputs": [],
   "source": [
    "bronxtable = main_data_dataframe.loc[main_data_dataframe.Borough == 'BRONX']\n",
    "manhattan_table = main_data_dataframe.loc[main_data_dataframe.Borough == 'MANHATTAN']\n",
    "queens_table = main_data_dataframe.loc[main_data_dataframe.Borough == 'QUEENS']\n",
    "staten_island_table = main_data_dataframe.loc[main_data_dataframe.Borough == 'STATEN ISLAND']\n",
    "brooklyn_table = main_data_dataframe.loc[main_data_dataframe.Borough == 'BROOKLYN']\n"
   ]
  },
  {
   "cell_type": "code",
   "execution_count": 55,
   "metadata": {},
   "outputs": [],
   "source": [
    "def new_group_boroughs_by_zips():\n",
    "\n",
    "    borough_list = [\"BROOKLYN\", \"QUEENS\", \"BRONX\", \"STATEN ISLAND\", \"MANHATTAN\"]\n",
    "    borough_zips = {\n",
    "    \"BROOKLYN\" : [],\n",
    "    \"QUEENS\": [],\n",
    "    \"BRONX\": [],\n",
    "    \"STATEN ISLAND\": [],\n",
    "    \"MANHATTAN\": []\n",
    "}\n",
    "    \n",
    "    for zipcode in bronxtable['Zip']: \n",
    "        (borough_zips['BRONX'].append(float(zipcode)))\n",
    "    for zipcode in manhattan_table['Zip']:\n",
    "        borough_zips['MANHATTAN'].append(float(zipcode))\n",
    "    for zipcode in queens_table['Zip']:\n",
    "        borough_zips['QUEENS'].append(float(zipcode))\n",
    "    for zipcode in staten_island_table['Zip']:\n",
    "        borough_zips['STATEN ISLAND'].append(float(zipcode))\n",
    "    for zipcode in brooklyn_table['Zip']:\n",
    "        borough_zips['BROOKLYN'].append(float(zipcode))\n",
    "    return(borough_zips)\n"
   ]
  },
  {
   "cell_type": "code",
   "execution_count": 58,
   "metadata": {},
   "outputs": [],
   "source": [
    "\n",
    "def define_base_obj_to_use(): # sets obj to use for most popular complaints. includes zero\n",
    "    starter_complaints_obj = {}\n",
    "    for x in complaints_tops_names:\n",
    "        starter_complaints_obj[x] = 0\n",
    "    return starter_complaints_obj"
   ]
  },
  {
   "cell_type": "code",
   "execution_count": null,
   "metadata": {},
   "outputs": [],
   "source": [
    "full_zipped_table = first_zipcode_table.append([ second_zipcode_table, third_zipcode_table, fourth_zipcode_table, fifth_zipcode_table ,sixth_complainer_table, seventh_complainer_table, eighth_complainer_table, nine_complainer_table, ten_complainer_table])\n"
   ]
  },
  {
   "cell_type": "code",
   "execution_count": null,
   "metadata": {},
   "outputs": [],
   "source": [
    "\n",
    "\n",
    "\n",
    "\n",
    "\n",
    "#######\n",
    "\n",
    "\n",
    "\n",
    "# for potential removal\n",
    "\n",
    "\n",
    "### DataFrame Organized By ZipCode ###********#####\n",
    "first_zipcode_table = main_data_dataframe.loc[main_data_dataframe.Zip == float(pop_zip_array[0])] #[\"Complaint Type\"]\n",
    "second_zipcode_table = main_data_dataframe.loc[main_data_dataframe.Zip == float(pop_zip_array[1])] #[\"Complaint Type\"]\n",
    "third_zipcode_table = main_data_dataframe.loc[main_data_dataframe.Zip == float(pop_zip_array[2])] #[\"Complaint Type\"]\n",
    "fourth_zipcode_table = main_data_dataframe.loc[main_data_dataframe.Zip == float(pop_zip_array[3])] #[\"Complaint Type\"]\n",
    "fifth_zipcode_table = main_data_dataframe.loc[main_data_dataframe.Zip == float(pop_zip_array[4])] #[\"Complaint Type\"]\n",
    "sixth_complainer_table = main_data_dataframe.loc[main_data_dataframe.Zip == float(pop_zip_array[5])] #[\"Complaint Type\"]\n",
    "seventh_complainer_table = main_data_dataframe.loc[main_data_dataframe.Zip == float(pop_zip_array[6])] #[\"Complaint Type\"]\n",
    "eighth_complainer_table = main_data_dataframe.loc[main_data_dataframe.Zip == float(pop_zip_array[7])] #[\"Complaint Type\"]\n",
    "nine_complainer_table = main_data_dataframe.loc[main_data_dataframe.Zip == float(pop_zip_array[8])] #[\"Complaint Type\"]\n",
    "ten_complainer_table = main_data_dataframe.loc[main_data_dataframe.Zip == float(pop_zip_array[9])] #[\"Complaint Type\"]\n",
    "###\n",
    "\n",
    "define_zipcode_tables()[0]\n",
    "### Row Values of Complaint Types. made for convenience \n",
    "first_zip_complaints =  first_zipcode_table[\"Complaint Type\"]\n",
    "second_zip_complaints = second_zipcode_table[\"Complaint Type\"]\n",
    "third_zip_complaints = third_zipcode_table[\"Complaint Type\"]\n",
    "fourth_zip_complaints = fourth_zipcode_table[\"Complaint Type\"]\n",
    "fifth_zip_complaints = fifth_zipcode_table[\"Complaint Type\"]\n",
    "six_zip_complaints = sixth_complainer_table[\"Complaint Type\"]\n",
    "seventh_zip_complaints = seventh_complainer_table[\"Complaint Type\"]\n",
    "eigth_zip_complaints = eighth_complainer_table[\"Complaint Type\"]\n",
    "nine_zip_complaints = nine_complainer_table[\"Complaint Type\"]\n",
    "tenth_zip_complaints = ten_complainer_table[\"Complaint Type\"]\n"
   ]
  }
 ],
 "metadata": {
  "kernelspec": {
   "display_name": "Python 3",
   "language": "python",
   "name": "python3"
  },
  "language_info": {
   "codemirror_mode": {
    "name": "ipython",
    "version": 3
   },
   "file_extension": ".py",
   "mimetype": "text/x-python",
   "name": "python",
   "nbconvert_exporter": "python",
   "pygments_lexer": "ipython3",
   "version": "3.7.1"
  }
 },
 "nbformat": 4,
 "nbformat_minor": 2
}
