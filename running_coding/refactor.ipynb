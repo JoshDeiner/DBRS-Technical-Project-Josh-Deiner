def group_zips_by_borough():
	endpoint = "https://data.cityofnewyork.us/resource/fhrw-4uyv.json?$where=incident_zip IS NOT NULL"
	response = requests.get(endpoint)
	borough_zips = {}

	# Get ditionary containing zip code population data
	populations = read_zip_population_data()

	for entry in response.json():
		borough = entry['borough']
		inc_zip = entry['incident_zip']

		# If an entry does not yet exist for this borough, make one
		if not borough in borough_zips:
			borough_zips[borough] = {}

		# Get all zip codes stored for this borough
		zips = borough_zips[borough].keys()

		# If no information on zipcode has been stored yet, store it
		if not inc_zip in zips:
			population = 0

			# Get population of zipcode according to 2010 statistics
			if inc_zip in populations.keys():
				population = populations[inc_zip]

			# Save entry in dictionary in format
			# borough_zips { 'borough_name' : { 'zip_code' : 'zip_code_population' } }
			borough_zips[borough][inc_zip] = population
	return borough_zips
