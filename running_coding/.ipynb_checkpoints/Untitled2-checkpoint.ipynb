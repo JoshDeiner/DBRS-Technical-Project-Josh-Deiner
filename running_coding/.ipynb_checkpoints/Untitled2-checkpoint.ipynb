{
 "cells": [
  {
   "cell_type": "code",
   "execution_count": null,
   "metadata": {},
   "outputs": [],
   "source": [
    "import requests\n",
    "import pandas as pd\n",
    "import numpy as np\n",
    "import csv\n",
    "\n",
    "city_data_input_file = pd.read_excel(\"../../../downloads/tocopycitydata.xlsx\")\n",
    "zipcode_file = pd.read_excel(\"../../../downloads/Zips2010_90.xlsx\")\n",
    "# csv_zip_file = zip_df.to_csv()\n",
    "\n",
    "city_data_df = pd.DataFrame(\n",
    "     {'Unique Key' : city_data_input_file[\"Unique Key\"],\n",
    "        'Created Date' : city_data_input_file[\"Created Date\"],\n",
    "        'Closed Date' : city_data_input_file[\"Closed Date\"],\n",
    "        'Complaint Type' : city_data_input_file[\"Complaint Type\"],\n",
    "        'Incident Zip' : city_data_input_file[\"Incident Zip\"],\n",
    "        'Status' : city_data_input_file[\"Status\"],\n",
    "        'Borough' : city_data_input_file[\"Borough\"]\n",
    "     })\n",
    "city_data_input_file\n",
    "\n",
    "\n",
    "# re_excelled_zip = zip_df.to_excel('re_excelled_zip.xlsx')\n",
    "# re_excelled_city_data = city_data_df.to_excel('re_excelled_city_data.xlsx')\n",
    "# zip_code_data_to_merge = pd.read_excel(re_excelled_zip)\n",
    "# city_data_to_merge = pd.read_excel(re_excelled_city_data)\n",
    "\n",
    "# city_data_to_merge\n",
    "# zip_table = df.loc[df.Borough == 'BRONX']\n",
    "# pd.merge(city_data_df, zip_df, on='Incident Zip', how='right') # try with just tables alone\n",
    "# pd.merge(city_data_input_file, zipcode_file, how='right')\n",
    "\n",
    "# df1.to_excel(\"output.xlsx\")  # doctest: +SKIP\n",
    "population_to_be_added = {}\n",
    "\n",
    "# def population_finder():\n",
    "\n",
    "def group_zips_by_borough(): # refactor\n",
    "\tendpoint = \"https://data.cityofnewyork.us/resource/fhrw-4uyv.json?$where=incident_zip IS NOT NULL\"\n",
    "\tresponse = requests.get(endpoint)\n",
    "\tprint (response.json())\n",
    "\tborough_zips = {}\n",
    "\n",
    "# \t# Get ditionary containing zip code population data\n",
    "# \tpopulations = read_zip_population_data()\n",
    "# \tpopulations\n",
    "\n",
    "\n",
    "populations_df = pd.DataFrame(\n",
    "    {\n",
    "        'Incident Zip': zipcode_file['Incident Zips'],\n",
    "        'Population': zipcode_file['Population']\n",
    "    }\n",
    ")\n",
    "\n",
    "populations_df['Incident Zip']\n",
    "\n",
    "# populations = read_zip_population_data()\n",
    "# populations\n",
    "\n",
    "\n",
    "# def read_zip_population_data():\n",
    "\n",
    "populations = {}\n",
    "#     incident_zips_column = zipcode_file[row]\n",
    "#     population_column = zipcode_file[row]\n",
    "\n",
    "for index, row in populations_df.iterrows():\n",
    "    incident_zips_row_value = row['Incident Zip']\n",
    "    population_row_value = row['Population']\n",
    "\n",
    "\n",
    "#      print(index, row['delay'], row['distance'], row['origin'])\n",
    "\n",
    "# for row in zipcode_file:\n",
    "# # \t\tprint(zipcode_file[row])\n",
    "\n",
    "# \t\tprint(zipcode_file)\n",
    "#     for other\n",
    "# \t\tkey, value = row\n",
    "# \t\tpopulations[key] = value\n",
    "# \treturn populations\n",
    "\n",
    "\n",
    "# def group_boroughs_by_zips():\n",
    "\n",
    "#     borough_list = [\"BROOKLYN\", \"QUEENS\", \"BRONX\", \"STATEN ISLAND\", \"MANHATTAN\"]\n",
    "\n",
    "#     borough_zips = {\n",
    "#     \"BROOKLYN\" : [],\n",
    "#     \"QUEENS\": [],\n",
    "#     \"BRONX\": [],\n",
    "#     \"STATEN ISLAND\": [],\n",
    "#     \"MANHATTAN\": []\n",
    "# }\n",
    "#     for index, row in city_data_input_file.iterrows():\n",
    "#         for borough in borough_list:\n",
    "#             if row[\"Borough\"] == borough:\n",
    "#                 borough_zips[borough].append(row['Incident Zip'])\n",
    "#                 print (borough_zips)\n",
    "\n",
    "\n",
    "# group_boroughs_by_zips()\n",
    "\n",
    "\n",
    "\n",
    "def define_pop_of_boroughs():\n",
    "    borough_pop_dictionary = {\n",
    "    \"BROOKLYN\" : 0,\n",
    "    \"QUEENS\": 0,\n",
    "    \"BRONX\": 0,\n",
    "    \"STATEN ISLAND\": 0,\n",
    "    \"MANHATTAN\": 0\n",
    "    }\n",
    "    print(borough_pop_dictionary)\n"
   ]
  },
  {
   "cell_type": "code",
   "execution_count": null,
   "metadata": {},
   "outputs": [],
   "source": [
    "define_pop_of_boroughs()"
   ]
  },
  {
   "cell_type": "code",
   "execution_count": null,
   "metadata": {},
   "outputs": [],
   "source": [
    "print('hosh')\n"
   ]
  },
  {
   "cell_type": "code",
   "execution_count": null,
   "metadata": {},
   "outputs": [],
   "source": [
    "print(borough_zips)"
   ]
  },
  {
   "cell_type": "code",
   "execution_count": null,
   "metadata": {},
   "outputs": [],
   "source": []
  },
  {
   "cell_type": "code",
   "execution_count": null,
   "metadata": {},
   "outputs": [],
   "source": []
  },
  {
   "cell_type": "code",
   "execution_count": null,
   "metadata": {},
   "outputs": [],
   "source": []
  },
  {
   "cell_type": "code",
   "execution_count": null,
   "metadata": {},
   "outputs": [],
   "source": [
    "xxx = {'Request Large Bulky Item Collection': 542, 'Noise': 37, 'Missed Collection (All Materials)': 36, 'DOOR/WINDOW': 36, 'Blocked Driveway': 39, 'PLUMBING': 36, 'SAFETY': 36, 'Illegal Parking': 73, 'FLOORING/STAIRS': 36, 'HEAT/HOT WATER': 36, 'ELECTRIC': 36, 'Lead': 1, 'Sewer': 1, 'Water Conservation': 1, 'Water System': 2, 'DOF Property - Reduction Issue': 1, 'Rodent': 1, 'Derelict Vehicle': 3, 'Street Light Condition': 5, 'Street Condition': 8, 'Window Guard': 1, 'Building/Use': 1, 'Noise - Residential': 1, 'General Construction/Plumbing': 1, 'Investigations and Discipline (IAD)': 2, 'Plumbing': 2, 'Bus Stop Shelter Complaint': 1, 'Street Sign - Missing': 1, 'DHS Advantage - Tenant': 1}"
   ]
  },
  {
   "cell_type": "code",
   "execution_count": null,
   "metadata": {},
   "outputs": [],
   "source": [
    "xxx"
   ]
  },
  {
   "cell_type": "code",
   "execution_count": null,
   "metadata": {},
   "outputs": [],
   "source": []
  }
 ],
 "metadata": {
  "kernelspec": {
   "display_name": "Python 3",
   "language": "python",
   "name": "python3"
  },
  "language_info": {
   "codemirror_mode": {
    "name": "ipython",
    "version": 3
   },
   "file_extension": ".py",
   "mimetype": "text/x-python",
   "name": "python",
   "nbconvert_exporter": "python",
   "pygments_lexer": "ipython3",
   "version": "3.7.1"
  }
 },
 "nbformat": 4,
 "nbformat_minor": 2
}
