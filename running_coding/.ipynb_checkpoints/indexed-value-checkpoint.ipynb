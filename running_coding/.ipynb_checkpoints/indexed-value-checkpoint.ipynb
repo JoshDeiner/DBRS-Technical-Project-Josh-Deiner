{
 "cells": [
  {
   "cell_type": "code",
   "execution_count": 13,
   "metadata": {},
   "outputs": [],
   "source": [
    "# complainer- index\n",
    "\n",
    "import pandas as pd #\n",
    "import numpy as np #\n",
    "\n",
    "import import_ipynb\n",
    "import Actions\n",
    "%run Actions.ipynb\n",
    "\n",
    "# from Actions import zip_files_df # maybe don't need to be recreated this way\n",
    "from . import zip_files_df\n",
    "from . import new_group_boroughs_by_zips # maybe don't need to be recreated this way\n",
    "from . import define_base_obj_to_use\n",
    "\n",
    "\n"
   ]
  },
  {
   "cell_type": "code",
   "execution_count": 4,
   "metadata": {},
   "outputs": [],
   "source": [
    "\n",
    "\n",
    "total_complaints_borough = city_data_file_read.groupby(\"Borough\").size().to_dict()\n",
    "popular_complaints = pd.Series(main_data_dataframe.groupby('Complaint Type').size().sort_values(ascending=False))\n",
    "top_ten_pop_complaints = pd.Series(popular_complaints[:10])\n",
    "complaints_tops_names = top_ten_pop_complaints.keys()\n",
    "\n"
   ]
  },
  {
   "cell_type": "code",
   "execution_count": 5,
   "metadata": {},
   "outputs": [],
   "source": [
    "def define_borough_zipcodes_obj(): ### check if worked\n",
    "    si_zips = pd.Series(new_group_boroughs_by_zips()['STATEN ISLAND'])\n",
    "    bronx_zips = pd.Series(new_group_boroughs_by_zips()['BRONX'])\n",
    "    queens_zips = pd.Series(new_group_boroughs_by_zips()['QUEENS'])\n",
    "    brooklyn_zips = pd.Series(new_group_boroughs_by_zips()['BROOKLYN'])\n",
    "    manhattan_zips = pd.Series(new_group_boroughs_by_zips()['MANHATTAN'])\n",
    "    \n",
    "    borough_zipcodes_obj = {\n",
    "    \"BRONX\": (bronx_zips).dropna().unique(),\n",
    "    \"QUEENS\": (queens_zips).dropna().unique(), \n",
    "    \"MANHATTAN\": (manhattan_zips).dropna().unique(), \n",
    "    \"BROOKLYN\" : (brooklyn_zips).dropna().unique(), \n",
    "    \"STATEN ISLAND\": (si_zips).dropna().unique()\n",
    "        }\n",
    "    return(borough_zipcodes_obj)\n",
    "#     return borough_zipcodes_obj"
   ]
  },
  {
   "cell_type": "code",
   "execution_count": 6,
   "metadata": {},
   "outputs": [],
   "source": [
    "# define_borough_zipcodes_obj()['STATEN ISLAND']\n"
   ]
  },
  {
   "cell_type": "code",
   "execution_count": 7,
   "metadata": {},
   "outputs": [],
   "source": [
    "\n",
    "\n",
    "\n",
    "\n",
    "# zipcodes_array = [si_zipcodes_array, manhattan_zipcodes_array, bronx_zipcodes_array, queens_zipcodes_array, ]\n",
    "\n",
    "\n"
   ]
  },
  {
   "cell_type": "code",
   "execution_count": 8,
   "metadata": {},
   "outputs": [],
   "source": [
    "def count_nyc_people(): \n",
    "    borough_obj_counter= {\n",
    "    \"MANHATTAN\": 0,\n",
    "    \"BROOKLYN\": 0,\n",
    "    \"QUEENS\": 0,\n",
    "    \"STATEN ISLAND\": 0,\n",
    "    \"BRONX\": 0\n",
    "    } \n",
    "    \n",
    "    for bk in define_borough_zipcodes_obj()['BROOKLYN']:\n",
    "        borough_obj_counter[\"BROOKLYN\"] += zip_files_df['Zip'][bk]\n",
    "    \n",
    "    for q in define_borough_zipcodes_obj()['QUEENS']:\n",
    "        borough_obj_counter[\"QUEENS\"] += zip_files_df['Zip'][q]\n",
    "    \n",
    "    for br in define_borough_zipcodes_obj()['BRONX']:\n",
    "        borough_obj_counter[\"BRONX\"] += zip_files_df['Zip'][br]\n",
    "    \n",
    "    for manh in define_borough_zipcodes_obj()['MANHATTAN']:\n",
    "        borough_obj_counter[\"MANHATTAN\"] += zip_files_df['Zip'][manh]\n",
    "    \n",
    "    for si in define_borough_zipcodes_obj()['STATEN ISLAND']:\n",
    "        borough_obj_counter[\"STATEN ISLAND\"] += zip_files_df['Zip'][si]\n",
    "    return (borough_obj_counter)"
   ]
  },
  {
   "cell_type": "code",
   "execution_count": null,
   "metadata": {},
   "outputs": [],
   "source": [
    "\n"
   ]
  },
  {
   "cell_type": "code",
   "execution_count": 9,
   "metadata": {},
   "outputs": [],
   "source": [
    "\n",
    "\n",
    "## variables for population count\n",
    "\n",
    "# ************** ******************************\n",
    "# consider getting rid of global vars \n",
    "# perhaps have function that iteratively makes the dfs and makes use of variables\n",
    "\n",
    "queens_people = count_nyc_people()[\"QUEENS\"]\n"
   ]
  },
  {
   "cell_type": "code",
   "execution_count": 10,
   "metadata": {},
   "outputs": [],
   "source": [
    "### dataframes with the borough population numbers and index\n",
    "######## *************\n",
    "\n",
    "complainer_totals = {\n",
    "    'BROOKLYN': int(total_complaints_borough['BROOKLYN']),\n",
    "    'QUEENS': int(total_complaints_borough['QUEENS']),\n",
    "    'BRONX': int(total_complaints_borough['BRONX']),\n",
    "    'STATEN ISLAND': int(total_complaints_borough['STATEN ISLAND']),\n",
    "    'MANHATTAN': int(total_complaints_borough['MANHATTAN'])    \n",
    "}\n",
    "\n",
    "brooklyn_populace = pd.DataFrame( ## brooklyn \n",
    "    {\n",
    "        \"Borough\": \"BROOKLYN\",\n",
    "        \"Complainer Totals\": complainer_totals[\"BROOKLYN\"], \n",
    "        \"Population\": count_nyc_people()[\"BROOKLYN\"], \n",
    "        \"Complainer-Index\": complainer_totals[\"BROOKLYN\"]/int(count_nyc_people()[\"BROOKLYN\"])\n",
    "    }, index={0}\n",
    ")\n",
    "\n",
    "\n",
    "queens_populace = pd.DataFrame( ## queens \n",
    "    {\n",
    "        \"Borough\": \"QUEENS\",\n",
    "        \"Complainer Totals\": complainer_totals[\"QUEENS\"], \n",
    "        \"Population\": count_nyc_people()[\"QUEENS\"], \n",
    "        \"Complainer-Index\": complainer_totals[\"QUEENS\"]/int(count_nyc_people()[\"QUEENS\"])\n",
    "        \n",
    "        \n",
    "    }, index={1}\n",
    ")\n",
    "\n",
    "bronx_populace = pd.DataFrame( ## bronx \n",
    "    {\n",
    "        \"Borough\": \"BRONX\",\n",
    "        \"Complainer Totals\": complainer_totals[\"BRONX\"], \n",
    "        \"Population\": count_nyc_people()[\"STATEN ISLAND\"], \n",
    "        \"Complainer-Index\": complainer_totals[\"BRONX\"]/int(count_nyc_people()[\"BRONX\"])\n",
    "        \n",
    "    }, index={2}\n",
    ")\n",
    "\n",
    "si_populace = pd.DataFrame( ## staten island \n",
    "    {\n",
    "        \"Borough\": \"STATEN ISLAND\",\n",
    "        \"Complainer Totals\": complainer_totals[\"STATEN ISLAND\"], \n",
    "        \"Population\": count_nyc_people()[\"STATEN ISLAND\"],\n",
    "        \"Complainer-Index\": complainer_totals[\"STATEN ISLAND\"]/int(count_nyc_people()[\"STATEN ISLAND\"])\n",
    "        \n",
    "    }, index={3}\n",
    ")\n",
    "\n",
    "manhattan_populace = pd.DataFrame( ## staten island \n",
    "    {\n",
    "        \"Borough\": \"MANHATTAN\",\n",
    "        \"Complainer Totals\": total_complaints_borough[\"MANHATTAN\"], \n",
    "        \"Population\": count_nyc_people()[\"MANHATTAN\"], \n",
    "        \"Complainer-Index\": complainer_totals[\"MANHATTAN\"]/int(count_nyc_people()[\"MANHATTAN\"])\n",
    "        \n",
    "    }, index={4}\n",
    ")\n",
    "\n",
    "\n"
   ]
  },
  {
   "cell_type": "code",
   "execution_count": 11,
   "metadata": {},
   "outputs": [],
   "source": [
    "all_boroughs = brooklyn_populace.append([queens_populace, bronx_populace, si_populace, manhattan_populace])\n"
   ]
  },
  {
   "cell_type": "code",
   "execution_count": 12,
   "metadata": {
    "scrolled": true
   },
   "outputs": [
    {
     "data": {
      "text/html": [
       "<div>\n",
       "<style scoped>\n",
       "    .dataframe tbody tr th:only-of-type {\n",
       "        vertical-align: middle;\n",
       "    }\n",
       "\n",
       "    .dataframe tbody tr th {\n",
       "        vertical-align: top;\n",
       "    }\n",
       "\n",
       "    .dataframe thead th {\n",
       "        text-align: right;\n",
       "    }\n",
       "</style>\n",
       "<table border=\"1\" class=\"dataframe\">\n",
       "  <thead>\n",
       "    <tr style=\"text-align: right;\">\n",
       "      <th></th>\n",
       "      <th>Borough</th>\n",
       "      <th>Complainer Totals</th>\n",
       "      <th>Population</th>\n",
       "      <th>Complainer-Index</th>\n",
       "    </tr>\n",
       "  </thead>\n",
       "  <tbody>\n",
       "    <tr>\n",
       "      <th>0</th>\n",
       "      <td>BROOKLYN</td>\n",
       "      <td>14437</td>\n",
       "      <td>1371441</td>\n",
       "      <td>0.010527</td>\n",
       "    </tr>\n",
       "    <tr>\n",
       "      <th>1</th>\n",
       "      <td>QUEENS</td>\n",
       "      <td>11108</td>\n",
       "      <td>2211810</td>\n",
       "      <td>0.005022</td>\n",
       "    </tr>\n",
       "    <tr>\n",
       "      <th>2</th>\n",
       "      <td>BRONX</td>\n",
       "      <td>8699</td>\n",
       "      <td>388342</td>\n",
       "      <td>0.010621</td>\n",
       "    </tr>\n",
       "    <tr>\n",
       "      <th>3</th>\n",
       "      <td>STATEN ISLAND</td>\n",
       "      <td>2061</td>\n",
       "      <td>388342</td>\n",
       "      <td>0.005307</td>\n",
       "    </tr>\n",
       "    <tr>\n",
       "      <th>4</th>\n",
       "      <td>MANHATTAN</td>\n",
       "      <td>7738</td>\n",
       "      <td>1295022</td>\n",
       "      <td>0.005975</td>\n",
       "    </tr>\n",
       "  </tbody>\n",
       "</table>\n",
       "</div>"
      ],
      "text/plain": [
       "         Borough  Complainer Totals  Population  Complainer-Index\n",
       "0       BROOKLYN              14437     1371441          0.010527\n",
       "1         QUEENS              11108     2211810          0.005022\n",
       "2          BRONX               8699      388342          0.010621\n",
       "3  STATEN ISLAND               2061      388342          0.005307\n",
       "4      MANHATTAN               7738     1295022          0.005975"
      ]
     },
     "execution_count": 12,
     "metadata": {},
     "output_type": "execute_result"
    }
   ],
   "source": [
    "all_boroughs"
   ]
  },
  {
   "cell_type": "code",
   "execution_count": null,
   "metadata": {},
   "outputs": [],
   "source": []
  }
 ],
 "metadata": {
  "kernelspec": {
   "display_name": "Python 3",
   "language": "python",
   "name": "python3"
  },
  "language_info": {
   "codemirror_mode": {
    "name": "ipython",
    "version": 3
   },
   "file_extension": ".py",
   "mimetype": "text/x-python",
   "name": "python",
   "nbconvert_exporter": "python",
   "pygments_lexer": "ipython3",
   "version": "3.7.1"
  }
 },
 "nbformat": 4,
 "nbformat_minor": 2
}
