{
 "cells": [
  {
   "cell_type": "code",
   "execution_count": 4,
   "metadata": {},
   "outputs": [],
   "source": [
    "import pandas as pd\n",
    "import numpy as np\n"
   ]
  },
  {
   "cell_type": "code",
   "execution_count": 5,
   "metadata": {},
   "outputs": [],
   "source": [
    "xxx = { 'Request Large Bulky Item Collection': 542,\n",
    "  'Noise': 37,\n",
    "  'Missed Collection (All Materials)': 36,\n",
    "  'DOOR/WINDOW': 36,\n",
    "  'Blocked Driveway': 39,\n",
    "  'PLUMBING': 36,\n",
    "  'SAFETY': 36,\n",
    "  'Illegal Parking': 73,\n",
    "  'FLOORING/STAIRS': 36,\n",
    "  'HEAT/HOT WATER': 36,\n",
    "  'ELECTRIC': 36,\n",
    "  'Lead': 1,\n",
    "  'Sewer': 1,\n",
    "  'Water Conservation': 1,\n",
    "  'Water System': 2,\n",
    "  'DOF Property - Reduction Issue': 1,\n",
    "  'Rodent': 1,\n",
    "  'Derelict Vehicle': 3,\n",
    "  'Street Light Condition': 5,\n",
    "  'Street Condition': 8,\n",
    "  'Window Guard': 1,\n",
    "  'Building/Use': 1,\n",
    "  'Noise - Residential': 1,\n",
    "  'General Construction/Plumbing': 1,\n",
    "  'Investigations and Discipline (IAD)': 2,\n",
    "  'Plumbing': 2,\n",
    "  'Bus Stop Shelter Complaint': 1,\n",
    "  'Street Sign - Missing': 1,\n",
    "  'DHS Advantage - Tenant': 1 }"
   ]
  },
  {
   "cell_type": "code",
   "execution_count": 3,
   "metadata": {},
   "outputs": [
    {
     "data": {
      "text/plain": [
       "{'Request Large Bulky Item Collection': 542,\n",
       " 'Noise': 37,\n",
       " 'Missed Collection (All Materials)': 36,\n",
       " 'DOOR/WINDOW': 36,\n",
       " 'Blocked Driveway': 39,\n",
       " 'PLUMBING': 36,\n",
       " 'SAFETY': 36,\n",
       " 'Illegal Parking': 73,\n",
       " 'FLOORING/STAIRS': 36,\n",
       " 'HEAT/HOT WATER': 36,\n",
       " 'ELECTRIC': 36,\n",
       " 'Lead': 1,\n",
       " 'Sewer': 1,\n",
       " 'Water Conservation': 1,\n",
       " 'Water System': 2,\n",
       " 'DOF Property - Reduction Issue': 1,\n",
       " 'Rodent': 1,\n",
       " 'Derelict Vehicle': 3,\n",
       " 'Street Light Condition': 5,\n",
       " 'Street Condition': 8,\n",
       " 'Window Guard': 1,\n",
       " 'Building/Use': 1,\n",
       " 'Noise - Residential': 1,\n",
       " 'General Construction/Plumbing': 1,\n",
       " 'Investigations and Discipline (IAD)': 2,\n",
       " 'Plumbing': 2,\n",
       " 'Bus Stop Shelter Complaint': 1,\n",
       " 'Street Sign - Missing': 1,\n",
       " 'DHS Advantage - Tenant': 1}"
      ]
     },
     "execution_count": 3,
     "metadata": {},
     "output_type": "execute_result"
    }
   ],
   "source": [
    "xxx"
   ]
  },
  {
   "cell_type": "code",
   "execution_count": 21,
   "metadata": {},
   "outputs": [
    {
     "name": "stdout",
     "output_type": "stream",
     "text": [
      "                                     Complaint\n",
      "Request Large Bulky Item Collection        542\n",
      "Noise                                       37\n",
      "Missed Collection (All Materials)           36\n",
      "DOOR/WINDOW                                 36\n",
      "Blocked Driveway                            39\n",
      "PLUMBING                                    36\n",
      "SAFETY                                      36\n",
      "Illegal Parking                             73\n",
      "FLOORING/STAIRS                             36\n",
      "HEAT/HOT WATER                              36\n",
      "ELECTRIC                                    36\n",
      "Lead                                         1\n",
      "Sewer                                        1\n",
      "Water Conservation                           1\n",
      "Water System                                 2\n",
      "DOF Property - Reduction Issue               1\n",
      "Rodent                                       1\n",
      "Derelict Vehicle                             3\n",
      "Street Light Condition                       5\n",
      "Street Condition                             8\n",
      "Window Guard                                 1\n",
      "Building/Use                                 1\n",
      "Noise - Residential                          1\n",
      "General Construction/Plumbing                1\n",
      "Investigations and Discipline (IAD)          2\n",
      "Plumbing                                     2\n",
      "Bus Stop Shelter Complaint                   1\n",
      "Street Sign - Missing                        1\n",
      "DHS Advantage - Tenant                       1\n"
     ]
    },
    {
     "data": {
      "text/plain": [
       "Complaint\n",
       "1      12\n",
       "2       3\n",
       "3       1\n",
       "5       1\n",
       "8       1\n",
       "36      7\n",
       "37      1\n",
       "39      1\n",
       "73      1\n",
       "542     1\n",
       "dtype: int64"
      ]
     },
     "execution_count": 21,
     "metadata": {},
     "output_type": "execute_result"
    }
   ],
   "source": [
    "xmcm = pd.DataFrame.from_dict(xxx, orient='index', columns = ['Complaint'])\n",
    "\n",
    "print(xmcm)\n",
    "# popular_complaints = pd.Series(deer.groupby('Complaint Type').size())\n",
    "xmcm.groupby('Complaint').size()"
   ]
  },
  {
   "cell_type": "code",
   "execution_count": null,
   "metadata": {},
   "outputs": [],
   "source": []
  }
 ],
 "metadata": {
  "kernelspec": {
   "display_name": "Python 3",
   "language": "python",
   "name": "python3"
  },
  "language_info": {
   "codemirror_mode": {
    "name": "ipython",
    "version": 3
   },
   "file_extension": ".py",
   "mimetype": "text/x-python",
   "name": "python",
   "nbconvert_exporter": "python",
   "pygments_lexer": "ipython3",
   "version": "3.7.1"
  }
 },
 "nbformat": 4,
 "nbformat_minor": 2
}
